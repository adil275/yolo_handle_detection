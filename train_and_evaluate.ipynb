{
 "cells": [
  {
   "cell_type": "markdown",
   "metadata": {},
   "source": [
    "## Using Ultralytics to import the Yolo V12. "
   ]
  },
  {
   "cell_type": "code",
   "execution_count": null,
   "metadata": {},
   "outputs": [
    {
     "name": "stdout",
     "output_type": "stream",
     "text": [
      "YOLO(\n",
      "  (model): DetectionModel(\n",
      "    (model): Sequential(\n",
      "      (0): Conv(\n",
      "        (conv): Conv2d(3, 16, kernel_size=(3, 3), stride=(2, 2), padding=(1, 1), bias=False)\n",
      "        (bn): BatchNorm2d(16, eps=0.001, momentum=0.03, affine=True, track_running_stats=True)\n",
      "        (act): SiLU(inplace=True)\n",
      "      )\n",
      "      (1): Conv(\n",
      "        (conv): Conv2d(16, 32, kernel_size=(3, 3), stride=(2, 2), padding=(1, 1), groups=2, bias=False)\n",
      "        (bn): BatchNorm2d(32, eps=0.001, momentum=0.03, affine=True, track_running_stats=True)\n",
      "        (act): SiLU(inplace=True)\n",
      "      )\n",
      "      (2): C3k2(\n",
      "        (cv1): Conv(\n",
      "          (conv): Conv2d(32, 32, kernel_size=(1, 1), stride=(1, 1), bias=False)\n",
      "          (bn): BatchNorm2d(32, eps=0.001, momentum=0.03, affine=True, track_running_stats=True)\n",
      "          (act): SiLU(inplace=True)\n",
      "        )\n",
      "        (cv2): Conv(\n",
      "          (conv): Conv2d(48, 64, kernel_size=(1, 1), stride=(1, 1), bias=False)\n",
      "          (bn): BatchNorm2d(64, eps=0.001, momentum=0.03, affine=True, track_running_stats=True)\n",
      "          (act): SiLU(inplace=True)\n",
      "        )\n",
      "        (m): ModuleList(\n",
      "          (0): Bottleneck(\n",
      "            (cv1): Conv(\n",
      "              (conv): Conv2d(16, 8, kernel_size=(3, 3), stride=(1, 1), padding=(1, 1), bias=False)\n",
      "              (bn): BatchNorm2d(8, eps=0.001, momentum=0.03, affine=True, track_running_stats=True)\n",
      "              (act): SiLU(inplace=True)\n",
      "            )\n",
      "            (cv2): Conv(\n",
      "              (conv): Conv2d(8, 16, kernel_size=(3, 3), stride=(1, 1), padding=(1, 1), bias=False)\n",
      "              (bn): BatchNorm2d(16, eps=0.001, momentum=0.03, affine=True, track_running_stats=True)\n",
      "              (act): SiLU(inplace=True)\n",
      "            )\n",
      "          )\n",
      "        )\n",
      "      )\n",
      "      (3): Conv(\n",
      "        (conv): Conv2d(64, 64, kernel_size=(3, 3), stride=(2, 2), padding=(1, 1), groups=4, bias=False)\n",
      "        (bn): BatchNorm2d(64, eps=0.001, momentum=0.03, affine=True, track_running_stats=True)\n",
      "        (act): SiLU(inplace=True)\n",
      "      )\n",
      "      (4): C3k2(\n",
      "        (cv1): Conv(\n",
      "          (conv): Conv2d(64, 64, kernel_size=(1, 1), stride=(1, 1), bias=False)\n",
      "          (bn): BatchNorm2d(64, eps=0.001, momentum=0.03, affine=True, track_running_stats=True)\n",
      "          (act): SiLU(inplace=True)\n",
      "        )\n",
      "        (cv2): Conv(\n",
      "          (conv): Conv2d(96, 128, kernel_size=(1, 1), stride=(1, 1), bias=False)\n",
      "          (bn): BatchNorm2d(128, eps=0.001, momentum=0.03, affine=True, track_running_stats=True)\n",
      "          (act): SiLU(inplace=True)\n",
      "        )\n",
      "        (m): ModuleList(\n",
      "          (0): Bottleneck(\n",
      "            (cv1): Conv(\n",
      "              (conv): Conv2d(32, 16, kernel_size=(3, 3), stride=(1, 1), padding=(1, 1), bias=False)\n",
      "              (bn): BatchNorm2d(16, eps=0.001, momentum=0.03, affine=True, track_running_stats=True)\n",
      "              (act): SiLU(inplace=True)\n",
      "            )\n",
      "            (cv2): Conv(\n",
      "              (conv): Conv2d(16, 32, kernel_size=(3, 3), stride=(1, 1), padding=(1, 1), bias=False)\n",
      "              (bn): BatchNorm2d(32, eps=0.001, momentum=0.03, affine=True, track_running_stats=True)\n",
      "              (act): SiLU(inplace=True)\n",
      "            )\n",
      "          )\n",
      "        )\n",
      "      )\n",
      "      (5): Conv(\n",
      "        (conv): Conv2d(128, 128, kernel_size=(3, 3), stride=(2, 2), padding=(1, 1), bias=False)\n",
      "        (bn): BatchNorm2d(128, eps=0.001, momentum=0.03, affine=True, track_running_stats=True)\n",
      "        (act): SiLU(inplace=True)\n",
      "      )\n",
      "      (6): A2C2f(\n",
      "        (cv1): Conv(\n",
      "          (conv): Conv2d(128, 64, kernel_size=(1, 1), stride=(1, 1), bias=False)\n",
      "          (bn): BatchNorm2d(64, eps=0.001, momentum=0.03, affine=True, track_running_stats=True)\n",
      "          (act): SiLU(inplace=True)\n",
      "        )\n",
      "        (cv2): Conv(\n",
      "          (conv): Conv2d(192, 128, kernel_size=(1, 1), stride=(1, 1), bias=False)\n",
      "          (bn): BatchNorm2d(128, eps=0.001, momentum=0.03, affine=True, track_running_stats=True)\n",
      "          (act): SiLU(inplace=True)\n",
      "        )\n",
      "        (m): ModuleList(\n",
      "          (0-1): 2 x Sequential(\n",
      "            (0): ABlock(\n",
      "              (attn): AAttn(\n",
      "                (qk): Conv(\n",
      "                  (conv): Conv2d(64, 128, kernel_size=(1, 1), stride=(1, 1), bias=False)\n",
      "                  (bn): BatchNorm2d(128, eps=0.001, momentum=0.03, affine=True, track_running_stats=True)\n",
      "                  (act): Identity()\n",
      "                )\n",
      "                (v): Conv(\n",
      "                  (conv): Conv2d(64, 64, kernel_size=(1, 1), stride=(1, 1), bias=False)\n",
      "                  (bn): BatchNorm2d(64, eps=0.001, momentum=0.03, affine=True, track_running_stats=True)\n",
      "                  (act): Identity()\n",
      "                )\n",
      "                (proj): Conv(\n",
      "                  (conv): Conv2d(64, 64, kernel_size=(1, 1), stride=(1, 1), bias=False)\n",
      "                  (bn): BatchNorm2d(64, eps=0.001, momentum=0.03, affine=True, track_running_stats=True)\n",
      "                  (act): Identity()\n",
      "                )\n",
      "                (pe): Conv(\n",
      "                  (conv): Conv2d(64, 64, kernel_size=(5, 5), stride=(1, 1), padding=(2, 2), groups=64, bias=False)\n",
      "                  (bn): BatchNorm2d(64, eps=0.001, momentum=0.03, affine=True, track_running_stats=True)\n",
      "                  (act): Identity()\n",
      "                )\n",
      "              )\n",
      "              (mlp): Sequential(\n",
      "                (0): Conv(\n",
      "                  (conv): Conv2d(64, 128, kernel_size=(1, 1), stride=(1, 1), bias=False)\n",
      "                  (bn): BatchNorm2d(128, eps=0.001, momentum=0.03, affine=True, track_running_stats=True)\n",
      "                  (act): SiLU(inplace=True)\n",
      "                )\n",
      "                (1): Conv(\n",
      "                  (conv): Conv2d(128, 64, kernel_size=(1, 1), stride=(1, 1), bias=False)\n",
      "                  (bn): BatchNorm2d(64, eps=0.001, momentum=0.03, affine=True, track_running_stats=True)\n",
      "                  (act): Identity()\n",
      "                )\n",
      "              )\n",
      "            )\n",
      "            (1): ABlock(\n",
      "              (attn): AAttn(\n",
      "                (qk): Conv(\n",
      "                  (conv): Conv2d(64, 128, kernel_size=(1, 1), stride=(1, 1), bias=False)\n",
      "                  (bn): BatchNorm2d(128, eps=0.001, momentum=0.03, affine=True, track_running_stats=True)\n",
      "                  (act): Identity()\n",
      "                )\n",
      "                (v): Conv(\n",
      "                  (conv): Conv2d(64, 64, kernel_size=(1, 1), stride=(1, 1), bias=False)\n",
      "                  (bn): BatchNorm2d(64, eps=0.001, momentum=0.03, affine=True, track_running_stats=True)\n",
      "                  (act): Identity()\n",
      "                )\n",
      "                (proj): Conv(\n",
      "                  (conv): Conv2d(64, 64, kernel_size=(1, 1), stride=(1, 1), bias=False)\n",
      "                  (bn): BatchNorm2d(64, eps=0.001, momentum=0.03, affine=True, track_running_stats=True)\n",
      "                  (act): Identity()\n",
      "                )\n",
      "                (pe): Conv(\n",
      "                  (conv): Conv2d(64, 64, kernel_size=(5, 5), stride=(1, 1), padding=(2, 2), groups=64, bias=False)\n",
      "                  (bn): BatchNorm2d(64, eps=0.001, momentum=0.03, affine=True, track_running_stats=True)\n",
      "                  (act): Identity()\n",
      "                )\n",
      "              )\n",
      "              (mlp): Sequential(\n",
      "                (0): Conv(\n",
      "                  (conv): Conv2d(64, 128, kernel_size=(1, 1), stride=(1, 1), bias=False)\n",
      "                  (bn): BatchNorm2d(128, eps=0.001, momentum=0.03, affine=True, track_running_stats=True)\n",
      "                  (act): SiLU(inplace=True)\n",
      "                )\n",
      "                (1): Conv(\n",
      "                  (conv): Conv2d(128, 64, kernel_size=(1, 1), stride=(1, 1), bias=False)\n",
      "                  (bn): BatchNorm2d(64, eps=0.001, momentum=0.03, affine=True, track_running_stats=True)\n",
      "                  (act): Identity()\n",
      "                )\n",
      "              )\n",
      "            )\n",
      "          )\n",
      "        )\n",
      "      )\n",
      "      (7): Conv(\n",
      "        (conv): Conv2d(128, 256, kernel_size=(3, 3), stride=(2, 2), padding=(1, 1), bias=False)\n",
      "        (bn): BatchNorm2d(256, eps=0.001, momentum=0.03, affine=True, track_running_stats=True)\n",
      "        (act): SiLU(inplace=True)\n",
      "      )\n",
      "      (8): A2C2f(\n",
      "        (cv1): Conv(\n",
      "          (conv): Conv2d(256, 128, kernel_size=(1, 1), stride=(1, 1), bias=False)\n",
      "          (bn): BatchNorm2d(128, eps=0.001, momentum=0.03, affine=True, track_running_stats=True)\n",
      "          (act): SiLU(inplace=True)\n",
      "        )\n",
      "        (cv2): Conv(\n",
      "          (conv): Conv2d(384, 256, kernel_size=(1, 1), stride=(1, 1), bias=False)\n",
      "          (bn): BatchNorm2d(256, eps=0.001, momentum=0.03, affine=True, track_running_stats=True)\n",
      "          (act): SiLU(inplace=True)\n",
      "        )\n",
      "        (m): ModuleList(\n",
      "          (0-1): 2 x Sequential(\n",
      "            (0): ABlock(\n",
      "              (attn): AAttn(\n",
      "                (qk): Conv(\n",
      "                  (conv): Conv2d(128, 256, kernel_size=(1, 1), stride=(1, 1), bias=False)\n",
      "                  (bn): BatchNorm2d(256, eps=0.001, momentum=0.03, affine=True, track_running_stats=True)\n",
      "                  (act): Identity()\n",
      "                )\n",
      "                (v): Conv(\n",
      "                  (conv): Conv2d(128, 128, kernel_size=(1, 1), stride=(1, 1), bias=False)\n",
      "                  (bn): BatchNorm2d(128, eps=0.001, momentum=0.03, affine=True, track_running_stats=True)\n",
      "                  (act): Identity()\n",
      "                )\n",
      "                (proj): Conv(\n",
      "                  (conv): Conv2d(128, 128, kernel_size=(1, 1), stride=(1, 1), bias=False)\n",
      "                  (bn): BatchNorm2d(128, eps=0.001, momentum=0.03, affine=True, track_running_stats=True)\n",
      "                  (act): Identity()\n",
      "                )\n",
      "                (pe): Conv(\n",
      "                  (conv): Conv2d(128, 128, kernel_size=(5, 5), stride=(1, 1), padding=(2, 2), groups=128, bias=False)\n",
      "                  (bn): BatchNorm2d(128, eps=0.001, momentum=0.03, affine=True, track_running_stats=True)\n",
      "                  (act): Identity()\n",
      "                )\n",
      "              )\n",
      "              (mlp): Sequential(\n",
      "                (0): Conv(\n",
      "                  (conv): Conv2d(128, 256, kernel_size=(1, 1), stride=(1, 1), bias=False)\n",
      "                  (bn): BatchNorm2d(256, eps=0.001, momentum=0.03, affine=True, track_running_stats=True)\n",
      "                  (act): SiLU(inplace=True)\n",
      "                )\n",
      "                (1): Conv(\n",
      "                  (conv): Conv2d(256, 128, kernel_size=(1, 1), stride=(1, 1), bias=False)\n",
      "                  (bn): BatchNorm2d(128, eps=0.001, momentum=0.03, affine=True, track_running_stats=True)\n",
      "                  (act): Identity()\n",
      "                )\n",
      "              )\n",
      "            )\n",
      "            (1): ABlock(\n",
      "              (attn): AAttn(\n",
      "                (qk): Conv(\n",
      "                  (conv): Conv2d(128, 256, kernel_size=(1, 1), stride=(1, 1), bias=False)\n",
      "                  (bn): BatchNorm2d(256, eps=0.001, momentum=0.03, affine=True, track_running_stats=True)\n",
      "                  (act): Identity()\n",
      "                )\n",
      "                (v): Conv(\n",
      "                  (conv): Conv2d(128, 128, kernel_size=(1, 1), stride=(1, 1), bias=False)\n",
      "                  (bn): BatchNorm2d(128, eps=0.001, momentum=0.03, affine=True, track_running_stats=True)\n",
      "                  (act): Identity()\n",
      "                )\n",
      "                (proj): Conv(\n",
      "                  (conv): Conv2d(128, 128, kernel_size=(1, 1), stride=(1, 1), bias=False)\n",
      "                  (bn): BatchNorm2d(128, eps=0.001, momentum=0.03, affine=True, track_running_stats=True)\n",
      "                  (act): Identity()\n",
      "                )\n",
      "                (pe): Conv(\n",
      "                  (conv): Conv2d(128, 128, kernel_size=(5, 5), stride=(1, 1), padding=(2, 2), groups=128, bias=False)\n",
      "                  (bn): BatchNorm2d(128, eps=0.001, momentum=0.03, affine=True, track_running_stats=True)\n",
      "                  (act): Identity()\n",
      "                )\n",
      "              )\n",
      "              (mlp): Sequential(\n",
      "                (0): Conv(\n",
      "                  (conv): Conv2d(128, 256, kernel_size=(1, 1), stride=(1, 1), bias=False)\n",
      "                  (bn): BatchNorm2d(256, eps=0.001, momentum=0.03, affine=True, track_running_stats=True)\n",
      "                  (act): SiLU(inplace=True)\n",
      "                )\n",
      "                (1): Conv(\n",
      "                  (conv): Conv2d(256, 128, kernel_size=(1, 1), stride=(1, 1), bias=False)\n",
      "                  (bn): BatchNorm2d(128, eps=0.001, momentum=0.03, affine=True, track_running_stats=True)\n",
      "                  (act): Identity()\n",
      "                )\n",
      "              )\n",
      "            )\n",
      "          )\n",
      "        )\n",
      "      )\n",
      "      (9): Upsample(scale_factor=2.0, mode='nearest')\n",
      "      (10): Concat()\n",
      "      (11): A2C2f(\n",
      "        (cv1): Conv(\n",
      "          (conv): Conv2d(384, 64, kernel_size=(1, 1), stride=(1, 1), bias=False)\n",
      "          (bn): BatchNorm2d(64, eps=0.001, momentum=0.03, affine=True, track_running_stats=True)\n",
      "          (act): SiLU(inplace=True)\n",
      "        )\n",
      "        (cv2): Conv(\n",
      "          (conv): Conv2d(128, 128, kernel_size=(1, 1), stride=(1, 1), bias=False)\n",
      "          (bn): BatchNorm2d(128, eps=0.001, momentum=0.03, affine=True, track_running_stats=True)\n",
      "          (act): SiLU(inplace=True)\n",
      "        )\n",
      "        (m): ModuleList(\n",
      "          (0): C3k(\n",
      "            (cv1): Conv(\n",
      "              (conv): Conv2d(64, 32, kernel_size=(1, 1), stride=(1, 1), bias=False)\n",
      "              (bn): BatchNorm2d(32, eps=0.001, momentum=0.03, affine=True, track_running_stats=True)\n",
      "              (act): SiLU(inplace=True)\n",
      "            )\n",
      "            (cv2): Conv(\n",
      "              (conv): Conv2d(64, 32, kernel_size=(1, 1), stride=(1, 1), bias=False)\n",
      "              (bn): BatchNorm2d(32, eps=0.001, momentum=0.03, affine=True, track_running_stats=True)\n",
      "              (act): SiLU(inplace=True)\n",
      "            )\n",
      "            (cv3): Conv(\n",
      "              (conv): Conv2d(64, 64, kernel_size=(1, 1), stride=(1, 1), bias=False)\n",
      "              (bn): BatchNorm2d(64, eps=0.001, momentum=0.03, affine=True, track_running_stats=True)\n",
      "              (act): SiLU(inplace=True)\n",
      "            )\n",
      "            (m): Sequential(\n",
      "              (0): Bottleneck(\n",
      "                (cv1): Conv(\n",
      "                  (conv): Conv2d(32, 32, kernel_size=(3, 3), stride=(1, 1), padding=(1, 1), bias=False)\n",
      "                  (bn): BatchNorm2d(32, eps=0.001, momentum=0.03, affine=True, track_running_stats=True)\n",
      "                  (act): SiLU(inplace=True)\n",
      "                )\n",
      "                (cv2): Conv(\n",
      "                  (conv): Conv2d(32, 32, kernel_size=(3, 3), stride=(1, 1), padding=(1, 1), bias=False)\n",
      "                  (bn): BatchNorm2d(32, eps=0.001, momentum=0.03, affine=True, track_running_stats=True)\n",
      "                  (act): SiLU(inplace=True)\n",
      "                )\n",
      "              )\n",
      "              (1): Bottleneck(\n",
      "                (cv1): Conv(\n",
      "                  (conv): Conv2d(32, 32, kernel_size=(3, 3), stride=(1, 1), padding=(1, 1), bias=False)\n",
      "                  (bn): BatchNorm2d(32, eps=0.001, momentum=0.03, affine=True, track_running_stats=True)\n",
      "                  (act): SiLU(inplace=True)\n",
      "                )\n",
      "                (cv2): Conv(\n",
      "                  (conv): Conv2d(32, 32, kernel_size=(3, 3), stride=(1, 1), padding=(1, 1), bias=False)\n",
      "                  (bn): BatchNorm2d(32, eps=0.001, momentum=0.03, affine=True, track_running_stats=True)\n",
      "                  (act): SiLU(inplace=True)\n",
      "                )\n",
      "              )\n",
      "            )\n",
      "          )\n",
      "        )\n",
      "      )\n",
      "      (12): Upsample(scale_factor=2.0, mode='nearest')\n",
      "      (13): Concat()\n",
      "      (14): A2C2f(\n",
      "        (cv1): Conv(\n",
      "          (conv): Conv2d(256, 32, kernel_size=(1, 1), stride=(1, 1), bias=False)\n",
      "          (bn): BatchNorm2d(32, eps=0.001, momentum=0.03, affine=True, track_running_stats=True)\n",
      "          (act): SiLU(inplace=True)\n",
      "        )\n",
      "        (cv2): Conv(\n",
      "          (conv): Conv2d(64, 64, kernel_size=(1, 1), stride=(1, 1), bias=False)\n",
      "          (bn): BatchNorm2d(64, eps=0.001, momentum=0.03, affine=True, track_running_stats=True)\n",
      "          (act): SiLU(inplace=True)\n",
      "        )\n",
      "        (m): ModuleList(\n",
      "          (0): C3k(\n",
      "            (cv1): Conv(\n",
      "              (conv): Conv2d(32, 16, kernel_size=(1, 1), stride=(1, 1), bias=False)\n",
      "              (bn): BatchNorm2d(16, eps=0.001, momentum=0.03, affine=True, track_running_stats=True)\n",
      "              (act): SiLU(inplace=True)\n",
      "            )\n",
      "            (cv2): Conv(\n",
      "              (conv): Conv2d(32, 16, kernel_size=(1, 1), stride=(1, 1), bias=False)\n",
      "              (bn): BatchNorm2d(16, eps=0.001, momentum=0.03, affine=True, track_running_stats=True)\n",
      "              (act): SiLU(inplace=True)\n",
      "            )\n",
      "            (cv3): Conv(\n",
      "              (conv): Conv2d(32, 32, kernel_size=(1, 1), stride=(1, 1), bias=False)\n",
      "              (bn): BatchNorm2d(32, eps=0.001, momentum=0.03, affine=True, track_running_stats=True)\n",
      "              (act): SiLU(inplace=True)\n",
      "            )\n",
      "            (m): Sequential(\n",
      "              (0): Bottleneck(\n",
      "                (cv1): Conv(\n",
      "                  (conv): Conv2d(16, 16, kernel_size=(3, 3), stride=(1, 1), padding=(1, 1), bias=False)\n",
      "                  (bn): BatchNorm2d(16, eps=0.001, momentum=0.03, affine=True, track_running_stats=True)\n",
      "                  (act): SiLU(inplace=True)\n",
      "                )\n",
      "                (cv2): Conv(\n",
      "                  (conv): Conv2d(16, 16, kernel_size=(3, 3), stride=(1, 1), padding=(1, 1), bias=False)\n",
      "                  (bn): BatchNorm2d(16, eps=0.001, momentum=0.03, affine=True, track_running_stats=True)\n",
      "                  (act): SiLU(inplace=True)\n",
      "                )\n",
      "              )\n",
      "              (1): Bottleneck(\n",
      "                (cv1): Conv(\n",
      "                  (conv): Conv2d(16, 16, kernel_size=(3, 3), stride=(1, 1), padding=(1, 1), bias=False)\n",
      "                  (bn): BatchNorm2d(16, eps=0.001, momentum=0.03, affine=True, track_running_stats=True)\n",
      "                  (act): SiLU(inplace=True)\n",
      "                )\n",
      "                (cv2): Conv(\n",
      "                  (conv): Conv2d(16, 16, kernel_size=(3, 3), stride=(1, 1), padding=(1, 1), bias=False)\n",
      "                  (bn): BatchNorm2d(16, eps=0.001, momentum=0.03, affine=True, track_running_stats=True)\n",
      "                  (act): SiLU(inplace=True)\n",
      "                )\n",
      "              )\n",
      "            )\n",
      "          )\n",
      "        )\n",
      "      )\n",
      "      (15): Conv(\n",
      "        (conv): Conv2d(64, 64, kernel_size=(3, 3), stride=(2, 2), padding=(1, 1), bias=False)\n",
      "        (bn): BatchNorm2d(64, eps=0.001, momentum=0.03, affine=True, track_running_stats=True)\n",
      "        (act): SiLU(inplace=True)\n",
      "      )\n",
      "      (16): Concat()\n",
      "      (17): A2C2f(\n",
      "        (cv1): Conv(\n",
      "          (conv): Conv2d(192, 64, kernel_size=(1, 1), stride=(1, 1), bias=False)\n",
      "          (bn): BatchNorm2d(64, eps=0.001, momentum=0.03, affine=True, track_running_stats=True)\n",
      "          (act): SiLU(inplace=True)\n",
      "        )\n",
      "        (cv2): Conv(\n",
      "          (conv): Conv2d(128, 128, kernel_size=(1, 1), stride=(1, 1), bias=False)\n",
      "          (bn): BatchNorm2d(128, eps=0.001, momentum=0.03, affine=True, track_running_stats=True)\n",
      "          (act): SiLU(inplace=True)\n",
      "        )\n",
      "        (m): ModuleList(\n",
      "          (0): C3k(\n",
      "            (cv1): Conv(\n",
      "              (conv): Conv2d(64, 32, kernel_size=(1, 1), stride=(1, 1), bias=False)\n",
      "              (bn): BatchNorm2d(32, eps=0.001, momentum=0.03, affine=True, track_running_stats=True)\n",
      "              (act): SiLU(inplace=True)\n",
      "            )\n",
      "            (cv2): Conv(\n",
      "              (conv): Conv2d(64, 32, kernel_size=(1, 1), stride=(1, 1), bias=False)\n",
      "              (bn): BatchNorm2d(32, eps=0.001, momentum=0.03, affine=True, track_running_stats=True)\n",
      "              (act): SiLU(inplace=True)\n",
      "            )\n",
      "            (cv3): Conv(\n",
      "              (conv): Conv2d(64, 64, kernel_size=(1, 1), stride=(1, 1), bias=False)\n",
      "              (bn): BatchNorm2d(64, eps=0.001, momentum=0.03, affine=True, track_running_stats=True)\n",
      "              (act): SiLU(inplace=True)\n",
      "            )\n",
      "            (m): Sequential(\n",
      "              (0): Bottleneck(\n",
      "                (cv1): Conv(\n",
      "                  (conv): Conv2d(32, 32, kernel_size=(3, 3), stride=(1, 1), padding=(1, 1), bias=False)\n",
      "                  (bn): BatchNorm2d(32, eps=0.001, momentum=0.03, affine=True, track_running_stats=True)\n",
      "                  (act): SiLU(inplace=True)\n",
      "                )\n",
      "                (cv2): Conv(\n",
      "                  (conv): Conv2d(32, 32, kernel_size=(3, 3), stride=(1, 1), padding=(1, 1), bias=False)\n",
      "                  (bn): BatchNorm2d(32, eps=0.001, momentum=0.03, affine=True, track_running_stats=True)\n",
      "                  (act): SiLU(inplace=True)\n",
      "                )\n",
      "              )\n",
      "              (1): Bottleneck(\n",
      "                (cv1): Conv(\n",
      "                  (conv): Conv2d(32, 32, kernel_size=(3, 3), stride=(1, 1), padding=(1, 1), bias=False)\n",
      "                  (bn): BatchNorm2d(32, eps=0.001, momentum=0.03, affine=True, track_running_stats=True)\n",
      "                  (act): SiLU(inplace=True)\n",
      "                )\n",
      "                (cv2): Conv(\n",
      "                  (conv): Conv2d(32, 32, kernel_size=(3, 3), stride=(1, 1), padding=(1, 1), bias=False)\n",
      "                  (bn): BatchNorm2d(32, eps=0.001, momentum=0.03, affine=True, track_running_stats=True)\n",
      "                  (act): SiLU(inplace=True)\n",
      "                )\n",
      "              )\n",
      "            )\n",
      "          )\n",
      "        )\n",
      "      )\n",
      "      (18): Conv(\n",
      "        (conv): Conv2d(128, 128, kernel_size=(3, 3), stride=(2, 2), padding=(1, 1), bias=False)\n",
      "        (bn): BatchNorm2d(128, eps=0.001, momentum=0.03, affine=True, track_running_stats=True)\n",
      "        (act): SiLU(inplace=True)\n",
      "      )\n",
      "      (19): Concat()\n",
      "      (20): C3k2(\n",
      "        (cv1): Conv(\n",
      "          (conv): Conv2d(384, 256, kernel_size=(1, 1), stride=(1, 1), bias=False)\n",
      "          (bn): BatchNorm2d(256, eps=0.001, momentum=0.03, affine=True, track_running_stats=True)\n",
      "          (act): SiLU(inplace=True)\n",
      "        )\n",
      "        (cv2): Conv(\n",
      "          (conv): Conv2d(384, 256, kernel_size=(1, 1), stride=(1, 1), bias=False)\n",
      "          (bn): BatchNorm2d(256, eps=0.001, momentum=0.03, affine=True, track_running_stats=True)\n",
      "          (act): SiLU(inplace=True)\n",
      "        )\n",
      "        (m): ModuleList(\n",
      "          (0): C3k(\n",
      "            (cv1): Conv(\n",
      "              (conv): Conv2d(128, 64, kernel_size=(1, 1), stride=(1, 1), bias=False)\n",
      "              (bn): BatchNorm2d(64, eps=0.001, momentum=0.03, affine=True, track_running_stats=True)\n",
      "              (act): SiLU(inplace=True)\n",
      "            )\n",
      "            (cv2): Conv(\n",
      "              (conv): Conv2d(128, 64, kernel_size=(1, 1), stride=(1, 1), bias=False)\n",
      "              (bn): BatchNorm2d(64, eps=0.001, momentum=0.03, affine=True, track_running_stats=True)\n",
      "              (act): SiLU(inplace=True)\n",
      "            )\n",
      "            (cv3): Conv(\n",
      "              (conv): Conv2d(128, 128, kernel_size=(1, 1), stride=(1, 1), bias=False)\n",
      "              (bn): BatchNorm2d(128, eps=0.001, momentum=0.03, affine=True, track_running_stats=True)\n",
      "              (act): SiLU(inplace=True)\n",
      "            )\n",
      "            (m): Sequential(\n",
      "              (0): Bottleneck(\n",
      "                (cv1): Conv(\n",
      "                  (conv): Conv2d(64, 64, kernel_size=(3, 3), stride=(1, 1), padding=(1, 1), bias=False)\n",
      "                  (bn): BatchNorm2d(64, eps=0.001, momentum=0.03, affine=True, track_running_stats=True)\n",
      "                  (act): SiLU(inplace=True)\n",
      "                )\n",
      "                (cv2): Conv(\n",
      "                  (conv): Conv2d(64, 64, kernel_size=(3, 3), stride=(1, 1), padding=(1, 1), bias=False)\n",
      "                  (bn): BatchNorm2d(64, eps=0.001, momentum=0.03, affine=True, track_running_stats=True)\n",
      "                  (act): SiLU(inplace=True)\n",
      "                )\n",
      "              )\n",
      "              (1): Bottleneck(\n",
      "                (cv1): Conv(\n",
      "                  (conv): Conv2d(64, 64, kernel_size=(3, 3), stride=(1, 1), padding=(1, 1), bias=False)\n",
      "                  (bn): BatchNorm2d(64, eps=0.001, momentum=0.03, affine=True, track_running_stats=True)\n",
      "                  (act): SiLU(inplace=True)\n",
      "                )\n",
      "                (cv2): Conv(\n",
      "                  (conv): Conv2d(64, 64, kernel_size=(3, 3), stride=(1, 1), padding=(1, 1), bias=False)\n",
      "                  (bn): BatchNorm2d(64, eps=0.001, momentum=0.03, affine=True, track_running_stats=True)\n",
      "                  (act): SiLU(inplace=True)\n",
      "                )\n",
      "              )\n",
      "            )\n",
      "          )\n",
      "        )\n",
      "      )\n",
      "      (21): Detect(\n",
      "        (cv2): ModuleList(\n",
      "          (0): Sequential(\n",
      "            (0): Conv(\n",
      "              (conv): Conv2d(64, 64, kernel_size=(3, 3), stride=(1, 1), padding=(1, 1), bias=False)\n",
      "              (bn): BatchNorm2d(64, eps=0.001, momentum=0.03, affine=True, track_running_stats=True)\n",
      "              (act): SiLU(inplace=True)\n",
      "            )\n",
      "            (1): Conv(\n",
      "              (conv): Conv2d(64, 64, kernel_size=(3, 3), stride=(1, 1), padding=(1, 1), bias=False)\n",
      "              (bn): BatchNorm2d(64, eps=0.001, momentum=0.03, affine=True, track_running_stats=True)\n",
      "              (act): SiLU(inplace=True)\n",
      "            )\n",
      "            (2): Conv2d(64, 64, kernel_size=(1, 1), stride=(1, 1))\n",
      "          )\n",
      "          (1): Sequential(\n",
      "            (0): Conv(\n",
      "              (conv): Conv2d(128, 64, kernel_size=(3, 3), stride=(1, 1), padding=(1, 1), bias=False)\n",
      "              (bn): BatchNorm2d(64, eps=0.001, momentum=0.03, affine=True, track_running_stats=True)\n",
      "              (act): SiLU(inplace=True)\n",
      "            )\n",
      "            (1): Conv(\n",
      "              (conv): Conv2d(64, 64, kernel_size=(3, 3), stride=(1, 1), padding=(1, 1), bias=False)\n",
      "              (bn): BatchNorm2d(64, eps=0.001, momentum=0.03, affine=True, track_running_stats=True)\n",
      "              (act): SiLU(inplace=True)\n",
      "            )\n",
      "            (2): Conv2d(64, 64, kernel_size=(1, 1), stride=(1, 1))\n",
      "          )\n",
      "          (2): Sequential(\n",
      "            (0): Conv(\n",
      "              (conv): Conv2d(256, 64, kernel_size=(3, 3), stride=(1, 1), padding=(1, 1), bias=False)\n",
      "              (bn): BatchNorm2d(64, eps=0.001, momentum=0.03, affine=True, track_running_stats=True)\n",
      "              (act): SiLU(inplace=True)\n",
      "            )\n",
      "            (1): Conv(\n",
      "              (conv): Conv2d(64, 64, kernel_size=(3, 3), stride=(1, 1), padding=(1, 1), bias=False)\n",
      "              (bn): BatchNorm2d(64, eps=0.001, momentum=0.03, affine=True, track_running_stats=True)\n",
      "              (act): SiLU(inplace=True)\n",
      "            )\n",
      "            (2): Conv2d(64, 64, kernel_size=(1, 1), stride=(1, 1))\n",
      "          )\n",
      "        )\n",
      "        (cv3): ModuleList(\n",
      "          (0): Sequential(\n",
      "            (0): Sequential(\n",
      "              (0): DWConv(\n",
      "                (conv): Conv2d(64, 64, kernel_size=(3, 3), stride=(1, 1), padding=(1, 1), groups=64, bias=False)\n",
      "                (bn): BatchNorm2d(64, eps=0.001, momentum=0.03, affine=True, track_running_stats=True)\n",
      "                (act): SiLU(inplace=True)\n",
      "              )\n",
      "              (1): Conv(\n",
      "                (conv): Conv2d(64, 80, kernel_size=(1, 1), stride=(1, 1), bias=False)\n",
      "                (bn): BatchNorm2d(80, eps=0.001, momentum=0.03, affine=True, track_running_stats=True)\n",
      "                (act): SiLU(inplace=True)\n",
      "              )\n",
      "            )\n",
      "            (1): Sequential(\n",
      "              (0): DWConv(\n",
      "                (conv): Conv2d(80, 80, kernel_size=(3, 3), stride=(1, 1), padding=(1, 1), groups=80, bias=False)\n",
      "                (bn): BatchNorm2d(80, eps=0.001, momentum=0.03, affine=True, track_running_stats=True)\n",
      "                (act): SiLU(inplace=True)\n",
      "              )\n",
      "              (1): Conv(\n",
      "                (conv): Conv2d(80, 80, kernel_size=(1, 1), stride=(1, 1), bias=False)\n",
      "                (bn): BatchNorm2d(80, eps=0.001, momentum=0.03, affine=True, track_running_stats=True)\n",
      "                (act): SiLU(inplace=True)\n",
      "              )\n",
      "            )\n",
      "            (2): Conv2d(80, 80, kernel_size=(1, 1), stride=(1, 1))\n",
      "          )\n",
      "          (1): Sequential(\n",
      "            (0): Sequential(\n",
      "              (0): DWConv(\n",
      "                (conv): Conv2d(128, 128, kernel_size=(3, 3), stride=(1, 1), padding=(1, 1), groups=128, bias=False)\n",
      "                (bn): BatchNorm2d(128, eps=0.001, momentum=0.03, affine=True, track_running_stats=True)\n",
      "                (act): SiLU(inplace=True)\n",
      "              )\n",
      "              (1): Conv(\n",
      "                (conv): Conv2d(128, 80, kernel_size=(1, 1), stride=(1, 1), bias=False)\n",
      "                (bn): BatchNorm2d(80, eps=0.001, momentum=0.03, affine=True, track_running_stats=True)\n",
      "                (act): SiLU(inplace=True)\n",
      "              )\n",
      "            )\n",
      "            (1): Sequential(\n",
      "              (0): DWConv(\n",
      "                (conv): Conv2d(80, 80, kernel_size=(3, 3), stride=(1, 1), padding=(1, 1), groups=80, bias=False)\n",
      "                (bn): BatchNorm2d(80, eps=0.001, momentum=0.03, affine=True, track_running_stats=True)\n",
      "                (act): SiLU(inplace=True)\n",
      "              )\n",
      "              (1): Conv(\n",
      "                (conv): Conv2d(80, 80, kernel_size=(1, 1), stride=(1, 1), bias=False)\n",
      "                (bn): BatchNorm2d(80, eps=0.001, momentum=0.03, affine=True, track_running_stats=True)\n",
      "                (act): SiLU(inplace=True)\n",
      "              )\n",
      "            )\n",
      "            (2): Conv2d(80, 80, kernel_size=(1, 1), stride=(1, 1))\n",
      "          )\n",
      "          (2): Sequential(\n",
      "            (0): Sequential(\n",
      "              (0): DWConv(\n",
      "                (conv): Conv2d(256, 256, kernel_size=(3, 3), stride=(1, 1), padding=(1, 1), groups=256, bias=False)\n",
      "                (bn): BatchNorm2d(256, eps=0.001, momentum=0.03, affine=True, track_running_stats=True)\n",
      "                (act): SiLU(inplace=True)\n",
      "              )\n",
      "              (1): Conv(\n",
      "                (conv): Conv2d(256, 80, kernel_size=(1, 1), stride=(1, 1), bias=False)\n",
      "                (bn): BatchNorm2d(80, eps=0.001, momentum=0.03, affine=True, track_running_stats=True)\n",
      "                (act): SiLU(inplace=True)\n",
      "              )\n",
      "            )\n",
      "            (1): Sequential(\n",
      "              (0): DWConv(\n",
      "                (conv): Conv2d(80, 80, kernel_size=(3, 3), stride=(1, 1), padding=(1, 1), groups=80, bias=False)\n",
      "                (bn): BatchNorm2d(80, eps=0.001, momentum=0.03, affine=True, track_running_stats=True)\n",
      "                (act): SiLU(inplace=True)\n",
      "              )\n",
      "              (1): Conv(\n",
      "                (conv): Conv2d(80, 80, kernel_size=(1, 1), stride=(1, 1), bias=False)\n",
      "                (bn): BatchNorm2d(80, eps=0.001, momentum=0.03, affine=True, track_running_stats=True)\n",
      "                (act): SiLU(inplace=True)\n",
      "              )\n",
      "            )\n",
      "            (2): Conv2d(80, 80, kernel_size=(1, 1), stride=(1, 1))\n",
      "          )\n",
      "        )\n",
      "        (dfl): DFL(\n",
      "          (conv): Conv2d(16, 1, kernel_size=(1, 1), stride=(1, 1), bias=False)\n",
      "        )\n",
      "      )\n",
      "    )\n",
      "  )\n",
      ")\n"
     ]
    }
   ],
   "source": [
    "from ultralytics import YOLO        # importing YOLO from ultralytics\n",
    "\n",
    "model = YOLO(\"yolov12n.pt\")     # Importing yolo v12n\n",
    "\n",
    "print(model)        # prining model architecture to see which layers are backbone. \n",
    "\n"
   ]
  },
  {
   "cell_type": "markdown",
   "metadata": {},
   "source": [
    "### After layer 6 we can see the attention modules. So for fine tuning we just freeze till the layer 6 after that the attention (neck and head) modules are left trainable for the custom dataset. The basic feature extraction takes place in the backbone which we froze. This way the model adapts to new data while preserving foundational visual features."
   ]
  },
  {
   "cell_type": "code",
   "execution_count": 5,
   "metadata": {},
   "outputs": [
    {
     "name": "stdout",
     "output_type": "stream",
     "text": [
      "  0: FROZEN - model.0.conv.weight\n",
      "  1: FROZEN - model.0.bn.weight\n",
      "  2: FROZEN - model.0.bn.bias\n",
      "  3: FROZEN - model.1.conv.weight\n",
      "  4: FROZEN - model.1.bn.weight\n",
      "  5: FROZEN - model.1.bn.bias\n",
      "  6: FROZEN - model.2.cv1.conv.weight\n",
      "  7: FROZEN - model.2.cv1.bn.weight\n",
      "  8: FROZEN - model.2.cv1.bn.bias\n",
      "  9: FROZEN - model.2.cv2.conv.weight\n",
      " 10: FROZEN - model.2.cv2.bn.weight\n",
      " 11: FROZEN - model.2.cv2.bn.bias\n",
      " 12: FROZEN - model.2.m.0.cv1.conv.weight\n",
      " 13: FROZEN - model.2.m.0.cv1.bn.weight\n",
      " 14: FROZEN - model.2.m.0.cv1.bn.bias\n",
      " 15: FROZEN - model.2.m.0.cv2.conv.weight\n",
      " 16: FROZEN - model.2.m.0.cv2.bn.weight\n",
      " 17: FROZEN - model.2.m.0.cv2.bn.bias\n",
      " 18: FROZEN - model.3.conv.weight\n",
      " 19: FROZEN - model.3.bn.weight\n",
      " 20: FROZEN - model.3.bn.bias\n",
      " 21: FROZEN - model.4.cv1.conv.weight\n",
      " 22: FROZEN - model.4.cv1.bn.weight\n",
      " 23: FROZEN - model.4.cv1.bn.bias\n",
      " 24: FROZEN - model.4.cv2.conv.weight\n",
      " 25: FROZEN - model.4.cv2.bn.weight\n",
      " 26: FROZEN - model.4.cv2.bn.bias\n",
      " 27: FROZEN - model.4.m.0.cv1.conv.weight\n",
      " 28: FROZEN - model.4.m.0.cv1.bn.weight\n",
      " 29: FROZEN - model.4.m.0.cv1.bn.bias\n",
      " 30: FROZEN - model.4.m.0.cv2.conv.weight\n",
      " 31: FROZEN - model.4.m.0.cv2.bn.weight\n",
      " 32: FROZEN - model.4.m.0.cv2.bn.bias\n",
      " 33: FROZEN - model.5.conv.weight\n",
      " 34: FROZEN - model.5.bn.weight\n",
      " 35: FROZEN - model.5.bn.bias\n",
      " 36: TRAINABLE - model.6.cv1.conv.weight\n",
      " 37: TRAINABLE - model.6.cv1.bn.weight\n",
      " 38: TRAINABLE - model.6.cv1.bn.bias\n",
      " 39: TRAINABLE - model.6.cv2.conv.weight\n",
      " 40: TRAINABLE - model.6.cv2.bn.weight\n",
      " 41: TRAINABLE - model.6.cv2.bn.bias\n",
      " 42: TRAINABLE - model.6.m.0.0.attn.qk.conv.weight\n",
      " 43: TRAINABLE - model.6.m.0.0.attn.qk.bn.weight\n",
      " 44: TRAINABLE - model.6.m.0.0.attn.qk.bn.bias\n",
      " 45: TRAINABLE - model.6.m.0.0.attn.v.conv.weight\n",
      " 46: TRAINABLE - model.6.m.0.0.attn.v.bn.weight\n",
      " 47: TRAINABLE - model.6.m.0.0.attn.v.bn.bias\n",
      " 48: TRAINABLE - model.6.m.0.0.attn.proj.conv.weight\n",
      " 49: TRAINABLE - model.6.m.0.0.attn.proj.bn.weight\n",
      " 50: TRAINABLE - model.6.m.0.0.attn.proj.bn.bias\n",
      " 51: TRAINABLE - model.6.m.0.0.attn.pe.conv.weight\n",
      " 52: TRAINABLE - model.6.m.0.0.attn.pe.bn.weight\n",
      " 53: TRAINABLE - model.6.m.0.0.attn.pe.bn.bias\n",
      " 54: TRAINABLE - model.6.m.0.0.mlp.0.conv.weight\n",
      " 55: TRAINABLE - model.6.m.0.0.mlp.0.bn.weight\n",
      " 56: TRAINABLE - model.6.m.0.0.mlp.0.bn.bias\n",
      " 57: TRAINABLE - model.6.m.0.0.mlp.1.conv.weight\n",
      " 58: TRAINABLE - model.6.m.0.0.mlp.1.bn.weight\n",
      " 59: TRAINABLE - model.6.m.0.0.mlp.1.bn.bias\n",
      " 60: TRAINABLE - model.6.m.0.1.attn.qk.conv.weight\n",
      " 61: TRAINABLE - model.6.m.0.1.attn.qk.bn.weight\n",
      " 62: TRAINABLE - model.6.m.0.1.attn.qk.bn.bias\n",
      " 63: TRAINABLE - model.6.m.0.1.attn.v.conv.weight\n",
      " 64: TRAINABLE - model.6.m.0.1.attn.v.bn.weight\n",
      " 65: TRAINABLE - model.6.m.0.1.attn.v.bn.bias\n",
      " 66: TRAINABLE - model.6.m.0.1.attn.proj.conv.weight\n",
      " 67: TRAINABLE - model.6.m.0.1.attn.proj.bn.weight\n",
      " 68: TRAINABLE - model.6.m.0.1.attn.proj.bn.bias\n",
      " 69: TRAINABLE - model.6.m.0.1.attn.pe.conv.weight\n",
      " 70: TRAINABLE - model.6.m.0.1.attn.pe.bn.weight\n",
      " 71: TRAINABLE - model.6.m.0.1.attn.pe.bn.bias\n",
      " 72: TRAINABLE - model.6.m.0.1.mlp.0.conv.weight\n",
      " 73: TRAINABLE - model.6.m.0.1.mlp.0.bn.weight\n",
      " 74: TRAINABLE - model.6.m.0.1.mlp.0.bn.bias\n",
      " 75: TRAINABLE - model.6.m.0.1.mlp.1.conv.weight\n",
      " 76: TRAINABLE - model.6.m.0.1.mlp.1.bn.weight\n",
      " 77: TRAINABLE - model.6.m.0.1.mlp.1.bn.bias\n",
      " 78: TRAINABLE - model.6.m.1.0.attn.qk.conv.weight\n",
      " 79: TRAINABLE - model.6.m.1.0.attn.qk.bn.weight\n",
      " 80: TRAINABLE - model.6.m.1.0.attn.qk.bn.bias\n",
      " 81: TRAINABLE - model.6.m.1.0.attn.v.conv.weight\n",
      " 82: TRAINABLE - model.6.m.1.0.attn.v.bn.weight\n",
      " 83: TRAINABLE - model.6.m.1.0.attn.v.bn.bias\n",
      " 84: TRAINABLE - model.6.m.1.0.attn.proj.conv.weight\n",
      " 85: TRAINABLE - model.6.m.1.0.attn.proj.bn.weight\n",
      " 86: TRAINABLE - model.6.m.1.0.attn.proj.bn.bias\n",
      " 87: TRAINABLE - model.6.m.1.0.attn.pe.conv.weight\n",
      " 88: TRAINABLE - model.6.m.1.0.attn.pe.bn.weight\n",
      " 89: TRAINABLE - model.6.m.1.0.attn.pe.bn.bias\n",
      " 90: TRAINABLE - model.6.m.1.0.mlp.0.conv.weight\n",
      " 91: TRAINABLE - model.6.m.1.0.mlp.0.bn.weight\n",
      " 92: TRAINABLE - model.6.m.1.0.mlp.0.bn.bias\n",
      " 93: TRAINABLE - model.6.m.1.0.mlp.1.conv.weight\n",
      " 94: TRAINABLE - model.6.m.1.0.mlp.1.bn.weight\n",
      " 95: TRAINABLE - model.6.m.1.0.mlp.1.bn.bias\n",
      " 96: TRAINABLE - model.6.m.1.1.attn.qk.conv.weight\n",
      " 97: TRAINABLE - model.6.m.1.1.attn.qk.bn.weight\n",
      " 98: TRAINABLE - model.6.m.1.1.attn.qk.bn.bias\n",
      " 99: TRAINABLE - model.6.m.1.1.attn.v.conv.weight\n",
      "100: TRAINABLE - model.6.m.1.1.attn.v.bn.weight\n",
      "101: TRAINABLE - model.6.m.1.1.attn.v.bn.bias\n",
      "102: TRAINABLE - model.6.m.1.1.attn.proj.conv.weight\n",
      "103: TRAINABLE - model.6.m.1.1.attn.proj.bn.weight\n",
      "104: TRAINABLE - model.6.m.1.1.attn.proj.bn.bias\n",
      "105: TRAINABLE - model.6.m.1.1.attn.pe.conv.weight\n",
      "106: TRAINABLE - model.6.m.1.1.attn.pe.bn.weight\n",
      "107: TRAINABLE - model.6.m.1.1.attn.pe.bn.bias\n",
      "108: TRAINABLE - model.6.m.1.1.mlp.0.conv.weight\n",
      "109: TRAINABLE - model.6.m.1.1.mlp.0.bn.weight\n",
      "110: TRAINABLE - model.6.m.1.1.mlp.0.bn.bias\n",
      "111: TRAINABLE - model.6.m.1.1.mlp.1.conv.weight\n",
      "112: TRAINABLE - model.6.m.1.1.mlp.1.bn.weight\n",
      "113: TRAINABLE - model.6.m.1.1.mlp.1.bn.bias\n",
      "114: TRAINABLE - model.7.conv.weight\n",
      "115: TRAINABLE - model.7.bn.weight\n",
      "116: TRAINABLE - model.7.bn.bias\n",
      "117: TRAINABLE - model.8.cv1.conv.weight\n",
      "118: TRAINABLE - model.8.cv1.bn.weight\n",
      "119: TRAINABLE - model.8.cv1.bn.bias\n",
      "120: TRAINABLE - model.8.cv2.conv.weight\n",
      "121: TRAINABLE - model.8.cv2.bn.weight\n",
      "122: TRAINABLE - model.8.cv2.bn.bias\n",
      "123: TRAINABLE - model.8.m.0.0.attn.qk.conv.weight\n",
      "124: TRAINABLE - model.8.m.0.0.attn.qk.bn.weight\n",
      "125: TRAINABLE - model.8.m.0.0.attn.qk.bn.bias\n",
      "126: TRAINABLE - model.8.m.0.0.attn.v.conv.weight\n",
      "127: TRAINABLE - model.8.m.0.0.attn.v.bn.weight\n",
      "128: TRAINABLE - model.8.m.0.0.attn.v.bn.bias\n",
      "129: TRAINABLE - model.8.m.0.0.attn.proj.conv.weight\n",
      "130: TRAINABLE - model.8.m.0.0.attn.proj.bn.weight\n",
      "131: TRAINABLE - model.8.m.0.0.attn.proj.bn.bias\n",
      "132: TRAINABLE - model.8.m.0.0.attn.pe.conv.weight\n",
      "133: TRAINABLE - model.8.m.0.0.attn.pe.bn.weight\n",
      "134: TRAINABLE - model.8.m.0.0.attn.pe.bn.bias\n",
      "135: TRAINABLE - model.8.m.0.0.mlp.0.conv.weight\n",
      "136: TRAINABLE - model.8.m.0.0.mlp.0.bn.weight\n",
      "137: TRAINABLE - model.8.m.0.0.mlp.0.bn.bias\n",
      "138: TRAINABLE - model.8.m.0.0.mlp.1.conv.weight\n",
      "139: TRAINABLE - model.8.m.0.0.mlp.1.bn.weight\n",
      "140: TRAINABLE - model.8.m.0.0.mlp.1.bn.bias\n",
      "141: TRAINABLE - model.8.m.0.1.attn.qk.conv.weight\n",
      "142: TRAINABLE - model.8.m.0.1.attn.qk.bn.weight\n",
      "143: TRAINABLE - model.8.m.0.1.attn.qk.bn.bias\n",
      "144: TRAINABLE - model.8.m.0.1.attn.v.conv.weight\n",
      "145: TRAINABLE - model.8.m.0.1.attn.v.bn.weight\n",
      "146: TRAINABLE - model.8.m.0.1.attn.v.bn.bias\n",
      "147: TRAINABLE - model.8.m.0.1.attn.proj.conv.weight\n",
      "148: TRAINABLE - model.8.m.0.1.attn.proj.bn.weight\n",
      "149: TRAINABLE - model.8.m.0.1.attn.proj.bn.bias\n",
      "150: TRAINABLE - model.8.m.0.1.attn.pe.conv.weight\n",
      "151: TRAINABLE - model.8.m.0.1.attn.pe.bn.weight\n",
      "152: TRAINABLE - model.8.m.0.1.attn.pe.bn.bias\n",
      "153: TRAINABLE - model.8.m.0.1.mlp.0.conv.weight\n",
      "154: TRAINABLE - model.8.m.0.1.mlp.0.bn.weight\n",
      "155: TRAINABLE - model.8.m.0.1.mlp.0.bn.bias\n",
      "156: TRAINABLE - model.8.m.0.1.mlp.1.conv.weight\n",
      "157: TRAINABLE - model.8.m.0.1.mlp.1.bn.weight\n",
      "158: TRAINABLE - model.8.m.0.1.mlp.1.bn.bias\n",
      "159: TRAINABLE - model.8.m.1.0.attn.qk.conv.weight\n",
      "160: TRAINABLE - model.8.m.1.0.attn.qk.bn.weight\n",
      "161: TRAINABLE - model.8.m.1.0.attn.qk.bn.bias\n",
      "162: TRAINABLE - model.8.m.1.0.attn.v.conv.weight\n",
      "163: TRAINABLE - model.8.m.1.0.attn.v.bn.weight\n",
      "164: TRAINABLE - model.8.m.1.0.attn.v.bn.bias\n",
      "165: TRAINABLE - model.8.m.1.0.attn.proj.conv.weight\n",
      "166: TRAINABLE - model.8.m.1.0.attn.proj.bn.weight\n",
      "167: TRAINABLE - model.8.m.1.0.attn.proj.bn.bias\n",
      "168: TRAINABLE - model.8.m.1.0.attn.pe.conv.weight\n",
      "169: TRAINABLE - model.8.m.1.0.attn.pe.bn.weight\n",
      "170: TRAINABLE - model.8.m.1.0.attn.pe.bn.bias\n",
      "171: TRAINABLE - model.8.m.1.0.mlp.0.conv.weight\n",
      "172: TRAINABLE - model.8.m.1.0.mlp.0.bn.weight\n",
      "173: TRAINABLE - model.8.m.1.0.mlp.0.bn.bias\n",
      "174: TRAINABLE - model.8.m.1.0.mlp.1.conv.weight\n",
      "175: TRAINABLE - model.8.m.1.0.mlp.1.bn.weight\n",
      "176: TRAINABLE - model.8.m.1.0.mlp.1.bn.bias\n",
      "177: TRAINABLE - model.8.m.1.1.attn.qk.conv.weight\n",
      "178: TRAINABLE - model.8.m.1.1.attn.qk.bn.weight\n",
      "179: TRAINABLE - model.8.m.1.1.attn.qk.bn.bias\n",
      "180: TRAINABLE - model.8.m.1.1.attn.v.conv.weight\n",
      "181: TRAINABLE - model.8.m.1.1.attn.v.bn.weight\n",
      "182: TRAINABLE - model.8.m.1.1.attn.v.bn.bias\n",
      "183: TRAINABLE - model.8.m.1.1.attn.proj.conv.weight\n",
      "184: TRAINABLE - model.8.m.1.1.attn.proj.bn.weight\n",
      "185: TRAINABLE - model.8.m.1.1.attn.proj.bn.bias\n",
      "186: TRAINABLE - model.8.m.1.1.attn.pe.conv.weight\n",
      "187: TRAINABLE - model.8.m.1.1.attn.pe.bn.weight\n",
      "188: TRAINABLE - model.8.m.1.1.attn.pe.bn.bias\n",
      "189: TRAINABLE - model.8.m.1.1.mlp.0.conv.weight\n",
      "190: TRAINABLE - model.8.m.1.1.mlp.0.bn.weight\n",
      "191: TRAINABLE - model.8.m.1.1.mlp.0.bn.bias\n",
      "192: TRAINABLE - model.8.m.1.1.mlp.1.conv.weight\n",
      "193: TRAINABLE - model.8.m.1.1.mlp.1.bn.weight\n",
      "194: TRAINABLE - model.8.m.1.1.mlp.1.bn.bias\n",
      "195: TRAINABLE - model.11.cv1.conv.weight\n",
      "196: TRAINABLE - model.11.cv1.bn.weight\n",
      "197: TRAINABLE - model.11.cv1.bn.bias\n",
      "198: TRAINABLE - model.11.cv2.conv.weight\n",
      "199: TRAINABLE - model.11.cv2.bn.weight\n",
      "200: TRAINABLE - model.11.cv2.bn.bias\n",
      "201: TRAINABLE - model.11.m.0.cv1.conv.weight\n",
      "202: TRAINABLE - model.11.m.0.cv1.bn.weight\n",
      "203: TRAINABLE - model.11.m.0.cv1.bn.bias\n",
      "204: TRAINABLE - model.11.m.0.cv2.conv.weight\n",
      "205: TRAINABLE - model.11.m.0.cv2.bn.weight\n",
      "206: TRAINABLE - model.11.m.0.cv2.bn.bias\n",
      "207: TRAINABLE - model.11.m.0.cv3.conv.weight\n",
      "208: TRAINABLE - model.11.m.0.cv3.bn.weight\n",
      "209: TRAINABLE - model.11.m.0.cv3.bn.bias\n",
      "210: TRAINABLE - model.11.m.0.m.0.cv1.conv.weight\n",
      "211: TRAINABLE - model.11.m.0.m.0.cv1.bn.weight\n",
      "212: TRAINABLE - model.11.m.0.m.0.cv1.bn.bias\n",
      "213: TRAINABLE - model.11.m.0.m.0.cv2.conv.weight\n",
      "214: TRAINABLE - model.11.m.0.m.0.cv2.bn.weight\n",
      "215: TRAINABLE - model.11.m.0.m.0.cv2.bn.bias\n",
      "216: TRAINABLE - model.11.m.0.m.1.cv1.conv.weight\n",
      "217: TRAINABLE - model.11.m.0.m.1.cv1.bn.weight\n",
      "218: TRAINABLE - model.11.m.0.m.1.cv1.bn.bias\n",
      "219: TRAINABLE - model.11.m.0.m.1.cv2.conv.weight\n",
      "220: TRAINABLE - model.11.m.0.m.1.cv2.bn.weight\n",
      "221: TRAINABLE - model.11.m.0.m.1.cv2.bn.bias\n",
      "222: TRAINABLE - model.14.cv1.conv.weight\n",
      "223: TRAINABLE - model.14.cv1.bn.weight\n",
      "224: TRAINABLE - model.14.cv1.bn.bias\n",
      "225: TRAINABLE - model.14.cv2.conv.weight\n",
      "226: TRAINABLE - model.14.cv2.bn.weight\n",
      "227: TRAINABLE - model.14.cv2.bn.bias\n",
      "228: TRAINABLE - model.14.m.0.cv1.conv.weight\n",
      "229: TRAINABLE - model.14.m.0.cv1.bn.weight\n",
      "230: TRAINABLE - model.14.m.0.cv1.bn.bias\n",
      "231: TRAINABLE - model.14.m.0.cv2.conv.weight\n",
      "232: TRAINABLE - model.14.m.0.cv2.bn.weight\n",
      "233: TRAINABLE - model.14.m.0.cv2.bn.bias\n",
      "234: TRAINABLE - model.14.m.0.cv3.conv.weight\n",
      "235: TRAINABLE - model.14.m.0.cv3.bn.weight\n",
      "236: TRAINABLE - model.14.m.0.cv3.bn.bias\n",
      "237: TRAINABLE - model.14.m.0.m.0.cv1.conv.weight\n",
      "238: TRAINABLE - model.14.m.0.m.0.cv1.bn.weight\n",
      "239: TRAINABLE - model.14.m.0.m.0.cv1.bn.bias\n",
      "240: TRAINABLE - model.14.m.0.m.0.cv2.conv.weight\n",
      "241: TRAINABLE - model.14.m.0.m.0.cv2.bn.weight\n",
      "242: TRAINABLE - model.14.m.0.m.0.cv2.bn.bias\n",
      "243: TRAINABLE - model.14.m.0.m.1.cv1.conv.weight\n",
      "244: TRAINABLE - model.14.m.0.m.1.cv1.bn.weight\n",
      "245: TRAINABLE - model.14.m.0.m.1.cv1.bn.bias\n",
      "246: TRAINABLE - model.14.m.0.m.1.cv2.conv.weight\n",
      "247: TRAINABLE - model.14.m.0.m.1.cv2.bn.weight\n",
      "248: TRAINABLE - model.14.m.0.m.1.cv2.bn.bias\n",
      "249: TRAINABLE - model.15.conv.weight\n",
      "250: TRAINABLE - model.15.bn.weight\n",
      "251: TRAINABLE - model.15.bn.bias\n",
      "252: TRAINABLE - model.17.cv1.conv.weight\n",
      "253: TRAINABLE - model.17.cv1.bn.weight\n",
      "254: TRAINABLE - model.17.cv1.bn.bias\n",
      "255: TRAINABLE - model.17.cv2.conv.weight\n",
      "256: TRAINABLE - model.17.cv2.bn.weight\n",
      "257: TRAINABLE - model.17.cv2.bn.bias\n",
      "258: TRAINABLE - model.17.m.0.cv1.conv.weight\n",
      "259: TRAINABLE - model.17.m.0.cv1.bn.weight\n",
      "260: TRAINABLE - model.17.m.0.cv1.bn.bias\n",
      "261: TRAINABLE - model.17.m.0.cv2.conv.weight\n",
      "262: TRAINABLE - model.17.m.0.cv2.bn.weight\n",
      "263: TRAINABLE - model.17.m.0.cv2.bn.bias\n",
      "264: TRAINABLE - model.17.m.0.cv3.conv.weight\n",
      "265: TRAINABLE - model.17.m.0.cv3.bn.weight\n",
      "266: TRAINABLE - model.17.m.0.cv3.bn.bias\n",
      "267: TRAINABLE - model.17.m.0.m.0.cv1.conv.weight\n",
      "268: TRAINABLE - model.17.m.0.m.0.cv1.bn.weight\n",
      "269: TRAINABLE - model.17.m.0.m.0.cv1.bn.bias\n",
      "270: TRAINABLE - model.17.m.0.m.0.cv2.conv.weight\n",
      "271: TRAINABLE - model.17.m.0.m.0.cv2.bn.weight\n",
      "272: TRAINABLE - model.17.m.0.m.0.cv2.bn.bias\n",
      "273: TRAINABLE - model.17.m.0.m.1.cv1.conv.weight\n",
      "274: TRAINABLE - model.17.m.0.m.1.cv1.bn.weight\n",
      "275: TRAINABLE - model.17.m.0.m.1.cv1.bn.bias\n",
      "276: TRAINABLE - model.17.m.0.m.1.cv2.conv.weight\n",
      "277: TRAINABLE - model.17.m.0.m.1.cv2.bn.weight\n",
      "278: TRAINABLE - model.17.m.0.m.1.cv2.bn.bias\n",
      "279: TRAINABLE - model.18.conv.weight\n",
      "280: TRAINABLE - model.18.bn.weight\n",
      "281: TRAINABLE - model.18.bn.bias\n",
      "282: TRAINABLE - model.20.cv1.conv.weight\n",
      "283: TRAINABLE - model.20.cv1.bn.weight\n",
      "284: TRAINABLE - model.20.cv1.bn.bias\n",
      "285: TRAINABLE - model.20.cv2.conv.weight\n",
      "286: TRAINABLE - model.20.cv2.bn.weight\n",
      "287: TRAINABLE - model.20.cv2.bn.bias\n",
      "288: TRAINABLE - model.20.m.0.cv1.conv.weight\n",
      "289: TRAINABLE - model.20.m.0.cv1.bn.weight\n",
      "290: TRAINABLE - model.20.m.0.cv1.bn.bias\n",
      "291: TRAINABLE - model.20.m.0.cv2.conv.weight\n",
      "292: TRAINABLE - model.20.m.0.cv2.bn.weight\n",
      "293: TRAINABLE - model.20.m.0.cv2.bn.bias\n",
      "294: TRAINABLE - model.20.m.0.cv3.conv.weight\n",
      "295: TRAINABLE - model.20.m.0.cv3.bn.weight\n",
      "296: TRAINABLE - model.20.m.0.cv3.bn.bias\n",
      "297: TRAINABLE - model.20.m.0.m.0.cv1.conv.weight\n",
      "298: TRAINABLE - model.20.m.0.m.0.cv1.bn.weight\n",
      "299: TRAINABLE - model.20.m.0.m.0.cv1.bn.bias\n",
      "300: TRAINABLE - model.20.m.0.m.0.cv2.conv.weight\n",
      "301: TRAINABLE - model.20.m.0.m.0.cv2.bn.weight\n",
      "302: TRAINABLE - model.20.m.0.m.0.cv2.bn.bias\n",
      "303: TRAINABLE - model.20.m.0.m.1.cv1.conv.weight\n",
      "304: TRAINABLE - model.20.m.0.m.1.cv1.bn.weight\n",
      "305: TRAINABLE - model.20.m.0.m.1.cv1.bn.bias\n",
      "306: TRAINABLE - model.20.m.0.m.1.cv2.conv.weight\n",
      "307: TRAINABLE - model.20.m.0.m.1.cv2.bn.weight\n",
      "308: TRAINABLE - model.20.m.0.m.1.cv2.bn.bias\n",
      "309: TRAINABLE - model.21.cv2.0.0.conv.weight\n",
      "310: TRAINABLE - model.21.cv2.0.0.bn.weight\n",
      "311: TRAINABLE - model.21.cv2.0.0.bn.bias\n",
      "312: TRAINABLE - model.21.cv2.0.1.conv.weight\n",
      "313: TRAINABLE - model.21.cv2.0.1.bn.weight\n",
      "314: TRAINABLE - model.21.cv2.0.1.bn.bias\n",
      "315: TRAINABLE - model.21.cv2.0.2.weight\n",
      "316: TRAINABLE - model.21.cv2.0.2.bias\n",
      "317: TRAINABLE - model.21.cv2.1.0.conv.weight\n",
      "318: TRAINABLE - model.21.cv2.1.0.bn.weight\n",
      "319: TRAINABLE - model.21.cv2.1.0.bn.bias\n",
      "320: TRAINABLE - model.21.cv2.1.1.conv.weight\n",
      "321: TRAINABLE - model.21.cv2.1.1.bn.weight\n",
      "322: TRAINABLE - model.21.cv2.1.1.bn.bias\n",
      "323: TRAINABLE - model.21.cv2.1.2.weight\n",
      "324: TRAINABLE - model.21.cv2.1.2.bias\n",
      "325: TRAINABLE - model.21.cv2.2.0.conv.weight\n",
      "326: TRAINABLE - model.21.cv2.2.0.bn.weight\n",
      "327: TRAINABLE - model.21.cv2.2.0.bn.bias\n",
      "328: TRAINABLE - model.21.cv2.2.1.conv.weight\n",
      "329: TRAINABLE - model.21.cv2.2.1.bn.weight\n",
      "330: TRAINABLE - model.21.cv2.2.1.bn.bias\n",
      "331: TRAINABLE - model.21.cv2.2.2.weight\n",
      "332: TRAINABLE - model.21.cv2.2.2.bias\n",
      "333: TRAINABLE - model.21.cv3.0.0.0.conv.weight\n",
      "334: TRAINABLE - model.21.cv3.0.0.0.bn.weight\n",
      "335: TRAINABLE - model.21.cv3.0.0.0.bn.bias\n",
      "336: TRAINABLE - model.21.cv3.0.0.1.conv.weight\n",
      "337: TRAINABLE - model.21.cv3.0.0.1.bn.weight\n",
      "338: TRAINABLE - model.21.cv3.0.0.1.bn.bias\n",
      "339: TRAINABLE - model.21.cv3.0.1.0.conv.weight\n",
      "340: TRAINABLE - model.21.cv3.0.1.0.bn.weight\n",
      "341: TRAINABLE - model.21.cv3.0.1.0.bn.bias\n",
      "342: TRAINABLE - model.21.cv3.0.1.1.conv.weight\n",
      "343: TRAINABLE - model.21.cv3.0.1.1.bn.weight\n",
      "344: TRAINABLE - model.21.cv3.0.1.1.bn.bias\n",
      "345: TRAINABLE - model.21.cv3.0.2.weight\n",
      "346: TRAINABLE - model.21.cv3.0.2.bias\n",
      "347: TRAINABLE - model.21.cv3.1.0.0.conv.weight\n",
      "348: TRAINABLE - model.21.cv3.1.0.0.bn.weight\n",
      "349: TRAINABLE - model.21.cv3.1.0.0.bn.bias\n",
      "350: TRAINABLE - model.21.cv3.1.0.1.conv.weight\n",
      "351: TRAINABLE - model.21.cv3.1.0.1.bn.weight\n",
      "352: TRAINABLE - model.21.cv3.1.0.1.bn.bias\n",
      "353: TRAINABLE - model.21.cv3.1.1.0.conv.weight\n",
      "354: TRAINABLE - model.21.cv3.1.1.0.bn.weight\n",
      "355: TRAINABLE - model.21.cv3.1.1.0.bn.bias\n",
      "356: TRAINABLE - model.21.cv3.1.1.1.conv.weight\n",
      "357: TRAINABLE - model.21.cv3.1.1.1.bn.weight\n",
      "358: TRAINABLE - model.21.cv3.1.1.1.bn.bias\n",
      "359: TRAINABLE - model.21.cv3.1.2.weight\n",
      "360: TRAINABLE - model.21.cv3.1.2.bias\n",
      "361: TRAINABLE - model.21.cv3.2.0.0.conv.weight\n",
      "362: TRAINABLE - model.21.cv3.2.0.0.bn.weight\n",
      "363: TRAINABLE - model.21.cv3.2.0.0.bn.bias\n",
      "364: TRAINABLE - model.21.cv3.2.0.1.conv.weight\n",
      "365: TRAINABLE - model.21.cv3.2.0.1.bn.weight\n",
      "366: TRAINABLE - model.21.cv3.2.0.1.bn.bias\n",
      "367: TRAINABLE - model.21.cv3.2.1.0.conv.weight\n",
      "368: TRAINABLE - model.21.cv3.2.1.0.bn.weight\n",
      "369: TRAINABLE - model.21.cv3.2.1.0.bn.bias\n",
      "370: TRAINABLE - model.21.cv3.2.1.1.conv.weight\n",
      "371: TRAINABLE - model.21.cv3.2.1.1.bn.weight\n",
      "372: TRAINABLE - model.21.cv3.2.1.1.bn.bias\n",
      "373: TRAINABLE - model.21.cv3.2.2.weight\n",
      "374: TRAINABLE - model.21.cv3.2.2.bias\n",
      "375: TRAINABLE - model.21.dfl.conv.weight\n"
     ]
    }
   ],
   "source": [
    "for param in model.model.parameters():      # making all layers trainable first\n",
    "    param.requires_grad = True\n",
    "\n",
    "\n",
    "for idx in range(6):\n",
    "    for param in model.model.model[idx].parameters():\n",
    "        param.requires_grad = False     # Freezing the backbone of the architecture. after inspecting the model we can see the first 6 layers are responsible for the basic feature extration\n",
    "\n",
    "\n",
    "for i, (name, param) in enumerate(model.model.named_parameters()):      # visualizing which layers are trainable\n",
    "    print(f\"{i:3d}: {'FROZEN' if not param.requires_grad else 'TRAINABLE'} - {name}\")"
   ]
  },
  {
   "cell_type": "markdown",
   "metadata": {},
   "source": [
    "### Main training loop"
   ]
  },
  {
   "cell_type": "code",
   "execution_count": null,
   "metadata": {},
   "outputs": [
    {
     "name": "stdout",
     "output_type": "stream",
     "text": [
      "New https://pypi.org/project/ultralytics/8.3.146 available 😃 Update with 'pip install -U ultralytics'\n",
      "Ultralytics 8.3.63 🚀 Python-3.11.11 torch-2.2.2+cu121 CUDA:0 (NVIDIA GeForce RTX 3060 Laptop GPU, 5815MiB)\n",
      "\u001b[34m\u001b[1mengine/trainer: \u001b[0mtask=detect, mode=train, model=yolov12n.pt, data=/home/adil/yolo_v12n/dataset_door_handle/data.yaml, epochs=100, time=None, patience=100, batch=16, imgsz=640, save=True, save_period=-1, cache=False, device=None, workers=8, project=yolov12_finetune, name=freeze_backbone3, exist_ok=False, pretrained=True, optimizer=auto, verbose=True, seed=0, deterministic=True, single_cls=False, rect=False, cos_lr=False, close_mosaic=10, resume=False, amp=True, fraction=1.0, profile=False, freeze=None, multi_scale=False, overlap_mask=True, mask_ratio=4, dropout=0.0, val=True, split=val, save_json=False, save_hybrid=False, conf=None, iou=0.7, max_det=300, half=False, dnn=False, plots=True, source=None, vid_stride=1, stream_buffer=False, visualize=False, augment=False, agnostic_nms=False, classes=None, retina_masks=False, embed=None, show=False, save_frames=False, save_txt=False, save_conf=False, save_crop=False, show_labels=True, show_conf=True, show_boxes=True, line_width=None, format=torchscript, keras=False, optimize=False, int8=False, dynamic=False, simplify=True, opset=None, workspace=None, nms=False, lr0=0.001, lrf=0.01, momentum=0.937, weight_decay=0.0005, warmup_epochs=3.0, warmup_momentum=0.8, warmup_bias_lr=0.0, box=7.5, cls=0.5, dfl=1.5, pose=12.0, kobj=1.0, nbs=64, hsv_h=0.015, hsv_s=0.7, hsv_v=0.4, degrees=0.0, translate=0.1, scale=0.5, shear=0.0, perspective=0.0, flipud=0.0, fliplr=0.5, bgr=0.0, mosaic=1.0, mixup=0.0, copy_paste=0.1, copy_paste_mode=flip, auto_augment=randaugment, erasing=0.4, crop_fraction=1.0, cfg=None, tracker=botsort.yaml, save_dir=yolov12_finetune/freeze_backbone3\n",
      "Overriding model.yaml nc=80 with nc=1\n",
      "\n",
      "                   from  n    params  module                                       arguments                     \n",
      "  0                  -1  1       464  ultralytics.nn.modules.conv.Conv             [3, 16, 3, 2]                 \n",
      "  1                  -1  1      2368  ultralytics.nn.modules.conv.Conv             [16, 32, 3, 2, 1, 2]          \n",
      "  2                  -1  1      6640  ultralytics.nn.modules.block.C3k2            [32, 64, 1, False, 0.25]      \n",
      "  3                  -1  1      9344  ultralytics.nn.modules.conv.Conv             [64, 64, 3, 2, 1, 4]          \n",
      "  4                  -1  1     26080  ultralytics.nn.modules.block.C3k2            [64, 128, 1, False, 0.25]     \n",
      "  5                  -1  1    147712  ultralytics.nn.modules.conv.Conv             [128, 128, 3, 2]              \n",
      "  6                  -1  2    174720  ultralytics.nn.modules.block.A2C2f           [128, 128, 2, True, 4]        \n",
      "  7                  -1  1    295424  ultralytics.nn.modules.conv.Conv             [128, 256, 3, 2]              \n",
      "  8                  -1  2    677120  ultralytics.nn.modules.block.A2C2f           [256, 256, 2, True, 1]        \n",
      "  9                  -1  1         0  torch.nn.modules.upsampling.Upsample         [None, 2, 'nearest']          \n",
      " 10             [-1, 6]  1         0  ultralytics.nn.modules.conv.Concat           [1]                           \n",
      " 11                  -1  1     86912  ultralytics.nn.modules.block.A2C2f           [384, 128, 1, False, -1]      \n",
      " 12                  -1  1         0  torch.nn.modules.upsampling.Upsample         [None, 2, 'nearest']          \n",
      " 13             [-1, 4]  1         0  ultralytics.nn.modules.conv.Concat           [1]                           \n",
      " 14                  -1  1     24000  ultralytics.nn.modules.block.A2C2f           [256, 64, 1, False, -1]       \n",
      " 15                  -1  1     36992  ultralytics.nn.modules.conv.Conv             [64, 64, 3, 2]                \n",
      " 16            [-1, 11]  1         0  ultralytics.nn.modules.conv.Concat           [1]                           \n",
      " 17                  -1  1     74624  ultralytics.nn.modules.block.A2C2f           [192, 128, 1, False, -1]      \n",
      " 18                  -1  1    147712  ultralytics.nn.modules.conv.Conv             [128, 128, 3, 2]              \n",
      " 19             [-1, 8]  1         0  ultralytics.nn.modules.conv.Concat           [1]                           \n",
      " 20                  -1  1    378880  ultralytics.nn.modules.block.C3k2            [384, 256, 1, True]           \n",
      " 21        [14, 17, 20]  1    430867  ultralytics.nn.modules.head.Detect           [1, [64, 128, 256]]           \n",
      "YOLOv12n summary: 497 layers, 2,519,859 parameters, 2,519,843 gradients, 6.0 GFLOPs\n",
      "\n",
      "Transferred 688/739 items from pretrained weights\n",
      "Freezing layer 'model.21.dfl.conv.weight'\n",
      "\u001b[34m\u001b[1mAMP: \u001b[0mrunning Automatic Mixed Precision (AMP) checks...\n",
      "\u001b[34m\u001b[1mAMP: \u001b[0mchecks passed ✅\n"
     ]
    },
    {
     "name": "stderr",
     "output_type": "stream",
     "text": [
      "\u001b[34m\u001b[1mtrain: \u001b[0mScanning /home/adil/yolo_v12n/dataset_door_handle/train/labels.cache... 1441 images, 2 backgrounds, 0 corrupt: 100%|██████████| 1441/1441 [00:00<?, ?it/s]\n"
     ]
    },
    {
     "name": "stdout",
     "output_type": "stream",
     "text": [
      "\u001b[34m\u001b[1malbumentations: \u001b[0mBlur(p=0.01, blur_limit=(3, 7)), MedianBlur(p=0.01, blur_limit=(3, 7)), ToGray(p=0.01, num_output_channels=3, method='weighted_average'), CLAHE(p=0.01, clip_limit=(1.0, 4.0), tile_grid_size=(8, 8))\n"
     ]
    },
    {
     "name": "stderr",
     "output_type": "stream",
     "text": [
      "/home/adil/anaconda3/envs/yolov12/lib/python3.11/site-packages/albumentations/__init__.py:28: UserWarning: A new version of Albumentations is available: '2.0.8' (you have '2.0.4'). Upgrade using: pip install -U albumentations. To disable automatic update checks, set the environment variable NO_ALBUMENTATIONS_UPDATE to 1.\n",
      "  check_for_updates()\n",
      "/home/adil/yolo_v12n/yolov12/ultralytics/data/augment.py:1853: UserWarning: Argument(s) 'quality_lower' are not valid for transform ImageCompression\n",
      "  A.ImageCompression(quality_lower=75, p=0.0),\n",
      "\u001b[34m\u001b[1mval: \u001b[0mScanning /home/adil/yolo_v12n/dataset_door_handle/valid/labels.cache... 141 images, 0 backgrounds, 0 corrupt: 100%|██████████| 141/141 [00:00<?, ?it/s]\n"
     ]
    },
    {
     "name": "stdout",
     "output_type": "stream",
     "text": [
      "Plotting labels to yolov12_finetune/freeze_backbone3/labels.jpg... \n",
      "\u001b[34m\u001b[1moptimizer:\u001b[0m 'optimizer=auto' found, ignoring 'lr0=0.001' and 'momentum=0.937' and determining best 'optimizer', 'lr0' and 'momentum' automatically... \n",
      "\u001b[34m\u001b[1moptimizer:\u001b[0m AdamW(lr=0.002, momentum=0.9) with parameter groups 121 weight(decay=0.0), 128 weight(decay=0.0005), 127 bias(decay=0.0)\n",
      "Image sizes 640 train, 640 val\n",
      "Using 8 dataloader workers\n",
      "Logging results to \u001b[1myolov12_finetune/freeze_backbone3\u001b[0m\n",
      "Starting training for 100 epochs...\n",
      "\n",
      "      Epoch    GPU_mem   box_loss   cls_loss   dfl_loss  Instances       Size\n"
     ]
    },
    {
     "name": "stderr",
     "output_type": "stream",
     "text": [
      "      1/100      2.59G      1.392      2.518      1.475          1        640: 100%|██████████| 91/91 [00:15<00:00,  5.77it/s]\n",
      "                 Class     Images  Instances      Box(P          R      mAP50  mAP50-95): 100%|██████████| 5/5 [00:00<00:00,  5.79it/s]"
     ]
    },
    {
     "name": "stdout",
     "output_type": "stream",
     "text": [
      "                   all        141        174      0.437      0.408      0.358      0.182\n"
     ]
    },
    {
     "name": "stderr",
     "output_type": "stream",
     "text": [
      "\n"
     ]
    },
    {
     "name": "stdout",
     "output_type": "stream",
     "text": [
      "\n",
      "      Epoch    GPU_mem   box_loss   cls_loss   dfl_loss  Instances       Size\n"
     ]
    },
    {
     "name": "stderr",
     "output_type": "stream",
     "text": [
      "      2/100       2.6G      1.467      2.046      1.551          2        640: 100%|██████████| 91/91 [00:13<00:00,  6.54it/s]\n",
      "                 Class     Images  Instances      Box(P          R      mAP50  mAP50-95): 100%|██████████| 5/5 [00:00<00:00,  8.12it/s]\n"
     ]
    },
    {
     "name": "stdout",
     "output_type": "stream",
     "text": [
      "                   all        141        174      0.351      0.425      0.302      0.147\n",
      "\n",
      "      Epoch    GPU_mem   box_loss   cls_loss   dfl_loss  Instances       Size\n"
     ]
    },
    {
     "name": "stderr",
     "output_type": "stream",
     "text": [
      "      3/100       2.6G      1.556      1.984      1.625          2        640: 100%|██████████| 91/91 [00:13<00:00,  6.60it/s]\n",
      "                 Class     Images  Instances      Box(P          R      mAP50  mAP50-95): 100%|██████████| 5/5 [00:00<00:00,  7.88it/s]\n"
     ]
    },
    {
     "name": "stdout",
     "output_type": "stream",
     "text": [
      "                   all        141        174      0.373      0.351      0.318      0.185\n",
      "\n",
      "      Epoch    GPU_mem   box_loss   cls_loss   dfl_loss  Instances       Size\n"
     ]
    },
    {
     "name": "stderr",
     "output_type": "stream",
     "text": [
      "      4/100       2.6G      1.533      1.896      1.608          2        640: 100%|██████████| 91/91 [00:13<00:00,  6.56it/s]\n",
      "                 Class     Images  Instances      Box(P          R      mAP50  mAP50-95): 100%|██████████| 5/5 [00:00<00:00,  7.77it/s]"
     ]
    },
    {
     "name": "stdout",
     "output_type": "stream",
     "text": [
      "                   all        141        174      0.378      0.379      0.265      0.128\n"
     ]
    },
    {
     "name": "stderr",
     "output_type": "stream",
     "text": [
      "\n"
     ]
    },
    {
     "name": "stdout",
     "output_type": "stream",
     "text": [
      "\n",
      "      Epoch    GPU_mem   box_loss   cls_loss   dfl_loss  Instances       Size\n"
     ]
    },
    {
     "name": "stderr",
     "output_type": "stream",
     "text": [
      "      5/100       2.6G      1.517      1.832      1.627          1        640: 100%|██████████| 91/91 [00:14<00:00,  6.50it/s]\n",
      "                 Class     Images  Instances      Box(P          R      mAP50  mAP50-95): 100%|██████████| 5/5 [00:00<00:00,  8.15it/s]\n"
     ]
    },
    {
     "name": "stdout",
     "output_type": "stream",
     "text": [
      "                   all        141        174      0.512      0.417      0.428      0.244\n",
      "\n",
      "      Epoch    GPU_mem   box_loss   cls_loss   dfl_loss  Instances       Size\n"
     ]
    },
    {
     "name": "stderr",
     "output_type": "stream",
     "text": [
      "      6/100       2.6G      1.469      1.684      1.562          3        640: 100%|██████████| 91/91 [00:13<00:00,  6.56it/s]\n",
      "                 Class     Images  Instances      Box(P          R      mAP50  mAP50-95): 100%|██████████| 5/5 [00:00<00:00,  8.20it/s]"
     ]
    },
    {
     "name": "stdout",
     "output_type": "stream",
     "text": [
      "                   all        141        174      0.562      0.435      0.473      0.251\n"
     ]
    },
    {
     "name": "stderr",
     "output_type": "stream",
     "text": [
      "\n"
     ]
    },
    {
     "name": "stdout",
     "output_type": "stream",
     "text": [
      "\n",
      "      Epoch    GPU_mem   box_loss   cls_loss   dfl_loss  Instances       Size\n"
     ]
    },
    {
     "name": "stderr",
     "output_type": "stream",
     "text": [
      "      7/100       2.6G      1.437      1.618      1.552          4        640: 100%|██████████| 91/91 [00:13<00:00,  6.63it/s]\n",
      "                 Class     Images  Instances      Box(P          R      mAP50  mAP50-95): 100%|██████████| 5/5 [00:00<00:00,  8.35it/s]\n"
     ]
    },
    {
     "name": "stdout",
     "output_type": "stream",
     "text": [
      "                   all        141        174      0.541       0.46      0.459      0.256\n",
      "\n",
      "      Epoch    GPU_mem   box_loss   cls_loss   dfl_loss  Instances       Size\n"
     ]
    },
    {
     "name": "stderr",
     "output_type": "stream",
     "text": [
      "      8/100       2.6G      1.387      1.557      1.516          2        640: 100%|██████████| 91/91 [00:13<00:00,  6.63it/s]\n",
      "                 Class     Images  Instances      Box(P          R      mAP50  mAP50-95): 100%|██████████| 5/5 [00:00<00:00,  8.45it/s]"
     ]
    },
    {
     "name": "stdout",
     "output_type": "stream",
     "text": [
      "                   all        141        174      0.617      0.471      0.506      0.312\n"
     ]
    },
    {
     "name": "stderr",
     "output_type": "stream",
     "text": [
      "\n"
     ]
    },
    {
     "name": "stdout",
     "output_type": "stream",
     "text": [
      "\n",
      "      Epoch    GPU_mem   box_loss   cls_loss   dfl_loss  Instances       Size\n"
     ]
    },
    {
     "name": "stderr",
     "output_type": "stream",
     "text": [
      "      9/100       2.6G      1.372      1.502      1.491          4        640: 100%|██████████| 91/91 [00:13<00:00,  6.64it/s]\n",
      "                 Class     Images  Instances      Box(P          R      mAP50  mAP50-95): 100%|██████████| 5/5 [00:00<00:00,  8.38it/s]"
     ]
    },
    {
     "name": "stdout",
     "output_type": "stream",
     "text": [
      "                   all        141        174      0.282      0.264      0.215      0.115\n"
     ]
    },
    {
     "name": "stderr",
     "output_type": "stream",
     "text": [
      "\n"
     ]
    },
    {
     "name": "stdout",
     "output_type": "stream",
     "text": [
      "\n",
      "      Epoch    GPU_mem   box_loss   cls_loss   dfl_loss  Instances       Size\n"
     ]
    },
    {
     "name": "stderr",
     "output_type": "stream",
     "text": [
      "     10/100       2.6G       1.37      1.451       1.49          1        640: 100%|██████████| 91/91 [00:13<00:00,  6.62it/s]\n",
      "                 Class     Images  Instances      Box(P          R      mAP50  mAP50-95): 100%|██████████| 5/5 [00:00<00:00,  8.01it/s]"
     ]
    },
    {
     "name": "stdout",
     "output_type": "stream",
     "text": [
      "                   all        141        174      0.526      0.546      0.541      0.327\n"
     ]
    },
    {
     "name": "stderr",
     "output_type": "stream",
     "text": [
      "\n"
     ]
    },
    {
     "name": "stdout",
     "output_type": "stream",
     "text": [
      "\n",
      "      Epoch    GPU_mem   box_loss   cls_loss   dfl_loss  Instances       Size\n"
     ]
    },
    {
     "name": "stderr",
     "output_type": "stream",
     "text": [
      "     11/100      2.61G      1.322      1.372      1.457         10        640: 100%|██████████| 91/91 [00:13<00:00,  6.65it/s]\n",
      "                 Class     Images  Instances      Box(P          R      mAP50  mAP50-95): 100%|██████████| 5/5 [00:00<00:00,  8.52it/s]"
     ]
    },
    {
     "name": "stdout",
     "output_type": "stream",
     "text": [
      "                   all        141        174      0.699      0.626       0.66      0.373\n"
     ]
    },
    {
     "name": "stderr",
     "output_type": "stream",
     "text": [
      "\n"
     ]
    },
    {
     "name": "stdout",
     "output_type": "stream",
     "text": [
      "\n",
      "      Epoch    GPU_mem   box_loss   cls_loss   dfl_loss  Instances       Size\n"
     ]
    },
    {
     "name": "stderr",
     "output_type": "stream",
     "text": [
      "     12/100       2.6G      1.311      1.326      1.448          1        640: 100%|██████████| 91/91 [00:13<00:00,  6.63it/s]\n",
      "                 Class     Images  Instances      Box(P          R      mAP50  mAP50-95): 100%|██████████| 5/5 [00:00<00:00,  8.49it/s]"
     ]
    },
    {
     "name": "stdout",
     "output_type": "stream",
     "text": [
      "                   all        141        174      0.663      0.483      0.576      0.331\n"
     ]
    },
    {
     "name": "stderr",
     "output_type": "stream",
     "text": [
      "\n"
     ]
    },
    {
     "name": "stdout",
     "output_type": "stream",
     "text": [
      "\n",
      "      Epoch    GPU_mem   box_loss   cls_loss   dfl_loss  Instances       Size\n"
     ]
    },
    {
     "name": "stderr",
     "output_type": "stream",
     "text": [
      "     13/100       2.6G      1.299      1.297      1.442          4        640: 100%|██████████| 91/91 [00:13<00:00,  6.63it/s]\n",
      "                 Class     Images  Instances      Box(P          R      mAP50  mAP50-95): 100%|██████████| 5/5 [00:00<00:00,  8.42it/s]"
     ]
    },
    {
     "name": "stdout",
     "output_type": "stream",
     "text": [
      "                   all        141        174      0.701      0.498       0.57      0.333\n"
     ]
    },
    {
     "name": "stderr",
     "output_type": "stream",
     "text": [
      "\n"
     ]
    },
    {
     "name": "stdout",
     "output_type": "stream",
     "text": [
      "\n",
      "      Epoch    GPU_mem   box_loss   cls_loss   dfl_loss  Instances       Size\n"
     ]
    },
    {
     "name": "stderr",
     "output_type": "stream",
     "text": [
      "     14/100       2.6G      1.287      1.295      1.444          1        640: 100%|██████████| 91/91 [00:13<00:00,  6.65it/s]\n",
      "                 Class     Images  Instances      Box(P          R      mAP50  mAP50-95): 100%|██████████| 5/5 [00:00<00:00,  8.56it/s]"
     ]
    },
    {
     "name": "stdout",
     "output_type": "stream",
     "text": [
      "                   all        141        174      0.656      0.575      0.614      0.328\n"
     ]
    },
    {
     "name": "stderr",
     "output_type": "stream",
     "text": [
      "\n"
     ]
    },
    {
     "name": "stdout",
     "output_type": "stream",
     "text": [
      "\n",
      "      Epoch    GPU_mem   box_loss   cls_loss   dfl_loss  Instances       Size\n"
     ]
    },
    {
     "name": "stderr",
     "output_type": "stream",
     "text": [
      "     15/100       2.6G      1.257      1.253      1.417          3        640: 100%|██████████| 91/91 [00:13<00:00,  6.66it/s]\n",
      "                 Class     Images  Instances      Box(P          R      mAP50  mAP50-95): 100%|██████████| 5/5 [00:00<00:00,  8.46it/s]"
     ]
    },
    {
     "name": "stdout",
     "output_type": "stream",
     "text": [
      "                   all        141        174      0.683      0.557      0.585      0.368\n"
     ]
    },
    {
     "name": "stderr",
     "output_type": "stream",
     "text": [
      "\n"
     ]
    },
    {
     "name": "stdout",
     "output_type": "stream",
     "text": [
      "\n",
      "      Epoch    GPU_mem   box_loss   cls_loss   dfl_loss  Instances       Size\n"
     ]
    },
    {
     "name": "stderr",
     "output_type": "stream",
     "text": [
      "     16/100       2.6G      1.262      1.271      1.418          0        640: 100%|██████████| 91/91 [00:13<00:00,  6.64it/s]\n",
      "                 Class     Images  Instances      Box(P          R      mAP50  mAP50-95): 100%|██████████| 5/5 [00:00<00:00,  8.40it/s]"
     ]
    },
    {
     "name": "stdout",
     "output_type": "stream",
     "text": [
      "                   all        141        174      0.618      0.437      0.525        0.3\n"
     ]
    },
    {
     "name": "stderr",
     "output_type": "stream",
     "text": [
      "\n"
     ]
    },
    {
     "name": "stdout",
     "output_type": "stream",
     "text": [
      "\n",
      "      Epoch    GPU_mem   box_loss   cls_loss   dfl_loss  Instances       Size\n"
     ]
    },
    {
     "name": "stderr",
     "output_type": "stream",
     "text": [
      "     17/100       2.6G      1.245      1.186      1.404          5        640: 100%|██████████| 91/91 [00:13<00:00,  6.64it/s]\n",
      "                 Class     Images  Instances      Box(P          R      mAP50  mAP50-95): 100%|██████████| 5/5 [00:00<00:00,  8.40it/s]"
     ]
    },
    {
     "name": "stdout",
     "output_type": "stream",
     "text": [
      "                   all        141        174      0.664      0.557      0.599       0.37\n"
     ]
    },
    {
     "name": "stderr",
     "output_type": "stream",
     "text": [
      "\n"
     ]
    },
    {
     "name": "stdout",
     "output_type": "stream",
     "text": [
      "\n",
      "      Epoch    GPU_mem   box_loss   cls_loss   dfl_loss  Instances       Size\n"
     ]
    },
    {
     "name": "stderr",
     "output_type": "stream",
     "text": [
      "     18/100       2.6G      1.244      1.181      1.381          3        640: 100%|██████████| 91/91 [00:13<00:00,  6.62it/s]\n",
      "                 Class     Images  Instances      Box(P          R      mAP50  mAP50-95): 100%|██████████| 5/5 [00:00<00:00,  8.47it/s]"
     ]
    },
    {
     "name": "stdout",
     "output_type": "stream",
     "text": [
      "                   all        141        174      0.639      0.655      0.661      0.372\n"
     ]
    },
    {
     "name": "stderr",
     "output_type": "stream",
     "text": [
      "\n"
     ]
    },
    {
     "name": "stdout",
     "output_type": "stream",
     "text": [
      "\n",
      "      Epoch    GPU_mem   box_loss   cls_loss   dfl_loss  Instances       Size\n"
     ]
    },
    {
     "name": "stderr",
     "output_type": "stream",
     "text": [
      "     19/100       2.6G      1.221       1.14      1.384          1        640: 100%|██████████| 91/91 [00:13<00:00,  6.63it/s]\n",
      "                 Class     Images  Instances      Box(P          R      mAP50  mAP50-95): 100%|██████████| 5/5 [00:00<00:00,  8.54it/s]"
     ]
    },
    {
     "name": "stdout",
     "output_type": "stream",
     "text": [
      "                   all        141        174      0.749      0.575      0.653      0.391\n"
     ]
    },
    {
     "name": "stderr",
     "output_type": "stream",
     "text": [
      "\n"
     ]
    },
    {
     "name": "stdout",
     "output_type": "stream",
     "text": [
      "\n",
      "      Epoch    GPU_mem   box_loss   cls_loss   dfl_loss  Instances       Size\n"
     ]
    },
    {
     "name": "stderr",
     "output_type": "stream",
     "text": [
      "     20/100       2.6G      1.218      1.136      1.379          1        640: 100%|██████████| 91/91 [00:13<00:00,  6.65it/s]\n",
      "                 Class     Images  Instances      Box(P          R      mAP50  mAP50-95): 100%|██████████| 5/5 [00:00<00:00,  8.45it/s]"
     ]
    },
    {
     "name": "stdout",
     "output_type": "stream",
     "text": [
      "                   all        141        174      0.464      0.517      0.458      0.273\n"
     ]
    },
    {
     "name": "stderr",
     "output_type": "stream",
     "text": [
      "\n"
     ]
    },
    {
     "name": "stdout",
     "output_type": "stream",
     "text": [
      "\n",
      "      Epoch    GPU_mem   box_loss   cls_loss   dfl_loss  Instances       Size\n"
     ]
    },
    {
     "name": "stderr",
     "output_type": "stream",
     "text": [
      "     21/100       2.6G      1.187      1.082      1.341          2        640: 100%|██████████| 91/91 [00:13<00:00,  6.62it/s]\n",
      "                 Class     Images  Instances      Box(P          R      mAP50  mAP50-95): 100%|██████████| 5/5 [00:00<00:00,  8.37it/s]"
     ]
    },
    {
     "name": "stdout",
     "output_type": "stream",
     "text": [
      "                   all        141        174      0.758      0.586      0.656      0.367\n"
     ]
    },
    {
     "name": "stderr",
     "output_type": "stream",
     "text": [
      "\n"
     ]
    },
    {
     "name": "stdout",
     "output_type": "stream",
     "text": [
      "\n",
      "      Epoch    GPU_mem   box_loss   cls_loss   dfl_loss  Instances       Size\n"
     ]
    },
    {
     "name": "stderr",
     "output_type": "stream",
     "text": [
      "     22/100       2.6G      1.189       1.07      1.358          1        640: 100%|██████████| 91/91 [00:13<00:00,  6.61it/s]\n",
      "                 Class     Images  Instances      Box(P          R      mAP50  mAP50-95): 100%|██████████| 5/5 [00:00<00:00,  8.48it/s]"
     ]
    },
    {
     "name": "stdout",
     "output_type": "stream",
     "text": [
      "                   all        141        174       0.69      0.569      0.645      0.409\n"
     ]
    },
    {
     "name": "stderr",
     "output_type": "stream",
     "text": [
      "\n"
     ]
    },
    {
     "name": "stdout",
     "output_type": "stream",
     "text": [
      "\n",
      "      Epoch    GPU_mem   box_loss   cls_loss   dfl_loss  Instances       Size\n"
     ]
    },
    {
     "name": "stderr",
     "output_type": "stream",
     "text": [
      "     23/100       2.6G      1.186      1.053      1.344          1        640: 100%|██████████| 91/91 [00:13<00:00,  6.62it/s]\n",
      "                 Class     Images  Instances      Box(P          R      mAP50  mAP50-95): 100%|██████████| 5/5 [00:00<00:00,  8.32it/s]"
     ]
    },
    {
     "name": "stdout",
     "output_type": "stream",
     "text": [
      "                   all        141        174      0.769      0.592      0.686      0.448\n"
     ]
    },
    {
     "name": "stderr",
     "output_type": "stream",
     "text": [
      "\n"
     ]
    },
    {
     "name": "stdout",
     "output_type": "stream",
     "text": [
      "\n",
      "      Epoch    GPU_mem   box_loss   cls_loss   dfl_loss  Instances       Size\n"
     ]
    },
    {
     "name": "stderr",
     "output_type": "stream",
     "text": [
      "     24/100       2.6G      1.143      1.026      1.326          1        640: 100%|██████████| 91/91 [00:13<00:00,  6.63it/s]\n",
      "                 Class     Images  Instances      Box(P          R      mAP50  mAP50-95): 100%|██████████| 5/5 [00:00<00:00,  8.29it/s]"
     ]
    },
    {
     "name": "stdout",
     "output_type": "stream",
     "text": [
      "                   all        141        174      0.554      0.632       0.61      0.386\n"
     ]
    },
    {
     "name": "stderr",
     "output_type": "stream",
     "text": [
      "\n"
     ]
    },
    {
     "name": "stdout",
     "output_type": "stream",
     "text": [
      "\n",
      "      Epoch    GPU_mem   box_loss   cls_loss   dfl_loss  Instances       Size\n"
     ]
    },
    {
     "name": "stderr",
     "output_type": "stream",
     "text": [
      "     25/100       2.6G      1.158      1.003      1.325          2        640: 100%|██████████| 91/91 [00:13<00:00,  6.63it/s]\n",
      "                 Class     Images  Instances      Box(P          R      mAP50  mAP50-95): 100%|██████████| 5/5 [00:00<00:00,  8.43it/s]"
     ]
    },
    {
     "name": "stdout",
     "output_type": "stream",
     "text": [
      "                   all        141        174      0.783      0.645      0.698      0.435\n"
     ]
    },
    {
     "name": "stderr",
     "output_type": "stream",
     "text": [
      "\n"
     ]
    },
    {
     "name": "stdout",
     "output_type": "stream",
     "text": [
      "\n",
      "      Epoch    GPU_mem   box_loss   cls_loss   dfl_loss  Instances       Size\n"
     ]
    },
    {
     "name": "stderr",
     "output_type": "stream",
     "text": [
      "     26/100       2.6G      1.098     0.9784      1.281          0        640: 100%|██████████| 91/91 [00:13<00:00,  6.62it/s]\n",
      "                 Class     Images  Instances      Box(P          R      mAP50  mAP50-95): 100%|██████████| 5/5 [00:00<00:00,  8.51it/s]"
     ]
    },
    {
     "name": "stdout",
     "output_type": "stream",
     "text": [
      "                   all        141        174      0.755      0.619      0.703      0.423\n"
     ]
    },
    {
     "name": "stderr",
     "output_type": "stream",
     "text": [
      "\n"
     ]
    },
    {
     "name": "stdout",
     "output_type": "stream",
     "text": [
      "\n",
      "      Epoch    GPU_mem   box_loss   cls_loss   dfl_loss  Instances       Size\n"
     ]
    },
    {
     "name": "stderr",
     "output_type": "stream",
     "text": [
      "     27/100       2.6G      1.103     0.9841      1.306          1        640: 100%|██████████| 91/91 [00:13<00:00,  6.64it/s]\n",
      "                 Class     Images  Instances      Box(P          R      mAP50  mAP50-95): 100%|██████████| 5/5 [00:00<00:00,  8.37it/s]"
     ]
    },
    {
     "name": "stdout",
     "output_type": "stream",
     "text": [
      "                   all        141        174      0.737      0.691      0.767      0.479\n"
     ]
    },
    {
     "name": "stderr",
     "output_type": "stream",
     "text": [
      "\n"
     ]
    },
    {
     "name": "stdout",
     "output_type": "stream",
     "text": [
      "\n",
      "      Epoch    GPU_mem   box_loss   cls_loss   dfl_loss  Instances       Size\n"
     ]
    },
    {
     "name": "stderr",
     "output_type": "stream",
     "text": [
      "     28/100       2.6G       1.14     0.9636       1.32          4        640: 100%|██████████| 91/91 [00:13<00:00,  6.64it/s]\n",
      "                 Class     Images  Instances      Box(P          R      mAP50  mAP50-95): 100%|██████████| 5/5 [00:00<00:00,  8.47it/s]"
     ]
    },
    {
     "name": "stdout",
     "output_type": "stream",
     "text": [
      "                   all        141        174      0.626      0.672      0.705      0.449\n"
     ]
    },
    {
     "name": "stderr",
     "output_type": "stream",
     "text": [
      "\n"
     ]
    },
    {
     "name": "stdout",
     "output_type": "stream",
     "text": [
      "\n",
      "      Epoch    GPU_mem   box_loss   cls_loss   dfl_loss  Instances       Size\n"
     ]
    },
    {
     "name": "stderr",
     "output_type": "stream",
     "text": [
      "     29/100       2.6G      1.119     0.9156      1.297          3        640: 100%|██████████| 91/91 [00:13<00:00,  6.63it/s]\n",
      "                 Class     Images  Instances      Box(P          R      mAP50  mAP50-95): 100%|██████████| 5/5 [00:00<00:00,  8.30it/s]"
     ]
    },
    {
     "name": "stdout",
     "output_type": "stream",
     "text": [
      "                   all        141        174      0.733      0.599      0.684      0.404\n"
     ]
    },
    {
     "name": "stderr",
     "output_type": "stream",
     "text": [
      "\n"
     ]
    },
    {
     "name": "stdout",
     "output_type": "stream",
     "text": [
      "\n",
      "      Epoch    GPU_mem   box_loss   cls_loss   dfl_loss  Instances       Size\n"
     ]
    },
    {
     "name": "stderr",
     "output_type": "stream",
     "text": [
      "     30/100       2.6G      1.113     0.9649      1.311          4        640: 100%|██████████| 91/91 [00:13<00:00,  6.62it/s]\n",
      "                 Class     Images  Instances      Box(P          R      mAP50  mAP50-95): 100%|██████████| 5/5 [00:00<00:00,  8.18it/s]"
     ]
    },
    {
     "name": "stdout",
     "output_type": "stream",
     "text": [
      "                   all        141        174      0.812      0.649       0.73      0.477\n"
     ]
    },
    {
     "name": "stderr",
     "output_type": "stream",
     "text": [
      "\n"
     ]
    },
    {
     "name": "stdout",
     "output_type": "stream",
     "text": [
      "\n",
      "      Epoch    GPU_mem   box_loss   cls_loss   dfl_loss  Instances       Size\n"
     ]
    },
    {
     "name": "stderr",
     "output_type": "stream",
     "text": [
      "     31/100       2.6G      1.093     0.9218       1.29          2        640: 100%|██████████| 91/91 [00:13<00:00,  6.67it/s]\n",
      "                 Class     Images  Instances      Box(P          R      mAP50  mAP50-95): 100%|██████████| 5/5 [00:00<00:00,  8.62it/s]"
     ]
    },
    {
     "name": "stdout",
     "output_type": "stream",
     "text": [
      "                   all        141        174      0.695      0.552      0.644       0.38\n"
     ]
    },
    {
     "name": "stderr",
     "output_type": "stream",
     "text": [
      "\n"
     ]
    },
    {
     "name": "stdout",
     "output_type": "stream",
     "text": [
      "\n",
      "      Epoch    GPU_mem   box_loss   cls_loss   dfl_loss  Instances       Size\n"
     ]
    },
    {
     "name": "stderr",
     "output_type": "stream",
     "text": [
      "     32/100       2.6G      1.108      0.912      1.302          3        640: 100%|██████████| 91/91 [00:13<00:00,  6.68it/s]\n",
      "                 Class     Images  Instances      Box(P          R      mAP50  mAP50-95): 100%|██████████| 5/5 [00:00<00:00,  8.58it/s]"
     ]
    },
    {
     "name": "stdout",
     "output_type": "stream",
     "text": [
      "                   all        141        174      0.782      0.678      0.725      0.464\n"
     ]
    },
    {
     "name": "stderr",
     "output_type": "stream",
     "text": [
      "\n"
     ]
    },
    {
     "name": "stdout",
     "output_type": "stream",
     "text": [
      "\n",
      "      Epoch    GPU_mem   box_loss   cls_loss   dfl_loss  Instances       Size\n"
     ]
    },
    {
     "name": "stderr",
     "output_type": "stream",
     "text": [
      "     33/100       2.6G      1.097     0.9262      1.283          1        640: 100%|██████████| 91/91 [00:13<00:00,  6.67it/s]\n",
      "                 Class     Images  Instances      Box(P          R      mAP50  mAP50-95): 100%|██████████| 5/5 [00:00<00:00,  8.68it/s]"
     ]
    },
    {
     "name": "stdout",
     "output_type": "stream",
     "text": [
      "                   all        141        174       0.79      0.701      0.734       0.45\n"
     ]
    },
    {
     "name": "stderr",
     "output_type": "stream",
     "text": [
      "\n"
     ]
    },
    {
     "name": "stdout",
     "output_type": "stream",
     "text": [
      "\n",
      "      Epoch    GPU_mem   box_loss   cls_loss   dfl_loss  Instances       Size\n"
     ]
    },
    {
     "name": "stderr",
     "output_type": "stream",
     "text": [
      "     34/100       2.6G      1.068     0.8817      1.279          1        640: 100%|██████████| 91/91 [00:13<00:00,  6.69it/s]\n",
      "                 Class     Images  Instances      Box(P          R      mAP50  mAP50-95): 100%|██████████| 5/5 [00:00<00:00,  8.69it/s]"
     ]
    },
    {
     "name": "stdout",
     "output_type": "stream",
     "text": [
      "                   all        141        174      0.697      0.632      0.692      0.422\n"
     ]
    },
    {
     "name": "stderr",
     "output_type": "stream",
     "text": [
      "\n"
     ]
    },
    {
     "name": "stdout",
     "output_type": "stream",
     "text": [
      "\n",
      "      Epoch    GPU_mem   box_loss   cls_loss   dfl_loss  Instances       Size\n"
     ]
    },
    {
     "name": "stderr",
     "output_type": "stream",
     "text": [
      "     35/100       2.6G       1.05     0.8785      1.258          2        640: 100%|██████████| 91/91 [00:13<00:00,  6.69it/s]\n",
      "                 Class     Images  Instances      Box(P          R      mAP50  mAP50-95): 100%|██████████| 5/5 [00:00<00:00,  8.53it/s]"
     ]
    },
    {
     "name": "stdout",
     "output_type": "stream",
     "text": [
      "                   all        141        174      0.712      0.695      0.715      0.447\n"
     ]
    },
    {
     "name": "stderr",
     "output_type": "stream",
     "text": [
      "\n"
     ]
    },
    {
     "name": "stdout",
     "output_type": "stream",
     "text": [
      "\n",
      "      Epoch    GPU_mem   box_loss   cls_loss   dfl_loss  Instances       Size\n"
     ]
    },
    {
     "name": "stderr",
     "output_type": "stream",
     "text": [
      "     36/100       2.6G      1.091     0.8715       1.28          1        640: 100%|██████████| 91/91 [00:13<00:00,  6.71it/s]\n",
      "                 Class     Images  Instances      Box(P          R      mAP50  mAP50-95): 100%|██████████| 5/5 [00:00<00:00,  8.70it/s]"
     ]
    },
    {
     "name": "stdout",
     "output_type": "stream",
     "text": [
      "                   all        141        174      0.795      0.624      0.723      0.447\n"
     ]
    },
    {
     "name": "stderr",
     "output_type": "stream",
     "text": [
      "\n"
     ]
    },
    {
     "name": "stdout",
     "output_type": "stream",
     "text": [
      "\n",
      "      Epoch    GPU_mem   box_loss   cls_loss   dfl_loss  Instances       Size\n"
     ]
    },
    {
     "name": "stderr",
     "output_type": "stream",
     "text": [
      "     37/100       2.6G      1.052     0.8444      1.255          3        640: 100%|██████████| 91/91 [00:13<00:00,  6.71it/s]\n",
      "                 Class     Images  Instances      Box(P          R      mAP50  mAP50-95): 100%|██████████| 5/5 [00:00<00:00,  8.52it/s]"
     ]
    },
    {
     "name": "stdout",
     "output_type": "stream",
     "text": [
      "                   all        141        174       0.77      0.632      0.708      0.456\n"
     ]
    },
    {
     "name": "stderr",
     "output_type": "stream",
     "text": [
      "\n"
     ]
    },
    {
     "name": "stdout",
     "output_type": "stream",
     "text": [
      "\n",
      "      Epoch    GPU_mem   box_loss   cls_loss   dfl_loss  Instances       Size\n"
     ]
    },
    {
     "name": "stderr",
     "output_type": "stream",
     "text": [
      "     38/100      2.67G      1.068     0.8538      1.261          4        640: 100%|██████████| 91/91 [00:13<00:00,  6.66it/s]\n",
      "                 Class     Images  Instances      Box(P          R      mAP50  mAP50-95): 100%|██████████| 5/5 [00:00<00:00,  8.70it/s]"
     ]
    },
    {
     "name": "stdout",
     "output_type": "stream",
     "text": [
      "                   all        141        174      0.787      0.595      0.686      0.439\n"
     ]
    },
    {
     "name": "stderr",
     "output_type": "stream",
     "text": [
      "\n"
     ]
    },
    {
     "name": "stdout",
     "output_type": "stream",
     "text": [
      "\n",
      "      Epoch    GPU_mem   box_loss   cls_loss   dfl_loss  Instances       Size\n"
     ]
    },
    {
     "name": "stderr",
     "output_type": "stream",
     "text": [
      "     39/100       2.6G      1.032     0.8432      1.258          1        640: 100%|██████████| 91/91 [00:13<00:00,  6.70it/s]\n",
      "                 Class     Images  Instances      Box(P          R      mAP50  mAP50-95): 100%|██████████| 5/5 [00:00<00:00,  8.71it/s]"
     ]
    },
    {
     "name": "stdout",
     "output_type": "stream",
     "text": [
      "                   all        141        174      0.802      0.626      0.723      0.456\n"
     ]
    },
    {
     "name": "stderr",
     "output_type": "stream",
     "text": [
      "\n"
     ]
    },
    {
     "name": "stdout",
     "output_type": "stream",
     "text": [
      "\n",
      "      Epoch    GPU_mem   box_loss   cls_loss   dfl_loss  Instances       Size\n"
     ]
    },
    {
     "name": "stderr",
     "output_type": "stream",
     "text": [
      "     40/100       2.6G       1.04     0.8362      1.243          4        640: 100%|██████████| 91/91 [00:13<00:00,  6.70it/s]\n",
      "                 Class     Images  Instances      Box(P          R      mAP50  mAP50-95): 100%|██████████| 5/5 [00:00<00:00,  8.64it/s]"
     ]
    },
    {
     "name": "stdout",
     "output_type": "stream",
     "text": [
      "                   all        141        174      0.759      0.603      0.655      0.404\n"
     ]
    },
    {
     "name": "stderr",
     "output_type": "stream",
     "text": [
      "\n"
     ]
    },
    {
     "name": "stdout",
     "output_type": "stream",
     "text": [
      "\n",
      "      Epoch    GPU_mem   box_loss   cls_loss   dfl_loss  Instances       Size\n"
     ]
    },
    {
     "name": "stderr",
     "output_type": "stream",
     "text": [
      "     41/100       2.6G      1.003     0.7975      1.245          1        640: 100%|██████████| 91/91 [00:13<00:00,  6.71it/s]\n",
      "                 Class     Images  Instances      Box(P          R      mAP50  mAP50-95): 100%|██████████| 5/5 [00:00<00:00,  8.60it/s]"
     ]
    },
    {
     "name": "stdout",
     "output_type": "stream",
     "text": [
      "                   all        141        174       0.76      0.598      0.694      0.467\n"
     ]
    },
    {
     "name": "stderr",
     "output_type": "stream",
     "text": [
      "\n"
     ]
    },
    {
     "name": "stdout",
     "output_type": "stream",
     "text": [
      "\n",
      "      Epoch    GPU_mem   box_loss   cls_loss   dfl_loss  Instances       Size\n"
     ]
    },
    {
     "name": "stderr",
     "output_type": "stream",
     "text": [
      "     42/100       2.6G     0.9928      0.782      1.226          2        640: 100%|██████████| 91/91 [00:13<00:00,  6.71it/s]\n",
      "                 Class     Images  Instances      Box(P          R      mAP50  mAP50-95): 100%|██████████| 5/5 [00:00<00:00,  8.73it/s]"
     ]
    },
    {
     "name": "stdout",
     "output_type": "stream",
     "text": [
      "                   all        141        174      0.787       0.66      0.743      0.462\n"
     ]
    },
    {
     "name": "stderr",
     "output_type": "stream",
     "text": [
      "\n"
     ]
    },
    {
     "name": "stdout",
     "output_type": "stream",
     "text": [
      "\n",
      "      Epoch    GPU_mem   box_loss   cls_loss   dfl_loss  Instances       Size\n"
     ]
    },
    {
     "name": "stderr",
     "output_type": "stream",
     "text": [
      "     43/100       2.6G      1.034     0.8094      1.235          1        640: 100%|██████████| 91/91 [00:13<00:00,  6.71it/s]\n",
      "                 Class     Images  Instances      Box(P          R      mAP50  mAP50-95): 100%|██████████| 5/5 [00:00<00:00,  8.70it/s]"
     ]
    },
    {
     "name": "stdout",
     "output_type": "stream",
     "text": [
      "                   all        141        174      0.735      0.736      0.764      0.501\n"
     ]
    },
    {
     "name": "stderr",
     "output_type": "stream",
     "text": [
      "\n"
     ]
    },
    {
     "name": "stdout",
     "output_type": "stream",
     "text": [
      "\n",
      "      Epoch    GPU_mem   box_loss   cls_loss   dfl_loss  Instances       Size\n"
     ]
    },
    {
     "name": "stderr",
     "output_type": "stream",
     "text": [
      "     44/100       2.6G      1.003     0.7797      1.232          4        640: 100%|██████████| 91/91 [00:13<00:00,  6.70it/s]\n",
      "                 Class     Images  Instances      Box(P          R      mAP50  mAP50-95): 100%|██████████| 5/5 [00:00<00:00,  8.63it/s]"
     ]
    },
    {
     "name": "stdout",
     "output_type": "stream",
     "text": [
      "                   all        141        174      0.776      0.717      0.762      0.467\n"
     ]
    },
    {
     "name": "stderr",
     "output_type": "stream",
     "text": [
      "\n"
     ]
    },
    {
     "name": "stdout",
     "output_type": "stream",
     "text": [
      "\n",
      "      Epoch    GPU_mem   box_loss   cls_loss   dfl_loss  Instances       Size\n"
     ]
    },
    {
     "name": "stderr",
     "output_type": "stream",
     "text": [
      "     45/100       2.6G     0.9994     0.7898      1.222          2        640: 100%|██████████| 91/91 [00:13<00:00,  6.71it/s]\n",
      "                 Class     Images  Instances      Box(P          R      mAP50  mAP50-95): 100%|██████████| 5/5 [00:00<00:00,  8.70it/s]"
     ]
    },
    {
     "name": "stdout",
     "output_type": "stream",
     "text": [
      "                   all        141        174       0.75      0.701       0.73      0.471\n"
     ]
    },
    {
     "name": "stderr",
     "output_type": "stream",
     "text": [
      "\n"
     ]
    },
    {
     "name": "stdout",
     "output_type": "stream",
     "text": [
      "\n",
      "      Epoch    GPU_mem   box_loss   cls_loss   dfl_loss  Instances       Size\n"
     ]
    },
    {
     "name": "stderr",
     "output_type": "stream",
     "text": [
      "     46/100       2.6G     0.9854     0.7913      1.215          2        640: 100%|██████████| 91/91 [00:13<00:00,  6.70it/s]\n",
      "                 Class     Images  Instances      Box(P          R      mAP50  mAP50-95): 100%|██████████| 5/5 [00:00<00:00,  8.64it/s]"
     ]
    },
    {
     "name": "stdout",
     "output_type": "stream",
     "text": [
      "                   all        141        174      0.824      0.569       0.69       0.44\n"
     ]
    },
    {
     "name": "stderr",
     "output_type": "stream",
     "text": [
      "\n"
     ]
    },
    {
     "name": "stdout",
     "output_type": "stream",
     "text": [
      "\n",
      "      Epoch    GPU_mem   box_loss   cls_loss   dfl_loss  Instances       Size\n"
     ]
    },
    {
     "name": "stderr",
     "output_type": "stream",
     "text": [
      "     47/100       2.6G     0.9817     0.7463      1.208          5        640: 100%|██████████| 91/91 [00:13<00:00,  6.72it/s]\n",
      "                 Class     Images  Instances      Box(P          R      mAP50  mAP50-95): 100%|██████████| 5/5 [00:00<00:00,  8.70it/s]"
     ]
    },
    {
     "name": "stdout",
     "output_type": "stream",
     "text": [
      "                   all        141        174      0.811      0.644      0.727      0.483\n"
     ]
    },
    {
     "name": "stderr",
     "output_type": "stream",
     "text": [
      "\n"
     ]
    },
    {
     "name": "stdout",
     "output_type": "stream",
     "text": [
      "\n",
      "      Epoch    GPU_mem   box_loss   cls_loss   dfl_loss  Instances       Size\n"
     ]
    },
    {
     "name": "stderr",
     "output_type": "stream",
     "text": [
      "     48/100       2.6G     0.9848     0.7598      1.212          2        640: 100%|██████████| 91/91 [00:13<00:00,  6.70it/s]\n",
      "                 Class     Images  Instances      Box(P          R      mAP50  mAP50-95): 100%|██████████| 5/5 [00:00<00:00,  8.65it/s]"
     ]
    },
    {
     "name": "stdout",
     "output_type": "stream",
     "text": [
      "                   all        141        174      0.751      0.711      0.724      0.481\n"
     ]
    },
    {
     "name": "stderr",
     "output_type": "stream",
     "text": [
      "\n"
     ]
    },
    {
     "name": "stdout",
     "output_type": "stream",
     "text": [
      "\n",
      "      Epoch    GPU_mem   box_loss   cls_loss   dfl_loss  Instances       Size\n"
     ]
    },
    {
     "name": "stderr",
     "output_type": "stream",
     "text": [
      "     49/100       2.6G     0.9731     0.7262      1.205          1        640: 100%|██████████| 91/91 [00:13<00:00,  6.71it/s]\n",
      "                 Class     Images  Instances      Box(P          R      mAP50  mAP50-95): 100%|██████████| 5/5 [00:00<00:00,  8.68it/s]"
     ]
    },
    {
     "name": "stdout",
     "output_type": "stream",
     "text": [
      "                   all        141        174      0.788      0.667       0.73      0.473\n"
     ]
    },
    {
     "name": "stderr",
     "output_type": "stream",
     "text": [
      "\n"
     ]
    },
    {
     "name": "stdout",
     "output_type": "stream",
     "text": [
      "\n",
      "      Epoch    GPU_mem   box_loss   cls_loss   dfl_loss  Instances       Size\n"
     ]
    },
    {
     "name": "stderr",
     "output_type": "stream",
     "text": [
      "     50/100       2.6G     0.9733     0.7501        1.2          1        640: 100%|██████████| 91/91 [00:13<00:00,  6.65it/s]\n",
      "                 Class     Images  Instances      Box(P          R      mAP50  mAP50-95): 100%|██████████| 5/5 [00:00<00:00,  8.70it/s]"
     ]
    },
    {
     "name": "stdout",
     "output_type": "stream",
     "text": [
      "                   all        141        174      0.798       0.69      0.753      0.484\n"
     ]
    },
    {
     "name": "stderr",
     "output_type": "stream",
     "text": [
      "\n"
     ]
    },
    {
     "name": "stdout",
     "output_type": "stream",
     "text": [
      "\n",
      "      Epoch    GPU_mem   box_loss   cls_loss   dfl_loss  Instances       Size\n"
     ]
    },
    {
     "name": "stderr",
     "output_type": "stream",
     "text": [
      "     51/100       2.6G     0.9656     0.7254      1.196          5        640: 100%|██████████| 91/91 [00:13<00:00,  6.71it/s]\n",
      "                 Class     Images  Instances      Box(P          R      mAP50  mAP50-95): 100%|██████████| 5/5 [00:00<00:00,  8.75it/s]"
     ]
    },
    {
     "name": "stdout",
     "output_type": "stream",
     "text": [
      "                   all        141        174      0.866       0.63      0.747      0.464\n"
     ]
    },
    {
     "name": "stderr",
     "output_type": "stream",
     "text": [
      "\n"
     ]
    },
    {
     "name": "stdout",
     "output_type": "stream",
     "text": [
      "\n",
      "      Epoch    GPU_mem   box_loss   cls_loss   dfl_loss  Instances       Size\n"
     ]
    },
    {
     "name": "stderr",
     "output_type": "stream",
     "text": [
      "     52/100       2.6G     0.9627     0.7253      1.188          1        640: 100%|██████████| 91/91 [00:13<00:00,  6.68it/s]\n",
      "                 Class     Images  Instances      Box(P          R      mAP50  mAP50-95): 100%|██████████| 5/5 [00:00<00:00,  8.70it/s]"
     ]
    },
    {
     "name": "stdout",
     "output_type": "stream",
     "text": [
      "                   all        141        174       0.71      0.667      0.688      0.443\n"
     ]
    },
    {
     "name": "stderr",
     "output_type": "stream",
     "text": [
      "\n"
     ]
    },
    {
     "name": "stdout",
     "output_type": "stream",
     "text": [
      "\n",
      "      Epoch    GPU_mem   box_loss   cls_loss   dfl_loss  Instances       Size\n"
     ]
    },
    {
     "name": "stderr",
     "output_type": "stream",
     "text": [
      "     53/100       2.6G     0.9464     0.6911      1.183          2        640: 100%|██████████| 91/91 [00:13<00:00,  6.70it/s]\n",
      "                 Class     Images  Instances      Box(P          R      mAP50  mAP50-95): 100%|██████████| 5/5 [00:00<00:00,  8.77it/s]"
     ]
    },
    {
     "name": "stdout",
     "output_type": "stream",
     "text": [
      "                   all        141        174      0.813      0.661      0.696       0.47\n"
     ]
    },
    {
     "name": "stderr",
     "output_type": "stream",
     "text": [
      "\n"
     ]
    },
    {
     "name": "stdout",
     "output_type": "stream",
     "text": [
      "\n",
      "      Epoch    GPU_mem   box_loss   cls_loss   dfl_loss  Instances       Size\n"
     ]
    },
    {
     "name": "stderr",
     "output_type": "stream",
     "text": [
      "     54/100       2.6G      0.935     0.6901      1.182          1        640: 100%|██████████| 91/91 [00:13<00:00,  6.71it/s]\n",
      "                 Class     Images  Instances      Box(P          R      mAP50  mAP50-95): 100%|██████████| 5/5 [00:00<00:00,  8.57it/s]\n"
     ]
    },
    {
     "name": "stdout",
     "output_type": "stream",
     "text": [
      "                   all        141        174      0.826      0.657      0.745      0.484\n",
      "\n",
      "      Epoch    GPU_mem   box_loss   cls_loss   dfl_loss  Instances       Size\n"
     ]
    },
    {
     "name": "stderr",
     "output_type": "stream",
     "text": [
      "     55/100       2.6G     0.9313     0.6942      1.189          1        640: 100%|██████████| 91/91 [00:13<00:00,  6.71it/s]\n",
      "                 Class     Images  Instances      Box(P          R      mAP50  mAP50-95): 100%|██████████| 5/5 [00:00<00:00,  8.74it/s]"
     ]
    },
    {
     "name": "stdout",
     "output_type": "stream",
     "text": [
      "                   all        141        174      0.796      0.674      0.733      0.479\n"
     ]
    },
    {
     "name": "stderr",
     "output_type": "stream",
     "text": [
      "\n"
     ]
    },
    {
     "name": "stdout",
     "output_type": "stream",
     "text": [
      "\n",
      "      Epoch    GPU_mem   box_loss   cls_loss   dfl_loss  Instances       Size\n"
     ]
    },
    {
     "name": "stderr",
     "output_type": "stream",
     "text": [
      "     56/100       2.6G     0.9349     0.6854      1.186          3        640: 100%|██████████| 91/91 [00:13<00:00,  6.70it/s]\n",
      "                 Class     Images  Instances      Box(P          R      mAP50  mAP50-95): 100%|██████████| 5/5 [00:00<00:00,  8.66it/s]"
     ]
    },
    {
     "name": "stdout",
     "output_type": "stream",
     "text": [
      "                   all        141        174      0.835      0.638      0.722      0.471\n"
     ]
    },
    {
     "name": "stderr",
     "output_type": "stream",
     "text": [
      "\n"
     ]
    },
    {
     "name": "stdout",
     "output_type": "stream",
     "text": [
      "\n",
      "      Epoch    GPU_mem   box_loss   cls_loss   dfl_loss  Instances       Size\n"
     ]
    },
    {
     "name": "stderr",
     "output_type": "stream",
     "text": [
      "     57/100       2.6G     0.9344     0.7418      1.199          1        640: 100%|██████████| 91/91 [00:13<00:00,  6.69it/s]\n",
      "                 Class     Images  Instances      Box(P          R      mAP50  mAP50-95): 100%|██████████| 5/5 [00:00<00:00,  8.71it/s]"
     ]
    },
    {
     "name": "stdout",
     "output_type": "stream",
     "text": [
      "                   all        141        174      0.826      0.615      0.723      0.459\n"
     ]
    },
    {
     "name": "stderr",
     "output_type": "stream",
     "text": [
      "\n"
     ]
    },
    {
     "name": "stdout",
     "output_type": "stream",
     "text": [
      "\n",
      "      Epoch    GPU_mem   box_loss   cls_loss   dfl_loss  Instances       Size\n"
     ]
    },
    {
     "name": "stderr",
     "output_type": "stream",
     "text": [
      "     58/100       2.6G     0.9206     0.6752      1.172          2        640: 100%|██████████| 91/91 [00:13<00:00,  6.71it/s]\n",
      "                 Class     Images  Instances      Box(P          R      mAP50  mAP50-95): 100%|██████████| 5/5 [00:00<00:00,  8.80it/s]"
     ]
    },
    {
     "name": "stdout",
     "output_type": "stream",
     "text": [
      "                   all        141        174      0.781      0.667      0.693      0.487\n"
     ]
    },
    {
     "name": "stderr",
     "output_type": "stream",
     "text": [
      "\n"
     ]
    },
    {
     "name": "stdout",
     "output_type": "stream",
     "text": [
      "\n",
      "      Epoch    GPU_mem   box_loss   cls_loss   dfl_loss  Instances       Size\n"
     ]
    },
    {
     "name": "stderr",
     "output_type": "stream",
     "text": [
      "     59/100       2.6G      0.919     0.6836      1.165          4        640: 100%|██████████| 91/91 [00:13<00:00,  6.73it/s]\n",
      "                 Class     Images  Instances      Box(P          R      mAP50  mAP50-95): 100%|██████████| 5/5 [00:00<00:00,  8.73it/s]"
     ]
    },
    {
     "name": "stdout",
     "output_type": "stream",
     "text": [
      "                   all        141        174      0.775      0.695      0.751      0.478\n"
     ]
    },
    {
     "name": "stderr",
     "output_type": "stream",
     "text": [
      "\n"
     ]
    },
    {
     "name": "stdout",
     "output_type": "stream",
     "text": [
      "\n",
      "      Epoch    GPU_mem   box_loss   cls_loss   dfl_loss  Instances       Size\n"
     ]
    },
    {
     "name": "stderr",
     "output_type": "stream",
     "text": [
      "     60/100       2.6G     0.9182     0.6906      1.171          1        640: 100%|██████████| 91/91 [00:13<00:00,  6.71it/s]\n",
      "                 Class     Images  Instances      Box(P          R      mAP50  mAP50-95): 100%|██████████| 5/5 [00:00<00:00,  8.76it/s]"
     ]
    },
    {
     "name": "stdout",
     "output_type": "stream",
     "text": [
      "                   all        141        174      0.761      0.697      0.736      0.467\n"
     ]
    },
    {
     "name": "stderr",
     "output_type": "stream",
     "text": [
      "\n"
     ]
    },
    {
     "name": "stdout",
     "output_type": "stream",
     "text": [
      "\n",
      "      Epoch    GPU_mem   box_loss   cls_loss   dfl_loss  Instances       Size\n"
     ]
    },
    {
     "name": "stderr",
     "output_type": "stream",
     "text": [
      "     61/100       2.6G     0.8886     0.6438      1.176          2        640: 100%|██████████| 91/91 [00:13<00:00,  6.72it/s]\n",
      "                 Class     Images  Instances      Box(P          R      mAP50  mAP50-95): 100%|██████████| 5/5 [00:00<00:00,  8.65it/s]"
     ]
    },
    {
     "name": "stdout",
     "output_type": "stream",
     "text": [
      "                   all        141        174      0.785      0.684      0.706      0.464\n"
     ]
    },
    {
     "name": "stderr",
     "output_type": "stream",
     "text": [
      "\n"
     ]
    },
    {
     "name": "stdout",
     "output_type": "stream",
     "text": [
      "\n",
      "      Epoch    GPU_mem   box_loss   cls_loss   dfl_loss  Instances       Size\n"
     ]
    },
    {
     "name": "stderr",
     "output_type": "stream",
     "text": [
      "     62/100       2.6G     0.9229     0.6887      1.174          1        640: 100%|██████████| 91/91 [00:13<00:00,  6.68it/s]\n",
      "                 Class     Images  Instances      Box(P          R      mAP50  mAP50-95): 100%|██████████| 5/5 [00:00<00:00,  8.46it/s]"
     ]
    },
    {
     "name": "stdout",
     "output_type": "stream",
     "text": [
      "                   all        141        174       0.82      0.661      0.729      0.483\n"
     ]
    },
    {
     "name": "stderr",
     "output_type": "stream",
     "text": [
      "\n"
     ]
    },
    {
     "name": "stdout",
     "output_type": "stream",
     "text": [
      "\n",
      "      Epoch    GPU_mem   box_loss   cls_loss   dfl_loss  Instances       Size\n"
     ]
    },
    {
     "name": "stderr",
     "output_type": "stream",
     "text": [
      "     63/100       2.6G     0.8732     0.6497      1.142          0        640: 100%|██████████| 91/91 [00:13<00:00,  6.67it/s]\n",
      "                 Class     Images  Instances      Box(P          R      mAP50  mAP50-95): 100%|██████████| 5/5 [00:00<00:00,  8.51it/s]"
     ]
    },
    {
     "name": "stdout",
     "output_type": "stream",
     "text": [
      "                   all        141        174      0.768      0.667      0.727      0.486\n"
     ]
    },
    {
     "name": "stderr",
     "output_type": "stream",
     "text": [
      "\n"
     ]
    },
    {
     "name": "stdout",
     "output_type": "stream",
     "text": [
      "\n",
      "      Epoch    GPU_mem   box_loss   cls_loss   dfl_loss  Instances       Size\n"
     ]
    },
    {
     "name": "stderr",
     "output_type": "stream",
     "text": [
      "     64/100       2.6G     0.8882     0.7107      1.135          0        640: 100%|██████████| 91/91 [00:13<00:00,  6.67it/s]\n",
      "                 Class     Images  Instances      Box(P          R      mAP50  mAP50-95): 100%|██████████| 5/5 [00:00<00:00,  8.65it/s]"
     ]
    },
    {
     "name": "stdout",
     "output_type": "stream",
     "text": [
      "                   all        141        174      0.814      0.655      0.733      0.475\n"
     ]
    },
    {
     "name": "stderr",
     "output_type": "stream",
     "text": [
      "\n"
     ]
    },
    {
     "name": "stdout",
     "output_type": "stream",
     "text": [
      "\n",
      "      Epoch    GPU_mem   box_loss   cls_loss   dfl_loss  Instances       Size\n"
     ]
    },
    {
     "name": "stderr",
     "output_type": "stream",
     "text": [
      "     65/100       2.6G      0.876     0.6308       1.14          2        640: 100%|██████████| 91/91 [00:13<00:00,  6.64it/s]\n",
      "                 Class     Images  Instances      Box(P          R      mAP50  mAP50-95): 100%|██████████| 5/5 [00:00<00:00,  8.47it/s]"
     ]
    },
    {
     "name": "stdout",
     "output_type": "stream",
     "text": [
      "                   all        141        174      0.816      0.632      0.717      0.477\n"
     ]
    },
    {
     "name": "stderr",
     "output_type": "stream",
     "text": [
      "\n"
     ]
    },
    {
     "name": "stdout",
     "output_type": "stream",
     "text": [
      "\n",
      "      Epoch    GPU_mem   box_loss   cls_loss   dfl_loss  Instances       Size\n"
     ]
    },
    {
     "name": "stderr",
     "output_type": "stream",
     "text": [
      "     66/100       2.6G     0.8707     0.6252      1.137          3        640: 100%|██████████| 91/91 [00:13<00:00,  6.66it/s]\n",
      "                 Class     Images  Instances      Box(P          R      mAP50  mAP50-95): 100%|██████████| 5/5 [00:00<00:00,  8.56it/s]"
     ]
    },
    {
     "name": "stdout",
     "output_type": "stream",
     "text": [
      "                   all        141        174      0.797      0.679      0.737       0.49\n"
     ]
    },
    {
     "name": "stderr",
     "output_type": "stream",
     "text": [
      "\n"
     ]
    },
    {
     "name": "stdout",
     "output_type": "stream",
     "text": [
      "\n",
      "      Epoch    GPU_mem   box_loss   cls_loss   dfl_loss  Instances       Size\n"
     ]
    },
    {
     "name": "stderr",
     "output_type": "stream",
     "text": [
      "     67/100       2.6G     0.8499     0.5992      1.143          1        640: 100%|██████████| 91/91 [00:13<00:00,  6.67it/s]\n",
      "                 Class     Images  Instances      Box(P          R      mAP50  mAP50-95): 100%|██████████| 5/5 [00:00<00:00,  8.57it/s]"
     ]
    },
    {
     "name": "stdout",
     "output_type": "stream",
     "text": [
      "                   all        141        174      0.846      0.661      0.734      0.463\n"
     ]
    },
    {
     "name": "stderr",
     "output_type": "stream",
     "text": [
      "\n"
     ]
    },
    {
     "name": "stdout",
     "output_type": "stream",
     "text": [
      "\n",
      "      Epoch    GPU_mem   box_loss   cls_loss   dfl_loss  Instances       Size\n"
     ]
    },
    {
     "name": "stderr",
     "output_type": "stream",
     "text": [
      "     68/100       2.6G     0.8727     0.6192      1.137          2        640: 100%|██████████| 91/91 [00:13<00:00,  6.62it/s]\n",
      "                 Class     Images  Instances      Box(P          R      mAP50  mAP50-95): 100%|██████████| 5/5 [00:00<00:00,  8.59it/s]"
     ]
    },
    {
     "name": "stdout",
     "output_type": "stream",
     "text": [
      "                   all        141        174      0.827      0.689      0.716      0.466\n"
     ]
    },
    {
     "name": "stderr",
     "output_type": "stream",
     "text": [
      "\n"
     ]
    },
    {
     "name": "stdout",
     "output_type": "stream",
     "text": [
      "\n",
      "      Epoch    GPU_mem   box_loss   cls_loss   dfl_loss  Instances       Size\n"
     ]
    },
    {
     "name": "stderr",
     "output_type": "stream",
     "text": [
      "     69/100       2.6G     0.8624     0.6391      1.132          2        640: 100%|██████████| 91/91 [00:13<00:00,  6.65it/s]\n",
      "                 Class     Images  Instances      Box(P          R      mAP50  mAP50-95): 100%|██████████| 5/5 [00:00<00:00,  8.57it/s]"
     ]
    },
    {
     "name": "stdout",
     "output_type": "stream",
     "text": [
      "                   all        141        174      0.854      0.684      0.741      0.488\n"
     ]
    },
    {
     "name": "stderr",
     "output_type": "stream",
     "text": [
      "\n"
     ]
    },
    {
     "name": "stdout",
     "output_type": "stream",
     "text": [
      "\n",
      "      Epoch    GPU_mem   box_loss   cls_loss   dfl_loss  Instances       Size\n"
     ]
    },
    {
     "name": "stderr",
     "output_type": "stream",
     "text": [
      "     70/100       2.6G     0.8281     0.5912      1.118          1        640: 100%|██████████| 91/91 [00:13<00:00,  6.65it/s]\n",
      "                 Class     Images  Instances      Box(P          R      mAP50  mAP50-95): 100%|██████████| 5/5 [00:00<00:00,  8.65it/s]"
     ]
    },
    {
     "name": "stdout",
     "output_type": "stream",
     "text": [
      "                   all        141        174      0.793      0.684       0.75      0.504\n"
     ]
    },
    {
     "name": "stderr",
     "output_type": "stream",
     "text": [
      "\n"
     ]
    },
    {
     "name": "stdout",
     "output_type": "stream",
     "text": [
      "\n",
      "      Epoch    GPU_mem   box_loss   cls_loss   dfl_loss  Instances       Size\n"
     ]
    },
    {
     "name": "stderr",
     "output_type": "stream",
     "text": [
      "     71/100       2.6G     0.8318     0.5803      1.121          1        640: 100%|██████████| 91/91 [00:13<00:00,  6.68it/s]\n",
      "                 Class     Images  Instances      Box(P          R      mAP50  mAP50-95): 100%|██████████| 5/5 [00:00<00:00,  8.68it/s]"
     ]
    },
    {
     "name": "stdout",
     "output_type": "stream",
     "text": [
      "                   all        141        174      0.785      0.671      0.715      0.474\n"
     ]
    },
    {
     "name": "stderr",
     "output_type": "stream",
     "text": [
      "\n"
     ]
    },
    {
     "name": "stdout",
     "output_type": "stream",
     "text": [
      "\n",
      "      Epoch    GPU_mem   box_loss   cls_loss   dfl_loss  Instances       Size\n"
     ]
    },
    {
     "name": "stderr",
     "output_type": "stream",
     "text": [
      "     72/100       2.6G     0.8274      0.593      1.112          4        640: 100%|██████████| 91/91 [00:13<00:00,  6.66it/s]\n",
      "                 Class     Images  Instances      Box(P          R      mAP50  mAP50-95): 100%|██████████| 5/5 [00:00<00:00,  8.63it/s]"
     ]
    },
    {
     "name": "stdout",
     "output_type": "stream",
     "text": [
      "                   all        141        174      0.832      0.672      0.743      0.479\n"
     ]
    },
    {
     "name": "stderr",
     "output_type": "stream",
     "text": [
      "\n"
     ]
    },
    {
     "name": "stdout",
     "output_type": "stream",
     "text": [
      "\n",
      "      Epoch    GPU_mem   box_loss   cls_loss   dfl_loss  Instances       Size\n"
     ]
    },
    {
     "name": "stderr",
     "output_type": "stream",
     "text": [
      "     73/100       2.6G     0.8274     0.5865      1.103          0        640: 100%|██████████| 91/91 [00:13<00:00,  6.67it/s]\n",
      "                 Class     Images  Instances      Box(P          R      mAP50  mAP50-95): 100%|██████████| 5/5 [00:00<00:00,  8.67it/s]"
     ]
    },
    {
     "name": "stdout",
     "output_type": "stream",
     "text": [
      "                   all        141        174      0.795      0.691      0.741      0.503\n"
     ]
    },
    {
     "name": "stderr",
     "output_type": "stream",
     "text": [
      "\n"
     ]
    },
    {
     "name": "stdout",
     "output_type": "stream",
     "text": [
      "\n",
      "      Epoch    GPU_mem   box_loss   cls_loss   dfl_loss  Instances       Size\n"
     ]
    },
    {
     "name": "stderr",
     "output_type": "stream",
     "text": [
      "     74/100       2.6G     0.8102     0.5689      1.106          2        640: 100%|██████████| 91/91 [00:13<00:00,  6.67it/s]\n",
      "                 Class     Images  Instances      Box(P          R      mAP50  mAP50-95): 100%|██████████| 5/5 [00:00<00:00,  8.66it/s]"
     ]
    },
    {
     "name": "stdout",
     "output_type": "stream",
     "text": [
      "                   all        141        174      0.775      0.678      0.726      0.494\n"
     ]
    },
    {
     "name": "stderr",
     "output_type": "stream",
     "text": [
      "\n"
     ]
    },
    {
     "name": "stdout",
     "output_type": "stream",
     "text": [
      "\n",
      "      Epoch    GPU_mem   box_loss   cls_loss   dfl_loss  Instances       Size\n"
     ]
    },
    {
     "name": "stderr",
     "output_type": "stream",
     "text": [
      "     75/100       2.6G     0.8313      0.581      1.127          1        640: 100%|██████████| 91/91 [00:13<00:00,  6.70it/s]\n",
      "                 Class     Images  Instances      Box(P          R      mAP50  mAP50-95): 100%|██████████| 5/5 [00:00<00:00,  8.59it/s]"
     ]
    },
    {
     "name": "stdout",
     "output_type": "stream",
     "text": [
      "                   all        141        174       0.81      0.684      0.753      0.509\n"
     ]
    },
    {
     "name": "stderr",
     "output_type": "stream",
     "text": [
      "\n"
     ]
    },
    {
     "name": "stdout",
     "output_type": "stream",
     "text": [
      "\n",
      "      Epoch    GPU_mem   box_loss   cls_loss   dfl_loss  Instances       Size\n"
     ]
    },
    {
     "name": "stderr",
     "output_type": "stream",
     "text": [
      "     76/100       2.6G      0.846      0.603      1.125          1        640: 100%|██████████| 91/91 [00:13<00:00,  6.69it/s]\n",
      "                 Class     Images  Instances      Box(P          R      mAP50  mAP50-95): 100%|██████████| 5/5 [00:00<00:00,  8.60it/s]"
     ]
    },
    {
     "name": "stdout",
     "output_type": "stream",
     "text": [
      "                   all        141        174      0.799      0.701      0.748      0.487\n"
     ]
    },
    {
     "name": "stderr",
     "output_type": "stream",
     "text": [
      "\n"
     ]
    },
    {
     "name": "stdout",
     "output_type": "stream",
     "text": [
      "\n",
      "      Epoch    GPU_mem   box_loss   cls_loss   dfl_loss  Instances       Size\n"
     ]
    },
    {
     "name": "stderr",
     "output_type": "stream",
     "text": [
      "     77/100       2.6G     0.7941      0.569      1.092          5        640: 100%|██████████| 91/91 [00:13<00:00,  6.69it/s]\n",
      "                 Class     Images  Instances      Box(P          R      mAP50  mAP50-95): 100%|██████████| 5/5 [00:00<00:00,  8.63it/s]"
     ]
    },
    {
     "name": "stdout",
     "output_type": "stream",
     "text": [
      "                   all        141        174      0.769      0.707      0.753      0.492\n"
     ]
    },
    {
     "name": "stderr",
     "output_type": "stream",
     "text": [
      "\n"
     ]
    },
    {
     "name": "stdout",
     "output_type": "stream",
     "text": [
      "\n",
      "      Epoch    GPU_mem   box_loss   cls_loss   dfl_loss  Instances       Size\n"
     ]
    },
    {
     "name": "stderr",
     "output_type": "stream",
     "text": [
      "     78/100       2.6G     0.8013     0.5621      1.097          3        640: 100%|██████████| 91/91 [00:13<00:00,  6.68it/s]\n",
      "                 Class     Images  Instances      Box(P          R      mAP50  mAP50-95): 100%|██████████| 5/5 [00:00<00:00,  8.57it/s]"
     ]
    },
    {
     "name": "stdout",
     "output_type": "stream",
     "text": [
      "                   all        141        174      0.835      0.707      0.768      0.508\n"
     ]
    },
    {
     "name": "stderr",
     "output_type": "stream",
     "text": [
      "\n"
     ]
    },
    {
     "name": "stdout",
     "output_type": "stream",
     "text": [
      "\n",
      "      Epoch    GPU_mem   box_loss   cls_loss   dfl_loss  Instances       Size\n"
     ]
    },
    {
     "name": "stderr",
     "output_type": "stream",
     "text": [
      "     79/100       2.6G     0.8165     0.5745      1.102          2        640: 100%|██████████| 91/91 [00:13<00:00,  6.68it/s]\n",
      "                 Class     Images  Instances      Box(P          R      mAP50  mAP50-95): 100%|██████████| 5/5 [00:00<00:00,  7.79it/s]"
     ]
    },
    {
     "name": "stdout",
     "output_type": "stream",
     "text": [
      "                   all        141        174      0.897      0.632       0.72      0.496\n"
     ]
    },
    {
     "name": "stderr",
     "output_type": "stream",
     "text": [
      "\n"
     ]
    },
    {
     "name": "stdout",
     "output_type": "stream",
     "text": [
      "\n",
      "      Epoch    GPU_mem   box_loss   cls_loss   dfl_loss  Instances       Size\n"
     ]
    },
    {
     "name": "stderr",
     "output_type": "stream",
     "text": [
      "     80/100       2.6G     0.8283      0.564      1.109          1        640: 100%|██████████| 91/91 [00:13<00:00,  6.67it/s]\n",
      "                 Class     Images  Instances      Box(P          R      mAP50  mAP50-95): 100%|██████████| 5/5 [00:00<00:00,  8.61it/s]"
     ]
    },
    {
     "name": "stdout",
     "output_type": "stream",
     "text": [
      "                   all        141        174      0.855      0.649      0.713      0.471\n"
     ]
    },
    {
     "name": "stderr",
     "output_type": "stream",
     "text": [
      "\n"
     ]
    },
    {
     "name": "stdout",
     "output_type": "stream",
     "text": [
      "\n",
      "      Epoch    GPU_mem   box_loss   cls_loss   dfl_loss  Instances       Size\n"
     ]
    },
    {
     "name": "stderr",
     "output_type": "stream",
     "text": [
      "     81/100       2.6G     0.7801     0.5644      1.081          2        640: 100%|██████████| 91/91 [00:13<00:00,  6.68it/s]\n",
      "                 Class     Images  Instances      Box(P          R      mAP50  mAP50-95): 100%|██████████| 5/5 [00:00<00:00,  8.74it/s]"
     ]
    },
    {
     "name": "stdout",
     "output_type": "stream",
     "text": [
      "                   all        141        174      0.827      0.717      0.762      0.496\n"
     ]
    },
    {
     "name": "stderr",
     "output_type": "stream",
     "text": [
      "\n"
     ]
    },
    {
     "name": "stdout",
     "output_type": "stream",
     "text": [
      "\n",
      "      Epoch    GPU_mem   box_loss   cls_loss   dfl_loss  Instances       Size\n"
     ]
    },
    {
     "name": "stderr",
     "output_type": "stream",
     "text": [
      "     82/100       2.6G     0.7946     0.5363      1.096          2        640: 100%|██████████| 91/91 [00:13<00:00,  6.69it/s]\n",
      "                 Class     Images  Instances      Box(P          R      mAP50  mAP50-95): 100%|██████████| 5/5 [00:00<00:00,  8.66it/s]"
     ]
    },
    {
     "name": "stdout",
     "output_type": "stream",
     "text": [
      "                   all        141        174       0.81      0.701      0.742      0.477\n"
     ]
    },
    {
     "name": "stderr",
     "output_type": "stream",
     "text": [
      "\n"
     ]
    },
    {
     "name": "stdout",
     "output_type": "stream",
     "text": [
      "\n",
      "      Epoch    GPU_mem   box_loss   cls_loss   dfl_loss  Instances       Size\n"
     ]
    },
    {
     "name": "stderr",
     "output_type": "stream",
     "text": [
      "     83/100       2.6G     0.7983     0.5458      1.102          3        640: 100%|██████████| 91/91 [00:13<00:00,  6.69it/s]\n",
      "                 Class     Images  Instances      Box(P          R      mAP50  mAP50-95): 100%|██████████| 5/5 [00:00<00:00,  8.63it/s]"
     ]
    },
    {
     "name": "stdout",
     "output_type": "stream",
     "text": [
      "                   all        141        174      0.827      0.672      0.745      0.506\n"
     ]
    },
    {
     "name": "stderr",
     "output_type": "stream",
     "text": [
      "\n"
     ]
    },
    {
     "name": "stdout",
     "output_type": "stream",
     "text": [
      "\n",
      "      Epoch    GPU_mem   box_loss   cls_loss   dfl_loss  Instances       Size\n"
     ]
    },
    {
     "name": "stderr",
     "output_type": "stream",
     "text": [
      "     84/100       2.6G     0.7739     0.5234      1.084          4        640: 100%|██████████| 91/91 [00:13<00:00,  6.70it/s]\n",
      "                 Class     Images  Instances      Box(P          R      mAP50  mAP50-95): 100%|██████████| 5/5 [00:00<00:00,  8.55it/s]"
     ]
    },
    {
     "name": "stdout",
     "output_type": "stream",
     "text": [
      "                   all        141        174      0.815       0.69      0.729      0.484\n"
     ]
    },
    {
     "name": "stderr",
     "output_type": "stream",
     "text": [
      "\n"
     ]
    },
    {
     "name": "stdout",
     "output_type": "stream",
     "text": [
      "\n",
      "      Epoch    GPU_mem   box_loss   cls_loss   dfl_loss  Instances       Size\n"
     ]
    },
    {
     "name": "stderr",
     "output_type": "stream",
     "text": [
      "     85/100       2.6G     0.7582      0.519      1.067          0        640: 100%|██████████| 91/91 [00:13<00:00,  6.69it/s]\n",
      "                 Class     Images  Instances      Box(P          R      mAP50  mAP50-95): 100%|██████████| 5/5 [00:00<00:00,  8.63it/s]"
     ]
    },
    {
     "name": "stdout",
     "output_type": "stream",
     "text": [
      "                   all        141        174      0.881      0.679      0.753      0.497\n"
     ]
    },
    {
     "name": "stderr",
     "output_type": "stream",
     "text": [
      "\n"
     ]
    },
    {
     "name": "stdout",
     "output_type": "stream",
     "text": [
      "\n",
      "      Epoch    GPU_mem   box_loss   cls_loss   dfl_loss  Instances       Size\n"
     ]
    },
    {
     "name": "stderr",
     "output_type": "stream",
     "text": [
      "     86/100       2.6G     0.7679     0.5262      1.075          0        640: 100%|██████████| 91/91 [00:13<00:00,  6.71it/s]\n",
      "                 Class     Images  Instances      Box(P          R      mAP50  mAP50-95): 100%|██████████| 5/5 [00:00<00:00,  8.68it/s]"
     ]
    },
    {
     "name": "stdout",
     "output_type": "stream",
     "text": [
      "                   all        141        174      0.871      0.615      0.702      0.484\n"
     ]
    },
    {
     "name": "stderr",
     "output_type": "stream",
     "text": [
      "\n"
     ]
    },
    {
     "name": "stdout",
     "output_type": "stream",
     "text": [
      "\n",
      "      Epoch    GPU_mem   box_loss   cls_loss   dfl_loss  Instances       Size\n"
     ]
    },
    {
     "name": "stderr",
     "output_type": "stream",
     "text": [
      "     87/100       2.6G     0.7684     0.5221      1.081          2        640: 100%|██████████| 91/91 [00:13<00:00,  6.71it/s]\n",
      "                 Class     Images  Instances      Box(P          R      mAP50  mAP50-95): 100%|██████████| 5/5 [00:00<00:00,  8.68it/s]"
     ]
    },
    {
     "name": "stdout",
     "output_type": "stream",
     "text": [
      "                   all        141        174        0.8       0.69      0.734      0.504\n"
     ]
    },
    {
     "name": "stderr",
     "output_type": "stream",
     "text": [
      "\n"
     ]
    },
    {
     "name": "stdout",
     "output_type": "stream",
     "text": [
      "\n",
      "      Epoch    GPU_mem   box_loss   cls_loss   dfl_loss  Instances       Size\n"
     ]
    },
    {
     "name": "stderr",
     "output_type": "stream",
     "text": [
      "     88/100       2.6G     0.7553     0.5046      1.068          1        640: 100%|██████████| 91/91 [00:13<00:00,  6.70it/s]\n",
      "                 Class     Images  Instances      Box(P          R      mAP50  mAP50-95): 100%|██████████| 5/5 [00:00<00:00,  8.67it/s]"
     ]
    },
    {
     "name": "stdout",
     "output_type": "stream",
     "text": [
      "                   all        141        174      0.814      0.681      0.743      0.502\n"
     ]
    },
    {
     "name": "stderr",
     "output_type": "stream",
     "text": [
      "\n"
     ]
    },
    {
     "name": "stdout",
     "output_type": "stream",
     "text": [
      "\n",
      "      Epoch    GPU_mem   box_loss   cls_loss   dfl_loss  Instances       Size\n"
     ]
    },
    {
     "name": "stderr",
     "output_type": "stream",
     "text": [
      "     89/100       2.6G      0.743     0.5075      1.068          1        640: 100%|██████████| 91/91 [00:13<00:00,  6.70it/s]\n",
      "                 Class     Images  Instances      Box(P          R      mAP50  mAP50-95): 100%|██████████| 5/5 [00:00<00:00,  8.68it/s]"
     ]
    },
    {
     "name": "stdout",
     "output_type": "stream",
     "text": [
      "                   all        141        174      0.818      0.684      0.732      0.491\n"
     ]
    },
    {
     "name": "stderr",
     "output_type": "stream",
     "text": [
      "\n"
     ]
    },
    {
     "name": "stdout",
     "output_type": "stream",
     "text": [
      "\n",
      "      Epoch    GPU_mem   box_loss   cls_loss   dfl_loss  Instances       Size\n"
     ]
    },
    {
     "name": "stderr",
     "output_type": "stream",
     "text": [
      "     90/100       2.6G     0.7503     0.5012      1.083          1        640: 100%|██████████| 91/91 [00:13<00:00,  6.67it/s]\n",
      "                 Class     Images  Instances      Box(P          R      mAP50  mAP50-95): 100%|██████████| 5/5 [00:00<00:00,  8.67it/s]"
     ]
    },
    {
     "name": "stdout",
     "output_type": "stream",
     "text": [
      "                   all        141        174      0.771      0.718      0.721      0.499\n"
     ]
    },
    {
     "name": "stderr",
     "output_type": "stream",
     "text": [
      "\n"
     ]
    },
    {
     "name": "stdout",
     "output_type": "stream",
     "text": [
      "Closing dataloader mosaic\n",
      "\u001b[34m\u001b[1malbumentations: \u001b[0mBlur(p=0.01, blur_limit=(3, 7)), MedianBlur(p=0.01, blur_limit=(3, 7)), ToGray(p=0.01, num_output_channels=3, method='weighted_average'), CLAHE(p=0.01, clip_limit=(1.0, 4.0), tile_grid_size=(8, 8))\n"
     ]
    },
    {
     "name": "stderr",
     "output_type": "stream",
     "text": [
      "/home/adil/yolo_v12n/yolov12/ultralytics/data/augment.py:1853: UserWarning: Argument(s) 'quality_lower' are not valid for transform ImageCompression\n",
      "  A.ImageCompression(quality_lower=75, p=0.0),\n"
     ]
    },
    {
     "name": "stdout",
     "output_type": "stream",
     "text": [
      "\n",
      "      Epoch    GPU_mem   box_loss   cls_loss   dfl_loss  Instances       Size\n"
     ]
    },
    {
     "name": "stderr",
     "output_type": "stream",
     "text": [
      "     91/100       2.6G     0.6632     0.3915     0.9983          1        640: 100%|██████████| 91/91 [00:13<00:00,  6.55it/s]\n",
      "                 Class     Images  Instances      Box(P          R      mAP50  mAP50-95): 100%|██████████| 5/5 [00:00<00:00,  8.63it/s]"
     ]
    },
    {
     "name": "stdout",
     "output_type": "stream",
     "text": [
      "                   all        141        174      0.792       0.73      0.725      0.499\n"
     ]
    },
    {
     "name": "stderr",
     "output_type": "stream",
     "text": [
      "\n"
     ]
    },
    {
     "name": "stdout",
     "output_type": "stream",
     "text": [
      "\n",
      "      Epoch    GPU_mem   box_loss   cls_loss   dfl_loss  Instances       Size\n"
     ]
    },
    {
     "name": "stderr",
     "output_type": "stream",
     "text": [
      "     92/100       2.6G     0.6492      0.409     0.9997          1        640: 100%|██████████| 91/91 [00:13<00:00,  6.69it/s]\n",
      "                 Class     Images  Instances      Box(P          R      mAP50  mAP50-95): 100%|██████████| 5/5 [00:00<00:00,  8.68it/s]"
     ]
    },
    {
     "name": "stdout",
     "output_type": "stream",
     "text": [
      "                   all        141        174      0.811      0.693      0.724      0.509\n"
     ]
    },
    {
     "name": "stderr",
     "output_type": "stream",
     "text": [
      "\n"
     ]
    },
    {
     "name": "stdout",
     "output_type": "stream",
     "text": [
      "\n",
      "      Epoch    GPU_mem   box_loss   cls_loss   dfl_loss  Instances       Size\n"
     ]
    },
    {
     "name": "stderr",
     "output_type": "stream",
     "text": [
      "     93/100       2.6G     0.6472     0.3924      1.002          1        640: 100%|██████████| 91/91 [00:13<00:00,  6.72it/s]\n",
      "                 Class     Images  Instances      Box(P          R      mAP50  mAP50-95): 100%|██████████| 5/5 [00:00<00:00,  8.63it/s]"
     ]
    },
    {
     "name": "stdout",
     "output_type": "stream",
     "text": [
      "                   all        141        174      0.835      0.701      0.732      0.508\n"
     ]
    },
    {
     "name": "stderr",
     "output_type": "stream",
     "text": [
      "\n"
     ]
    },
    {
     "name": "stdout",
     "output_type": "stream",
     "text": [
      "\n",
      "      Epoch    GPU_mem   box_loss   cls_loss   dfl_loss  Instances       Size\n"
     ]
    },
    {
     "name": "stderr",
     "output_type": "stream",
     "text": [
      "     94/100       2.6G     0.6224     0.3628     0.9705          1        640: 100%|██████████| 91/91 [00:13<00:00,  6.71it/s]\n",
      "                 Class     Images  Instances      Box(P          R      mAP50  mAP50-95): 100%|██████████| 5/5 [00:00<00:00,  8.65it/s]"
     ]
    },
    {
     "name": "stdout",
     "output_type": "stream",
     "text": [
      "                   all        141        174      0.802      0.723      0.744      0.513\n"
     ]
    },
    {
     "name": "stderr",
     "output_type": "stream",
     "text": [
      "\n"
     ]
    },
    {
     "name": "stdout",
     "output_type": "stream",
     "text": [
      "\n",
      "      Epoch    GPU_mem   box_loss   cls_loss   dfl_loss  Instances       Size\n"
     ]
    },
    {
     "name": "stderr",
     "output_type": "stream",
     "text": [
      "     95/100       2.6G     0.6145     0.3502     0.9683          1        640: 100%|██████████| 91/91 [00:13<00:00,  6.73it/s]\n",
      "                 Class     Images  Instances      Box(P          R      mAP50  mAP50-95): 100%|██████████| 5/5 [00:00<00:00,  8.63it/s]"
     ]
    },
    {
     "name": "stdout",
     "output_type": "stream",
     "text": [
      "                   all        141        174      0.845      0.701      0.746      0.516\n"
     ]
    },
    {
     "name": "stderr",
     "output_type": "stream",
     "text": [
      "\n"
     ]
    },
    {
     "name": "stdout",
     "output_type": "stream",
     "text": [
      "\n",
      "      Epoch    GPU_mem   box_loss   cls_loss   dfl_loss  Instances       Size\n"
     ]
    },
    {
     "name": "stderr",
     "output_type": "stream",
     "text": [
      "     96/100       2.6G     0.6093     0.3545     0.9828          1        640: 100%|██████████| 91/91 [00:13<00:00,  6.71it/s]\n",
      "                 Class     Images  Instances      Box(P          R      mAP50  mAP50-95): 100%|██████████| 5/5 [00:00<00:00,  8.69it/s]"
     ]
    },
    {
     "name": "stdout",
     "output_type": "stream",
     "text": [
      "                   all        141        174       0.86      0.704      0.745      0.517\n"
     ]
    },
    {
     "name": "stderr",
     "output_type": "stream",
     "text": [
      "\n"
     ]
    },
    {
     "name": "stdout",
     "output_type": "stream",
     "text": [
      "\n",
      "      Epoch    GPU_mem   box_loss   cls_loss   dfl_loss  Instances       Size\n"
     ]
    },
    {
     "name": "stderr",
     "output_type": "stream",
     "text": [
      "     97/100       2.6G     0.6188     0.3747     0.9854          2        640: 100%|██████████| 91/91 [00:13<00:00,  6.72it/s]\n",
      "                 Class     Images  Instances      Box(P          R      mAP50  mAP50-95): 100%|██████████| 5/5 [00:00<00:00,  8.64it/s]"
     ]
    },
    {
     "name": "stdout",
     "output_type": "stream",
     "text": [
      "                   all        141        174       0.86      0.705      0.753      0.518\n"
     ]
    },
    {
     "name": "stderr",
     "output_type": "stream",
     "text": [
      "\n"
     ]
    },
    {
     "name": "stdout",
     "output_type": "stream",
     "text": [
      "\n",
      "      Epoch    GPU_mem   box_loss   cls_loss   dfl_loss  Instances       Size\n"
     ]
    },
    {
     "name": "stderr",
     "output_type": "stream",
     "text": [
      "     98/100       2.6G     0.5853     0.3389     0.9698          1        640: 100%|██████████| 91/91 [00:13<00:00,  6.69it/s]\n",
      "                 Class     Images  Instances      Box(P          R      mAP50  mAP50-95): 100%|██████████| 5/5 [00:00<00:00,  8.66it/s]"
     ]
    },
    {
     "name": "stdout",
     "output_type": "stream",
     "text": [
      "                   all        141        174      0.828      0.695      0.748      0.519\n"
     ]
    },
    {
     "name": "stderr",
     "output_type": "stream",
     "text": [
      "\n"
     ]
    },
    {
     "name": "stdout",
     "output_type": "stream",
     "text": [
      "\n",
      "      Epoch    GPU_mem   box_loss   cls_loss   dfl_loss  Instances       Size\n"
     ]
    },
    {
     "name": "stderr",
     "output_type": "stream",
     "text": [
      "     99/100       2.6G     0.5887     0.3437     0.9665          1        640: 100%|██████████| 91/91 [00:13<00:00,  6.73it/s]\n",
      "                 Class     Images  Instances      Box(P          R      mAP50  mAP50-95): 100%|██████████| 5/5 [00:00<00:00,  8.66it/s]"
     ]
    },
    {
     "name": "stdout",
     "output_type": "stream",
     "text": [
      "                   all        141        174      0.858      0.684      0.758      0.516\n"
     ]
    },
    {
     "name": "stderr",
     "output_type": "stream",
     "text": [
      "\n"
     ]
    },
    {
     "name": "stdout",
     "output_type": "stream",
     "text": [
      "\n",
      "      Epoch    GPU_mem   box_loss   cls_loss   dfl_loss  Instances       Size\n"
     ]
    },
    {
     "name": "stderr",
     "output_type": "stream",
     "text": [
      "    100/100       2.6G     0.5863     0.3511     0.9606          1        640: 100%|██████████| 91/91 [00:13<00:00,  6.69it/s]\n",
      "                 Class     Images  Instances      Box(P          R      mAP50  mAP50-95): 100%|██████████| 5/5 [00:00<00:00,  8.47it/s]"
     ]
    },
    {
     "name": "stdout",
     "output_type": "stream",
     "text": [
      "                   all        141        174       0.88      0.672      0.761      0.523\n"
     ]
    },
    {
     "name": "stderr",
     "output_type": "stream",
     "text": [
      "\n"
     ]
    },
    {
     "name": "stdout",
     "output_type": "stream",
     "text": [
      "\n",
      "100 epochs completed in 0.409 hours.\n",
      "Optimizer stripped from yolov12_finetune/freeze_backbone3/weights/last.pt, 5.4MB\n",
      "Optimizer stripped from yolov12_finetune/freeze_backbone3/weights/best.pt, 5.4MB\n",
      "\n",
      "Validating yolov12_finetune/freeze_backbone3/weights/best.pt...\n",
      "Ultralytics 8.3.63 🚀 Python-3.11.11 torch-2.2.2+cu121 CUDA:0 (NVIDIA GeForce RTX 3060 Laptop GPU, 5815MiB)\n",
      "YOLOv12n summary (fused): 376 layers, 2,508,539 parameters, 0 gradients, 5.8 GFLOPs\n"
     ]
    },
    {
     "name": "stderr",
     "output_type": "stream",
     "text": [
      "                 Class     Images  Instances      Box(P          R      mAP50  mAP50-95): 100%|██████████| 5/5 [00:00<00:00,  5.26it/s]\n"
     ]
    },
    {
     "name": "stdout",
     "output_type": "stream",
     "text": [
      "                   all        141        174       0.88      0.672      0.761      0.524\n",
      "Speed: 0.2ms preprocess, 2.1ms inference, 0.0ms loss, 1.0ms postprocess per image\n",
      "Results saved to \u001b[1myolov12_finetune/freeze_backbone3\u001b[0m\n"
     ]
    },
    {
     "data": {
      "text/plain": [
       "ultralytics.utils.metrics.DetMetrics object with attributes:\n",
       "\n",
       "ap_class_index: array([0])\n",
       "box: ultralytics.utils.metrics.Metric object\n",
       "confusion_matrix: <ultralytics.utils.metrics.ConfusionMatrix object at 0x776eed7c6110>\n",
       "curves: ['Precision-Recall(B)', 'F1-Confidence(B)', 'Precision-Confidence(B)', 'Recall-Confidence(B)']\n",
       "curves_results: [[array([          0,    0.001001,    0.002002,    0.003003,    0.004004,    0.005005,    0.006006,    0.007007,    0.008008,    0.009009,     0.01001,    0.011011,    0.012012,    0.013013,    0.014014,    0.015015,    0.016016,    0.017017,    0.018018,    0.019019,     0.02002,    0.021021,    0.022022,    0.023023,\n",
       "          0.024024,    0.025025,    0.026026,    0.027027,    0.028028,    0.029029,     0.03003,    0.031031,    0.032032,    0.033033,    0.034034,    0.035035,    0.036036,    0.037037,    0.038038,    0.039039,     0.04004,    0.041041,    0.042042,    0.043043,    0.044044,    0.045045,    0.046046,    0.047047,\n",
       "          0.048048,    0.049049,     0.05005,    0.051051,    0.052052,    0.053053,    0.054054,    0.055055,    0.056056,    0.057057,    0.058058,    0.059059,     0.06006,    0.061061,    0.062062,    0.063063,    0.064064,    0.065065,    0.066066,    0.067067,    0.068068,    0.069069,     0.07007,    0.071071,\n",
       "          0.072072,    0.073073,    0.074074,    0.075075,    0.076076,    0.077077,    0.078078,    0.079079,     0.08008,    0.081081,    0.082082,    0.083083,    0.084084,    0.085085,    0.086086,    0.087087,    0.088088,    0.089089,     0.09009,    0.091091,    0.092092,    0.093093,    0.094094,    0.095095,\n",
       "          0.096096,    0.097097,    0.098098,    0.099099,      0.1001,      0.1011,      0.1021,      0.1031,      0.1041,     0.10511,     0.10611,     0.10711,     0.10811,     0.10911,     0.11011,     0.11111,     0.11211,     0.11311,     0.11411,     0.11512,     0.11612,     0.11712,     0.11812,     0.11912,\n",
       "           0.12012,     0.12112,     0.12212,     0.12312,     0.12412,     0.12513,     0.12613,     0.12713,     0.12813,     0.12913,     0.13013,     0.13113,     0.13213,     0.13313,     0.13413,     0.13514,     0.13614,     0.13714,     0.13814,     0.13914,     0.14014,     0.14114,     0.14214,     0.14314,\n",
       "           0.14414,     0.14515,     0.14615,     0.14715,     0.14815,     0.14915,     0.15015,     0.15115,     0.15215,     0.15315,     0.15415,     0.15516,     0.15616,     0.15716,     0.15816,     0.15916,     0.16016,     0.16116,     0.16216,     0.16316,     0.16416,     0.16517,     0.16617,     0.16717,\n",
       "           0.16817,     0.16917,     0.17017,     0.17117,     0.17217,     0.17317,     0.17417,     0.17518,     0.17618,     0.17718,     0.17818,     0.17918,     0.18018,     0.18118,     0.18218,     0.18318,     0.18418,     0.18519,     0.18619,     0.18719,     0.18819,     0.18919,     0.19019,     0.19119,\n",
       "           0.19219,     0.19319,     0.19419,      0.1952,      0.1962,      0.1972,      0.1982,      0.1992,      0.2002,      0.2012,      0.2022,      0.2032,      0.2042,     0.20521,     0.20621,     0.20721,     0.20821,     0.20921,     0.21021,     0.21121,     0.21221,     0.21321,     0.21421,     0.21522,\n",
       "           0.21622,     0.21722,     0.21822,     0.21922,     0.22022,     0.22122,     0.22222,     0.22322,     0.22422,     0.22523,     0.22623,     0.22723,     0.22823,     0.22923,     0.23023,     0.23123,     0.23223,     0.23323,     0.23423,     0.23524,     0.23624,     0.23724,     0.23824,     0.23924,\n",
       "           0.24024,     0.24124,     0.24224,     0.24324,     0.24424,     0.24525,     0.24625,     0.24725,     0.24825,     0.24925,     0.25025,     0.25125,     0.25225,     0.25325,     0.25425,     0.25526,     0.25626,     0.25726,     0.25826,     0.25926,     0.26026,     0.26126,     0.26226,     0.26326,\n",
       "           0.26426,     0.26527,     0.26627,     0.26727,     0.26827,     0.26927,     0.27027,     0.27127,     0.27227,     0.27327,     0.27427,     0.27528,     0.27628,     0.27728,     0.27828,     0.27928,     0.28028,     0.28128,     0.28228,     0.28328,     0.28428,     0.28529,     0.28629,     0.28729,\n",
       "           0.28829,     0.28929,     0.29029,     0.29129,     0.29229,     0.29329,     0.29429,      0.2953,      0.2963,      0.2973,      0.2983,      0.2993,      0.3003,      0.3013,      0.3023,      0.3033,      0.3043,     0.30531,     0.30631,     0.30731,     0.30831,     0.30931,     0.31031,     0.31131,\n",
       "           0.31231,     0.31331,     0.31431,     0.31532,     0.31632,     0.31732,     0.31832,     0.31932,     0.32032,     0.32132,     0.32232,     0.32332,     0.32432,     0.32533,     0.32633,     0.32733,     0.32833,     0.32933,     0.33033,     0.33133,     0.33233,     0.33333,     0.33433,     0.33534,\n",
       "           0.33634,     0.33734,     0.33834,     0.33934,     0.34034,     0.34134,     0.34234,     0.34334,     0.34434,     0.34535,     0.34635,     0.34735,     0.34835,     0.34935,     0.35035,     0.35135,     0.35235,     0.35335,     0.35435,     0.35536,     0.35636,     0.35736,     0.35836,     0.35936,\n",
       "           0.36036,     0.36136,     0.36236,     0.36336,     0.36436,     0.36537,     0.36637,     0.36737,     0.36837,     0.36937,     0.37037,     0.37137,     0.37237,     0.37337,     0.37437,     0.37538,     0.37638,     0.37738,     0.37838,     0.37938,     0.38038,     0.38138,     0.38238,     0.38338,\n",
       "           0.38438,     0.38539,     0.38639,     0.38739,     0.38839,     0.38939,     0.39039,     0.39139,     0.39239,     0.39339,     0.39439,      0.3954,      0.3964,      0.3974,      0.3984,      0.3994,      0.4004,      0.4014,      0.4024,      0.4034,      0.4044,     0.40541,     0.40641,     0.40741,\n",
       "           0.40841,     0.40941,     0.41041,     0.41141,     0.41241,     0.41341,     0.41441,     0.41542,     0.41642,     0.41742,     0.41842,     0.41942,     0.42042,     0.42142,     0.42242,     0.42342,     0.42442,     0.42543,     0.42643,     0.42743,     0.42843,     0.42943,     0.43043,     0.43143,\n",
       "           0.43243,     0.43343,     0.43443,     0.43544,     0.43644,     0.43744,     0.43844,     0.43944,     0.44044,     0.44144,     0.44244,     0.44344,     0.44444,     0.44545,     0.44645,     0.44745,     0.44845,     0.44945,     0.45045,     0.45145,     0.45245,     0.45345,     0.45445,     0.45546,\n",
       "           0.45646,     0.45746,     0.45846,     0.45946,     0.46046,     0.46146,     0.46246,     0.46346,     0.46446,     0.46547,     0.46647,     0.46747,     0.46847,     0.46947,     0.47047,     0.47147,     0.47247,     0.47347,     0.47447,     0.47548,     0.47648,     0.47748,     0.47848,     0.47948,\n",
       "           0.48048,     0.48148,     0.48248,     0.48348,     0.48448,     0.48549,     0.48649,     0.48749,     0.48849,     0.48949,     0.49049,     0.49149,     0.49249,     0.49349,     0.49449,      0.4955,      0.4965,      0.4975,      0.4985,      0.4995,      0.5005,      0.5015,      0.5025,      0.5035,\n",
       "            0.5045,     0.50551,     0.50651,     0.50751,     0.50851,     0.50951,     0.51051,     0.51151,     0.51251,     0.51351,     0.51451,     0.51552,     0.51652,     0.51752,     0.51852,     0.51952,     0.52052,     0.52152,     0.52252,     0.52352,     0.52452,     0.52553,     0.52653,     0.52753,\n",
       "           0.52853,     0.52953,     0.53053,     0.53153,     0.53253,     0.53353,     0.53453,     0.53554,     0.53654,     0.53754,     0.53854,     0.53954,     0.54054,     0.54154,     0.54254,     0.54354,     0.54454,     0.54555,     0.54655,     0.54755,     0.54855,     0.54955,     0.55055,     0.55155,\n",
       "           0.55255,     0.55355,     0.55455,     0.55556,     0.55656,     0.55756,     0.55856,     0.55956,     0.56056,     0.56156,     0.56256,     0.56356,     0.56456,     0.56557,     0.56657,     0.56757,     0.56857,     0.56957,     0.57057,     0.57157,     0.57257,     0.57357,     0.57457,     0.57558,\n",
       "           0.57658,     0.57758,     0.57858,     0.57958,     0.58058,     0.58158,     0.58258,     0.58358,     0.58458,     0.58559,     0.58659,     0.58759,     0.58859,     0.58959,     0.59059,     0.59159,     0.59259,     0.59359,     0.59459,      0.5956,      0.5966,      0.5976,      0.5986,      0.5996,\n",
       "            0.6006,      0.6016,      0.6026,      0.6036,      0.6046,     0.60561,     0.60661,     0.60761,     0.60861,     0.60961,     0.61061,     0.61161,     0.61261,     0.61361,     0.61461,     0.61562,     0.61662,     0.61762,     0.61862,     0.61962,     0.62062,     0.62162,     0.62262,     0.62362,\n",
       "           0.62462,     0.62563,     0.62663,     0.62763,     0.62863,     0.62963,     0.63063,     0.63163,     0.63263,     0.63363,     0.63463,     0.63564,     0.63664,     0.63764,     0.63864,     0.63964,     0.64064,     0.64164,     0.64264,     0.64364,     0.64464,     0.64565,     0.64665,     0.64765,\n",
       "           0.64865,     0.64965,     0.65065,     0.65165,     0.65265,     0.65365,     0.65465,     0.65566,     0.65666,     0.65766,     0.65866,     0.65966,     0.66066,     0.66166,     0.66266,     0.66366,     0.66466,     0.66567,     0.66667,     0.66767,     0.66867,     0.66967,     0.67067,     0.67167,\n",
       "           0.67267,     0.67367,     0.67467,     0.67568,     0.67668,     0.67768,     0.67868,     0.67968,     0.68068,     0.68168,     0.68268,     0.68368,     0.68468,     0.68569,     0.68669,     0.68769,     0.68869,     0.68969,     0.69069,     0.69169,     0.69269,     0.69369,     0.69469,      0.6957,\n",
       "            0.6967,      0.6977,      0.6987,      0.6997,      0.7007,      0.7017,      0.7027,      0.7037,      0.7047,     0.70571,     0.70671,     0.70771,     0.70871,     0.70971,     0.71071,     0.71171,     0.71271,     0.71371,     0.71471,     0.71572,     0.71672,     0.71772,     0.71872,     0.71972,\n",
       "           0.72072,     0.72172,     0.72272,     0.72372,     0.72472,     0.72573,     0.72673,     0.72773,     0.72873,     0.72973,     0.73073,     0.73173,     0.73273,     0.73373,     0.73473,     0.73574,     0.73674,     0.73774,     0.73874,     0.73974,     0.74074,     0.74174,     0.74274,     0.74374,\n",
       "           0.74474,     0.74575,     0.74675,     0.74775,     0.74875,     0.74975,     0.75075,     0.75175,     0.75275,     0.75375,     0.75475,     0.75576,     0.75676,     0.75776,     0.75876,     0.75976,     0.76076,     0.76176,     0.76276,     0.76376,     0.76476,     0.76577,     0.76677,     0.76777,\n",
       "           0.76877,     0.76977,     0.77077,     0.77177,     0.77277,     0.77377,     0.77477,     0.77578,     0.77678,     0.77778,     0.77878,     0.77978,     0.78078,     0.78178,     0.78278,     0.78378,     0.78478,     0.78579,     0.78679,     0.78779,     0.78879,     0.78979,     0.79079,     0.79179,\n",
       "           0.79279,     0.79379,     0.79479,      0.7958,      0.7968,      0.7978,      0.7988,      0.7998,      0.8008,      0.8018,      0.8028,      0.8038,      0.8048,     0.80581,     0.80681,     0.80781,     0.80881,     0.80981,     0.81081,     0.81181,     0.81281,     0.81381,     0.81481,     0.81582,\n",
       "           0.81682,     0.81782,     0.81882,     0.81982,     0.82082,     0.82182,     0.82282,     0.82382,     0.82482,     0.82583,     0.82683,     0.82783,     0.82883,     0.82983,     0.83083,     0.83183,     0.83283,     0.83383,     0.83483,     0.83584,     0.83684,     0.83784,     0.83884,     0.83984,\n",
       "           0.84084,     0.84184,     0.84284,     0.84384,     0.84484,     0.84585,     0.84685,     0.84785,     0.84885,     0.84985,     0.85085,     0.85185,     0.85285,     0.85385,     0.85485,     0.85586,     0.85686,     0.85786,     0.85886,     0.85986,     0.86086,     0.86186,     0.86286,     0.86386,\n",
       "           0.86486,     0.86587,     0.86687,     0.86787,     0.86887,     0.86987,     0.87087,     0.87187,     0.87287,     0.87387,     0.87487,     0.87588,     0.87688,     0.87788,     0.87888,     0.87988,     0.88088,     0.88188,     0.88288,     0.88388,     0.88488,     0.88589,     0.88689,     0.88789,\n",
       "           0.88889,     0.88989,     0.89089,     0.89189,     0.89289,     0.89389,     0.89489,      0.8959,      0.8969,      0.8979,      0.8989,      0.8999,      0.9009,      0.9019,      0.9029,      0.9039,      0.9049,     0.90591,     0.90691,     0.90791,     0.90891,     0.90991,     0.91091,     0.91191,\n",
       "           0.91291,     0.91391,     0.91491,     0.91592,     0.91692,     0.91792,     0.91892,     0.91992,     0.92092,     0.92192,     0.92292,     0.92392,     0.92492,     0.92593,     0.92693,     0.92793,     0.92893,     0.92993,     0.93093,     0.93193,     0.93293,     0.93393,     0.93493,     0.93594,\n",
       "           0.93694,     0.93794,     0.93894,     0.93994,     0.94094,     0.94194,     0.94294,     0.94394,     0.94494,     0.94595,     0.94695,     0.94795,     0.94895,     0.94995,     0.95095,     0.95195,     0.95295,     0.95395,     0.95495,     0.95596,     0.95696,     0.95796,     0.95896,     0.95996,\n",
       "           0.96096,     0.96196,     0.96296,     0.96396,     0.96496,     0.96597,     0.96697,     0.96797,     0.96897,     0.96997,     0.97097,     0.97197,     0.97297,     0.97397,     0.97497,     0.97598,     0.97698,     0.97798,     0.97898,     0.97998,     0.98098,     0.98198,     0.98298,     0.98398,\n",
       "           0.98498,     0.98599,     0.98699,     0.98799,     0.98899,     0.98999,     0.99099,     0.99199,     0.99299,     0.99399,     0.99499,       0.996,       0.997,       0.998,       0.999,           1]), array([[          1,           1,           1,           1,           1,           1,           1,           1,           1,           1,           1,           1,           1,           1,           1,           1,           1,           1,           1,           1,           1,           1,           1,\n",
       "                  1,           1,           1,           1,           1,           1,           1,           1,           1,           1,           1,           1,           1,           1,           1,           1,           1,           1,           1,           1,           1,           1,           1,\n",
       "                  1,           1,           1,           1,           1,           1,           1,           1,           1,           1,           1,           1,           1,           1,           1,           1,           1,           1,           1,           1,           1,           1,           1,\n",
       "                  1,           1,           1,           1,           1,           1,           1,           1,           1,           1,           1,           1,           1,           1,           1,           1,           1,           1,           1,           1,           1,           1,           1,\n",
       "                  1,           1,           1,           1,           1,           1,           1,           1,           1,           1,           1,           1,     0.96429,     0.96429,     0.96429,     0.96429,     0.96429,     0.96429,     0.96429,     0.96429,     0.96429,     0.96429,     0.96429,\n",
       "            0.96429,     0.96429,     0.96429,     0.96429,     0.96429,     0.96429,     0.96429,     0.96429,     0.96429,     0.96429,     0.96429,     0.96429,     0.96429,     0.96429,     0.96429,     0.96429,     0.96429,     0.96429,     0.96429,     0.96429,     0.96429,     0.96429,     0.96429,\n",
       "            0.96429,     0.96429,     0.96429,     0.96429,     0.96429,     0.96429,     0.96429,     0.96429,     0.96429,     0.96429,     0.96429,     0.96429,     0.96429,     0.96429,     0.96429,     0.96429,     0.96429,     0.96429,     0.94382,     0.94382,     0.94382,     0.94382,     0.94382,\n",
       "            0.94382,     0.94382,     0.94382,     0.94382,     0.94382,     0.94382,     0.94382,     0.94382,     0.94382,     0.94382,     0.94382,     0.94382,     0.94382,     0.94382,     0.94382,     0.94382,     0.94382,     0.94382,     0.94382,     0.94382,     0.94382,     0.94382,     0.94382,\n",
       "            0.94382,     0.94382,     0.94382,     0.94382,     0.94382,     0.94382,     0.94382,     0.94382,     0.94382,     0.94382,     0.94382,     0.94382,     0.94382,     0.94382,     0.94382,     0.94382,     0.94382,     0.94382,     0.94382,     0.94382,     0.94382,     0.94382,     0.94382,\n",
       "            0.94382,     0.94382,     0.94382,     0.94382,     0.94382,     0.94382,     0.94382,     0.94382,     0.94382,     0.94382,     0.94382,     0.94382,     0.94382,     0.94382,     0.94382,     0.94382,     0.94382,     0.94382,     0.94382,     0.94382,     0.94382,     0.94382,     0.94382,\n",
       "            0.94382,     0.94382,     0.94382,     0.94382,     0.94382,     0.94382,     0.94382,     0.94382,     0.94382,     0.94382,     0.94382,     0.94382,     0.94382,     0.94382,     0.94382,     0.94382,     0.94382,     0.94382,     0.94382,     0.94382,     0.94382,     0.94382,     0.94382,\n",
       "            0.94382,     0.94382,     0.94382,     0.94382,     0.94382,     0.94382,     0.94382,     0.94382,     0.94382,     0.94382,     0.94382,     0.94382,     0.94382,     0.94382,     0.94382,     0.94382,     0.94382,     0.94382,     0.94382,     0.94382,     0.94382,     0.94382,     0.94382,\n",
       "            0.94382,     0.94382,     0.94382,     0.94382,     0.94382,     0.94382,     0.94382,     0.94382,     0.94382,     0.94382,     0.94382,     0.94382,     0.94382,     0.94382,     0.94382,     0.94382,     0.94382,     0.94382,     0.94382,     0.94382,     0.94382,     0.94382,     0.94382,\n",
       "            0.94382,     0.94382,     0.94382,     0.94382,     0.94382,     0.94382,     0.94382,     0.94382,     0.94382,     0.94382,     0.94382,     0.94382,     0.94382,     0.94382,     0.94382,     0.94382,     0.94382,     0.94382,     0.94382,     0.94382,     0.94382,     0.94382,     0.94382,\n",
       "            0.94382,     0.94382,     0.94382,     0.94382,     0.94382,     0.94382,     0.94382,     0.94382,     0.94382,     0.94382,     0.94382,     0.94382,     0.94382,     0.94382,     0.94382,     0.94382,     0.94382,     0.94382,     0.94382,     0.94382,     0.94382,     0.94382,     0.94382,\n",
       "            0.94382,     0.94382,     0.94382,     0.94382,     0.94382,     0.94382,     0.94382,     0.94382,     0.94382,     0.94382,     0.94382,     0.94382,     0.94382,     0.94382,     0.94382,     0.94382,     0.94382,     0.94382,     0.94382,     0.94382,     0.94382,     0.94382,     0.94382,\n",
       "            0.94382,     0.94382,     0.94382,     0.94382,     0.94382,     0.94382,     0.94382,     0.94382,     0.94382,     0.94382,     0.94382,     0.94382,     0.94382,     0.94382,     0.94382,     0.94382,     0.94382,     0.94382,     0.94382,     0.94382,     0.94382,     0.94382,     0.94382,\n",
       "            0.94382,     0.94382,     0.94382,     0.94382,     0.94382,     0.94382,     0.94382,     0.94382,     0.94382,     0.94382,     0.94382,     0.94382,     0.94382,     0.94382,     0.94382,     0.94382,     0.94382,     0.94382,     0.94382,     0.94382,     0.94382,     0.94382,     0.94382,\n",
       "            0.94382,     0.94382,     0.94382,     0.94382,     0.94382,     0.94382,     0.94382,     0.94382,     0.94382,     0.94382,     0.94382,     0.94382,     0.94382,     0.94382,     0.94382,     0.94382,     0.94382,     0.94382,     0.94382,     0.94382,     0.94382,     0.94382,     0.94382,\n",
       "            0.94382,     0.94382,     0.94382,     0.94382,     0.94382,     0.94382,     0.94382,     0.94382,     0.94382,     0.94382,     0.94382,     0.94382,     0.94382,     0.94382,     0.94382,     0.94382,     0.94382,     0.94382,     0.94382,     0.94382,     0.94382,     0.94382,     0.94382,\n",
       "            0.94382,     0.94382,     0.94382,     0.94382,     0.94382,     0.94382,     0.94382,     0.94382,     0.94382,     0.94382,     0.94382,     0.94382,     0.94382,     0.94382,     0.94382,     0.94382,     0.94382,     0.94382,     0.94382,     0.94382,     0.94382,     0.94382,     0.94382,\n",
       "            0.93478,     0.93478,     0.93478,     0.93478,     0.93478,     0.93478,     0.93478,     0.93478,     0.93478,     0.93478,     0.93478,     0.92784,     0.92784,     0.92784,     0.92784,     0.92784,     0.92784,     0.92784,     0.92784,     0.92784,     0.92784,     0.92784,     0.92784,\n",
       "            0.92784,     0.92784,     0.92784,     0.92784,     0.92784,     0.92784,     0.92784,     0.92784,     0.92784,     0.92784,     0.92784,     0.92157,     0.92157,     0.92157,     0.92157,     0.92157,     0.92157,     0.92157,     0.92157,     0.92157,     0.92157,     0.92157,     0.92157,\n",
       "            0.92157,     0.92157,     0.92157,     0.92157,     0.92157,     0.92157,     0.92157,     0.92157,     0.92157,     0.92157,     0.92157,     0.91589,     0.91589,     0.91589,     0.91589,     0.91589,     0.91589,     0.91589,     0.91589,     0.91589,     0.91589,     0.91589,     0.91589,\n",
       "            0.91589,     0.91589,     0.91589,     0.91589,     0.91589,     0.91589,     0.91589,     0.91589,     0.91589,     0.91589,     0.91589,     0.90991,     0.90991,     0.90991,     0.90991,     0.90991,     0.90991,     0.90991,     0.90991,     0.90991,     0.90991,     0.90991,     0.90991,\n",
       "            0.90991,     0.90991,     0.90991,     0.90991,     0.90991,     0.90625,     0.90625,     0.90625,     0.90625,     0.90625,     0.90625,     0.90625,     0.90625,     0.90625,     0.90625,     0.90625,     0.90625,     0.90625,     0.90625,     0.90625,     0.90625,     0.90625,     0.90625,\n",
       "            0.90625,     0.90625,     0.90625,     0.90625,     0.90625,     0.90625,     0.90625,     0.90625,     0.90625,     0.90625,     0.90625,     0.90625,     0.90625,     0.90625,     0.90625,     0.90625,     0.90625,     0.90625,     0.90625,     0.90625,     0.90625,     0.90625,     0.90625,\n",
       "            0.90625,     0.90625,     0.90625,     0.90625,     0.90625,     0.90625,     0.90625,     0.90625,     0.90625,     0.90625,     0.90625,     0.90625,     0.90625,     0.90625,     0.90625,     0.90625,     0.90625,     0.90625,     0.90625,     0.90625,     0.90625,     0.90625,     0.90625,\n",
       "            0.90625,     0.90625,     0.90625,     0.90625,     0.90625,     0.90625,     0.90625,     0.90625,     0.90625,     0.90625,     0.90625,     0.90625,     0.90625,     0.90625,     0.90625,     0.90625,     0.90625,     0.90625,     0.90625,     0.90625,     0.90625,     0.90625,         0.9,\n",
       "                0.9,         0.9,         0.9,         0.9,         0.9,     0.88148,     0.88148,     0.88148,     0.88148,     0.88148,     0.88148,     0.88148,     0.88148,     0.88148,     0.88148,     0.88148,     0.88148,     0.87591,     0.87591,     0.87591,     0.87591,     0.87591,     0.85211,\n",
       "            0.85211,     0.85211,     0.85211,     0.85211,     0.85211,     0.84722,     0.84722,     0.84722,     0.84722,     0.84722,     0.84722,     0.81457,     0.81457,     0.81457,     0.81457,     0.81457,     0.81457,     0.81046,     0.81046,     0.81046,     0.81046,     0.81046,      0.7875,\n",
       "             0.7875,      0.7875,      0.7875,      0.7875,      0.7875,      0.7875,      0.7875,      0.7875,      0.7875,      0.7875,      0.7875,     0.76506,     0.76506,     0.76506,     0.76506,     0.76506,     0.76506,      0.7574,      0.7574,      0.7574,      0.7574,      0.7574,      0.7027,\n",
       "             0.7027,      0.7027,      0.7027,      0.7027,      0.7027,      0.7027,      0.7027,      0.7027,      0.7027,      0.7027,      0.7027,     0.69312,     0.69312,     0.69312,     0.69312,     0.69312,     0.69312,     0.64078,     0.64078,     0.64078,     0.64078,     0.64078,      0.6186,\n",
       "             0.6186,      0.6186,      0.6186,      0.6186,      0.6186,     0.61751,     0.61751,     0.61751,     0.61751,     0.61751,     0.61751,     0.55785,     0.55785,     0.55785,     0.55785,     0.55785,     0.55785,     0.54839,     0.54839,     0.54839,     0.54839,     0.54839,      0.5249,\n",
       "             0.5249,      0.5249,      0.5249,      0.5249,      0.5249,     0.52471,     0.52471,     0.52471,     0.52471,     0.52471,     0.52471,     0.50181,     0.50181,     0.50181,     0.50181,     0.50181,     0.50181,     0.47945,     0.47945,     0.47945,     0.47945,     0.47945,     0.44904,\n",
       "            0.44904,     0.44904,     0.44904,     0.44904,     0.44904,     0.41888,     0.41888,     0.41888,     0.41888,     0.41888,     0.41888,     0.38133,     0.38133,     0.38133,     0.38133,     0.38133,     0.38133,     0.33566,     0.33566,     0.33566,     0.33566,     0.33566,     0.31659,\n",
       "            0.31659,     0.31659,     0.31659,     0.31659,     0.31659,     0.30041,     0.30041,     0.30041,     0.30041,     0.30041,     0.30041,     0.25789,     0.25789,     0.25789,     0.25789,     0.25789,     0.23529,     0.23529,     0.23529,     0.23529,     0.23529,     0.23529,     0.23281,\n",
       "            0.23281,     0.23281,     0.23281,     0.23281,     0.23281,     0.21676,     0.21676,     0.21676,     0.21676,     0.21676,     0.21676,     0.21418,     0.21418,     0.21418,     0.21418,     0.21418,      0.1901,     0.18866,     0.18722,     0.18578,     0.18434,      0.1829,     0.18146,\n",
       "            0.18002,     0.17858,     0.17714,      0.1757,     0.17426,     0.17282,     0.17138,     0.16994,      0.1685,     0.16706,     0.16562,     0.16418,     0.16274,      0.1613,     0.15986,     0.15842,     0.15698,     0.15554,      0.1541,     0.15266,     0.15122,     0.14978,     0.14834,\n",
       "             0.1469,     0.14546,     0.14402,     0.14258,     0.14114,      0.1397,     0.13826,     0.13682,     0.13538,     0.13394,      0.1325,     0.13106,     0.12961,     0.12817,     0.12673,     0.12529,     0.12385,     0.12241,     0.12097,     0.11953,     0.11809,     0.11665,     0.11521,\n",
       "            0.11377,     0.11233,     0.11089,     0.10945,     0.10801,     0.10657,     0.10513,     0.10369,     0.10225,     0.10081,    0.099371,    0.097931,    0.096491,    0.095051,    0.093611,    0.092171,     0.09073,     0.08929,     0.08785,     0.08641,     0.08497,     0.08353,    0.082089,\n",
       "           0.080649,    0.079209,    0.077769,    0.076329,    0.074889,    0.073448,    0.072008,    0.070568,    0.069128,    0.067688,    0.066248,    0.064807,    0.063367,    0.061927,    0.060487,    0.059047,    0.057607,    0.056166,    0.054726,    0.053286,    0.051846,    0.050406,    0.048966,\n",
       "           0.047525,    0.046085,    0.044645,    0.043205,    0.041765,    0.040325,    0.038884,    0.037444,    0.036004,    0.034564,    0.033124,    0.031684,    0.030243,    0.028803,    0.027363,    0.025923,    0.024483,    0.023043,    0.021602,    0.020162,    0.018722,    0.017282,    0.015842,\n",
       "           0.014402,    0.012961,    0.011521,    0.010081,    0.008641,   0.0072008,   0.0057607,   0.0043205,   0.0028803,   0.0014402,           0]]), 'Recall', 'Precision'], [array([          0,    0.001001,    0.002002,    0.003003,    0.004004,    0.005005,    0.006006,    0.007007,    0.008008,    0.009009,     0.01001,    0.011011,    0.012012,    0.013013,    0.014014,    0.015015,    0.016016,    0.017017,    0.018018,    0.019019,     0.02002,    0.021021,    0.022022,    0.023023,\n",
       "          0.024024,    0.025025,    0.026026,    0.027027,    0.028028,    0.029029,     0.03003,    0.031031,    0.032032,    0.033033,    0.034034,    0.035035,    0.036036,    0.037037,    0.038038,    0.039039,     0.04004,    0.041041,    0.042042,    0.043043,    0.044044,    0.045045,    0.046046,    0.047047,\n",
       "          0.048048,    0.049049,     0.05005,    0.051051,    0.052052,    0.053053,    0.054054,    0.055055,    0.056056,    0.057057,    0.058058,    0.059059,     0.06006,    0.061061,    0.062062,    0.063063,    0.064064,    0.065065,    0.066066,    0.067067,    0.068068,    0.069069,     0.07007,    0.071071,\n",
       "          0.072072,    0.073073,    0.074074,    0.075075,    0.076076,    0.077077,    0.078078,    0.079079,     0.08008,    0.081081,    0.082082,    0.083083,    0.084084,    0.085085,    0.086086,    0.087087,    0.088088,    0.089089,     0.09009,    0.091091,    0.092092,    0.093093,    0.094094,    0.095095,\n",
       "          0.096096,    0.097097,    0.098098,    0.099099,      0.1001,      0.1011,      0.1021,      0.1031,      0.1041,     0.10511,     0.10611,     0.10711,     0.10811,     0.10911,     0.11011,     0.11111,     0.11211,     0.11311,     0.11411,     0.11512,     0.11612,     0.11712,     0.11812,     0.11912,\n",
       "           0.12012,     0.12112,     0.12212,     0.12312,     0.12412,     0.12513,     0.12613,     0.12713,     0.12813,     0.12913,     0.13013,     0.13113,     0.13213,     0.13313,     0.13413,     0.13514,     0.13614,     0.13714,     0.13814,     0.13914,     0.14014,     0.14114,     0.14214,     0.14314,\n",
       "           0.14414,     0.14515,     0.14615,     0.14715,     0.14815,     0.14915,     0.15015,     0.15115,     0.15215,     0.15315,     0.15415,     0.15516,     0.15616,     0.15716,     0.15816,     0.15916,     0.16016,     0.16116,     0.16216,     0.16316,     0.16416,     0.16517,     0.16617,     0.16717,\n",
       "           0.16817,     0.16917,     0.17017,     0.17117,     0.17217,     0.17317,     0.17417,     0.17518,     0.17618,     0.17718,     0.17818,     0.17918,     0.18018,     0.18118,     0.18218,     0.18318,     0.18418,     0.18519,     0.18619,     0.18719,     0.18819,     0.18919,     0.19019,     0.19119,\n",
       "           0.19219,     0.19319,     0.19419,      0.1952,      0.1962,      0.1972,      0.1982,      0.1992,      0.2002,      0.2012,      0.2022,      0.2032,      0.2042,     0.20521,     0.20621,     0.20721,     0.20821,     0.20921,     0.21021,     0.21121,     0.21221,     0.21321,     0.21421,     0.21522,\n",
       "           0.21622,     0.21722,     0.21822,     0.21922,     0.22022,     0.22122,     0.22222,     0.22322,     0.22422,     0.22523,     0.22623,     0.22723,     0.22823,     0.22923,     0.23023,     0.23123,     0.23223,     0.23323,     0.23423,     0.23524,     0.23624,     0.23724,     0.23824,     0.23924,\n",
       "           0.24024,     0.24124,     0.24224,     0.24324,     0.24424,     0.24525,     0.24625,     0.24725,     0.24825,     0.24925,     0.25025,     0.25125,     0.25225,     0.25325,     0.25425,     0.25526,     0.25626,     0.25726,     0.25826,     0.25926,     0.26026,     0.26126,     0.26226,     0.26326,\n",
       "           0.26426,     0.26527,     0.26627,     0.26727,     0.26827,     0.26927,     0.27027,     0.27127,     0.27227,     0.27327,     0.27427,     0.27528,     0.27628,     0.27728,     0.27828,     0.27928,     0.28028,     0.28128,     0.28228,     0.28328,     0.28428,     0.28529,     0.28629,     0.28729,\n",
       "           0.28829,     0.28929,     0.29029,     0.29129,     0.29229,     0.29329,     0.29429,      0.2953,      0.2963,      0.2973,      0.2983,      0.2993,      0.3003,      0.3013,      0.3023,      0.3033,      0.3043,     0.30531,     0.30631,     0.30731,     0.30831,     0.30931,     0.31031,     0.31131,\n",
       "           0.31231,     0.31331,     0.31431,     0.31532,     0.31632,     0.31732,     0.31832,     0.31932,     0.32032,     0.32132,     0.32232,     0.32332,     0.32432,     0.32533,     0.32633,     0.32733,     0.32833,     0.32933,     0.33033,     0.33133,     0.33233,     0.33333,     0.33433,     0.33534,\n",
       "           0.33634,     0.33734,     0.33834,     0.33934,     0.34034,     0.34134,     0.34234,     0.34334,     0.34434,     0.34535,     0.34635,     0.34735,     0.34835,     0.34935,     0.35035,     0.35135,     0.35235,     0.35335,     0.35435,     0.35536,     0.35636,     0.35736,     0.35836,     0.35936,\n",
       "           0.36036,     0.36136,     0.36236,     0.36336,     0.36436,     0.36537,     0.36637,     0.36737,     0.36837,     0.36937,     0.37037,     0.37137,     0.37237,     0.37337,     0.37437,     0.37538,     0.37638,     0.37738,     0.37838,     0.37938,     0.38038,     0.38138,     0.38238,     0.38338,\n",
       "           0.38438,     0.38539,     0.38639,     0.38739,     0.38839,     0.38939,     0.39039,     0.39139,     0.39239,     0.39339,     0.39439,      0.3954,      0.3964,      0.3974,      0.3984,      0.3994,      0.4004,      0.4014,      0.4024,      0.4034,      0.4044,     0.40541,     0.40641,     0.40741,\n",
       "           0.40841,     0.40941,     0.41041,     0.41141,     0.41241,     0.41341,     0.41441,     0.41542,     0.41642,     0.41742,     0.41842,     0.41942,     0.42042,     0.42142,     0.42242,     0.42342,     0.42442,     0.42543,     0.42643,     0.42743,     0.42843,     0.42943,     0.43043,     0.43143,\n",
       "           0.43243,     0.43343,     0.43443,     0.43544,     0.43644,     0.43744,     0.43844,     0.43944,     0.44044,     0.44144,     0.44244,     0.44344,     0.44444,     0.44545,     0.44645,     0.44745,     0.44845,     0.44945,     0.45045,     0.45145,     0.45245,     0.45345,     0.45445,     0.45546,\n",
       "           0.45646,     0.45746,     0.45846,     0.45946,     0.46046,     0.46146,     0.46246,     0.46346,     0.46446,     0.46547,     0.46647,     0.46747,     0.46847,     0.46947,     0.47047,     0.47147,     0.47247,     0.47347,     0.47447,     0.47548,     0.47648,     0.47748,     0.47848,     0.47948,\n",
       "           0.48048,     0.48148,     0.48248,     0.48348,     0.48448,     0.48549,     0.48649,     0.48749,     0.48849,     0.48949,     0.49049,     0.49149,     0.49249,     0.49349,     0.49449,      0.4955,      0.4965,      0.4975,      0.4985,      0.4995,      0.5005,      0.5015,      0.5025,      0.5035,\n",
       "            0.5045,     0.50551,     0.50651,     0.50751,     0.50851,     0.50951,     0.51051,     0.51151,     0.51251,     0.51351,     0.51451,     0.51552,     0.51652,     0.51752,     0.51852,     0.51952,     0.52052,     0.52152,     0.52252,     0.52352,     0.52452,     0.52553,     0.52653,     0.52753,\n",
       "           0.52853,     0.52953,     0.53053,     0.53153,     0.53253,     0.53353,     0.53453,     0.53554,     0.53654,     0.53754,     0.53854,     0.53954,     0.54054,     0.54154,     0.54254,     0.54354,     0.54454,     0.54555,     0.54655,     0.54755,     0.54855,     0.54955,     0.55055,     0.55155,\n",
       "           0.55255,     0.55355,     0.55455,     0.55556,     0.55656,     0.55756,     0.55856,     0.55956,     0.56056,     0.56156,     0.56256,     0.56356,     0.56456,     0.56557,     0.56657,     0.56757,     0.56857,     0.56957,     0.57057,     0.57157,     0.57257,     0.57357,     0.57457,     0.57558,\n",
       "           0.57658,     0.57758,     0.57858,     0.57958,     0.58058,     0.58158,     0.58258,     0.58358,     0.58458,     0.58559,     0.58659,     0.58759,     0.58859,     0.58959,     0.59059,     0.59159,     0.59259,     0.59359,     0.59459,      0.5956,      0.5966,      0.5976,      0.5986,      0.5996,\n",
       "            0.6006,      0.6016,      0.6026,      0.6036,      0.6046,     0.60561,     0.60661,     0.60761,     0.60861,     0.60961,     0.61061,     0.61161,     0.61261,     0.61361,     0.61461,     0.61562,     0.61662,     0.61762,     0.61862,     0.61962,     0.62062,     0.62162,     0.62262,     0.62362,\n",
       "           0.62462,     0.62563,     0.62663,     0.62763,     0.62863,     0.62963,     0.63063,     0.63163,     0.63263,     0.63363,     0.63463,     0.63564,     0.63664,     0.63764,     0.63864,     0.63964,     0.64064,     0.64164,     0.64264,     0.64364,     0.64464,     0.64565,     0.64665,     0.64765,\n",
       "           0.64865,     0.64965,     0.65065,     0.65165,     0.65265,     0.65365,     0.65465,     0.65566,     0.65666,     0.65766,     0.65866,     0.65966,     0.66066,     0.66166,     0.66266,     0.66366,     0.66466,     0.66567,     0.66667,     0.66767,     0.66867,     0.66967,     0.67067,     0.67167,\n",
       "           0.67267,     0.67367,     0.67467,     0.67568,     0.67668,     0.67768,     0.67868,     0.67968,     0.68068,     0.68168,     0.68268,     0.68368,     0.68468,     0.68569,     0.68669,     0.68769,     0.68869,     0.68969,     0.69069,     0.69169,     0.69269,     0.69369,     0.69469,      0.6957,\n",
       "            0.6967,      0.6977,      0.6987,      0.6997,      0.7007,      0.7017,      0.7027,      0.7037,      0.7047,     0.70571,     0.70671,     0.70771,     0.70871,     0.70971,     0.71071,     0.71171,     0.71271,     0.71371,     0.71471,     0.71572,     0.71672,     0.71772,     0.71872,     0.71972,\n",
       "           0.72072,     0.72172,     0.72272,     0.72372,     0.72472,     0.72573,     0.72673,     0.72773,     0.72873,     0.72973,     0.73073,     0.73173,     0.73273,     0.73373,     0.73473,     0.73574,     0.73674,     0.73774,     0.73874,     0.73974,     0.74074,     0.74174,     0.74274,     0.74374,\n",
       "           0.74474,     0.74575,     0.74675,     0.74775,     0.74875,     0.74975,     0.75075,     0.75175,     0.75275,     0.75375,     0.75475,     0.75576,     0.75676,     0.75776,     0.75876,     0.75976,     0.76076,     0.76176,     0.76276,     0.76376,     0.76476,     0.76577,     0.76677,     0.76777,\n",
       "           0.76877,     0.76977,     0.77077,     0.77177,     0.77277,     0.77377,     0.77477,     0.77578,     0.77678,     0.77778,     0.77878,     0.77978,     0.78078,     0.78178,     0.78278,     0.78378,     0.78478,     0.78579,     0.78679,     0.78779,     0.78879,     0.78979,     0.79079,     0.79179,\n",
       "           0.79279,     0.79379,     0.79479,      0.7958,      0.7968,      0.7978,      0.7988,      0.7998,      0.8008,      0.8018,      0.8028,      0.8038,      0.8048,     0.80581,     0.80681,     0.80781,     0.80881,     0.80981,     0.81081,     0.81181,     0.81281,     0.81381,     0.81481,     0.81582,\n",
       "           0.81682,     0.81782,     0.81882,     0.81982,     0.82082,     0.82182,     0.82282,     0.82382,     0.82482,     0.82583,     0.82683,     0.82783,     0.82883,     0.82983,     0.83083,     0.83183,     0.83283,     0.83383,     0.83483,     0.83584,     0.83684,     0.83784,     0.83884,     0.83984,\n",
       "           0.84084,     0.84184,     0.84284,     0.84384,     0.84484,     0.84585,     0.84685,     0.84785,     0.84885,     0.84985,     0.85085,     0.85185,     0.85285,     0.85385,     0.85485,     0.85586,     0.85686,     0.85786,     0.85886,     0.85986,     0.86086,     0.86186,     0.86286,     0.86386,\n",
       "           0.86486,     0.86587,     0.86687,     0.86787,     0.86887,     0.86987,     0.87087,     0.87187,     0.87287,     0.87387,     0.87487,     0.87588,     0.87688,     0.87788,     0.87888,     0.87988,     0.88088,     0.88188,     0.88288,     0.88388,     0.88488,     0.88589,     0.88689,     0.88789,\n",
       "           0.88889,     0.88989,     0.89089,     0.89189,     0.89289,     0.89389,     0.89489,      0.8959,      0.8969,      0.8979,      0.8989,      0.8999,      0.9009,      0.9019,      0.9029,      0.9039,      0.9049,     0.90591,     0.90691,     0.90791,     0.90891,     0.90991,     0.91091,     0.91191,\n",
       "           0.91291,     0.91391,     0.91491,     0.91592,     0.91692,     0.91792,     0.91892,     0.91992,     0.92092,     0.92192,     0.92292,     0.92392,     0.92492,     0.92593,     0.92693,     0.92793,     0.92893,     0.92993,     0.93093,     0.93193,     0.93293,     0.93393,     0.93493,     0.93594,\n",
       "           0.93694,     0.93794,     0.93894,     0.93994,     0.94094,     0.94194,     0.94294,     0.94394,     0.94494,     0.94595,     0.94695,     0.94795,     0.94895,     0.94995,     0.95095,     0.95195,     0.95295,     0.95395,     0.95495,     0.95596,     0.95696,     0.95796,     0.95896,     0.95996,\n",
       "           0.96096,     0.96196,     0.96296,     0.96396,     0.96496,     0.96597,     0.96697,     0.96797,     0.96897,     0.96997,     0.97097,     0.97197,     0.97297,     0.97397,     0.97497,     0.97598,     0.97698,     0.97798,     0.97898,     0.97998,     0.98098,     0.98198,     0.98298,     0.98398,\n",
       "           0.98498,     0.98599,     0.98699,     0.98799,     0.98899,     0.98999,     0.99099,     0.99199,     0.99299,     0.99399,     0.99499,       0.996,       0.997,       0.998,       0.999,           1]), array([[    0.31198,     0.31198,     0.41531,      0.4665,     0.49601,     0.51896,     0.55047,     0.57126,     0.58147,     0.59405,     0.60567,     0.61764,     0.62417,      0.6299,     0.62767,     0.62998,     0.63249,     0.63992,     0.64209,     0.64385,     0.64133,     0.64418,     0.64862,\n",
       "            0.64733,     0.64663,     0.65387,     0.65481,     0.65955,     0.66246,     0.66538,     0.67281,     0.67633,     0.68051,     0.68156,     0.68381,      0.6828,     0.68143,     0.68414,      0.6856,     0.68772,     0.68872,     0.69029,     0.69179,     0.69283,      0.6943,     0.69625,\n",
       "            0.69889,     0.70017,     0.70089,     0.70139,      0.7019,      0.7024,     0.70293,     0.70347,     0.70401,     0.70507,     0.70706,     0.70903,     0.71034,     0.71123,     0.71213,     0.71305,     0.71396,     0.71477,     0.71558,       0.718,     0.71901,     0.72026,      0.7199,\n",
       "            0.72082,     0.72195,     0.72264,     0.72319,     0.72374,     0.72278,     0.71755,     0.71905,     0.71956,     0.72004,     0.72051,     0.72098,     0.72214,     0.72321,     0.72338,     0.72355,     0.72372,     0.72389,     0.72405,     0.72422,     0.72439,     0.72456,     0.72473,\n",
       "            0.72489,     0.72506,     0.72529,     0.72606,     0.72683,     0.72739,     0.72767,     0.72795,     0.72823,      0.7285,     0.72878,     0.72906,     0.72934,     0.72984,     0.73036,     0.73087,     0.73137,     0.73204,     0.73273,     0.73342,     0.73582,      0.7362,     0.73658,\n",
       "            0.73696,     0.73734,     0.73773,     0.73846,     0.73922,     0.73998,     0.74071,     0.74144,     0.74213,     0.74264,     0.74314,     0.74365,     0.74415,      0.7446,     0.74505,     0.74549,     0.74594,      0.7463,      0.7453,      0.7443,      0.7433,     0.74292,     0.74352,\n",
       "            0.74412,     0.74471,     0.74494,     0.74504,     0.74514,     0.74524,     0.74534,     0.74544,     0.74554,     0.74564,     0.74574,     0.74584,     0.74594,     0.74604,     0.74614,     0.74624,     0.74634,     0.74644,     0.74654,     0.74664,     0.74674,     0.74684,     0.74694,\n",
       "            0.74704,     0.74566,     0.74388,     0.74378,     0.74436,     0.74494,     0.74552,      0.7458,     0.74606,     0.74632,     0.74658,     0.74684,      0.7471,     0.74736,     0.74762,     0.74793,     0.74834,     0.74875,     0.74915,     0.74956,     0.74996,     0.75022,     0.75046,\n",
       "            0.75069,     0.75093,     0.75117,     0.75141,     0.75165,     0.75189,     0.75212,     0.75236,     0.75259,     0.75281,     0.75304,     0.75327,      0.7535,     0.75373,     0.75395,     0.75418,     0.75441,     0.75424,     0.75385,     0.75345,     0.75306,     0.75267,     0.75228,\n",
       "            0.75188,     0.75149,     0.75109,     0.75039,     0.74759,      0.7471,     0.74725,      0.7474,     0.74755,     0.74769,     0.74784,     0.74799,     0.74813,     0.74828,     0.74843,     0.74857,     0.74872,     0.74887,     0.74901,     0.74916,     0.74934,     0.74958,     0.74981,\n",
       "            0.75004,     0.75028,     0.75051,     0.75074,     0.75097,     0.75121,     0.75144,      0.7516,     0.75172,     0.75184,     0.75196,     0.75208,     0.75221,     0.75233,     0.75245,     0.75257,     0.75269,     0.75281,     0.75294,     0.75306,     0.75318,      0.7533,     0.75342,\n",
       "            0.75354,     0.75366,     0.75379,     0.75388,     0.75398,     0.75407,     0.75417,     0.75426,     0.75436,     0.75445,     0.75454,     0.75464,     0.75473,     0.75483,     0.75492,     0.75502,     0.75511,      0.7552,      0.7553,     0.75539,     0.75549,     0.75558,     0.75567,\n",
       "            0.75577,     0.75586,     0.75596,     0.75605,     0.75623,     0.75649,     0.75676,     0.75702,     0.75728,     0.75755,     0.75781,     0.75807,     0.75833,     0.75469,     0.75481,     0.75494,     0.75506,     0.75519,     0.75531,     0.75543,     0.75556,     0.75568,      0.7558,\n",
       "            0.75593,     0.75605,     0.75617,      0.7563,     0.75642,     0.75655,     0.75667,     0.75679,     0.75691,     0.75638,      0.7558,     0.75522,     0.75463,     0.75405,     0.75347,     0.75313,     0.75326,     0.75338,     0.75351,     0.75363,     0.75376,     0.75389,     0.75401,\n",
       "            0.75414,     0.75426,     0.75439,     0.75452,     0.75464,     0.75477,     0.75489,     0.75502,     0.75514,     0.75527,     0.75539,      0.7555,     0.75559,     0.75569,     0.75578,     0.75588,     0.75597,     0.75607,     0.75616,     0.75626,     0.75635,     0.75645,     0.75655,\n",
       "            0.75664,     0.75674,     0.75683,     0.75693,     0.75702,     0.75712,     0.75721,     0.75731,      0.7574,      0.7575,     0.75759,     0.75769,     0.75781,     0.75806,     0.75831,     0.75855,      0.7588,     0.75905,      0.7593,     0.75955,     0.75979,     0.76004,     0.76229,\n",
       "            0.76266,     0.76284,     0.76302,     0.76319,     0.76337,     0.76354,     0.76372,     0.76389,     0.76407,     0.76424,     0.76442,     0.76459,     0.76476,     0.76501,     0.76544,     0.76587,      0.7663,     0.76673,     0.76715,     0.76722,      0.7671,     0.76698,     0.76686,\n",
       "            0.76675,     0.76663,     0.76651,     0.76639,     0.76627,     0.76616,     0.76604,     0.76592,      0.7658,     0.76568,     0.76557,     0.76545,     0.76533,     0.76521,     0.76509,     0.76497,     0.76486,     0.76474,     0.76462,      0.7645,     0.76438,     0.76427,     0.76415,\n",
       "            0.76403,     0.76391,     0.76379,     0.76367,     0.76356,     0.76344,     0.76355,     0.76375,     0.76394,     0.76414,     0.76433,     0.76452,     0.76472,     0.76491,     0.76511,      0.7653,     0.76549,     0.76569,     0.76578,     0.76562,     0.76546,      0.7653,     0.76515,\n",
       "            0.76499,     0.76483,     0.76467,     0.76452,     0.76436,      0.7642,     0.76404,     0.76389,     0.76373,     0.76357,     0.76341,     0.76326,      0.7631,     0.76294,     0.76278,     0.76263,     0.76247,     0.76231,     0.76215,       0.762,     0.76198,     0.76216,     0.76234,\n",
       "            0.76252,     0.76269,     0.76287,     0.76305,     0.76323,      0.7634,     0.76358,     0.76376,     0.76394,     0.76411,     0.76429,     0.76439,     0.76446,     0.76453,      0.7646,     0.76467,     0.76475,     0.76482,     0.76489,     0.76496,     0.76503,      0.7651,     0.76517,\n",
       "            0.76525,     0.76532,     0.76539,     0.76546,     0.76553,      0.7656,     0.76568,     0.76575,     0.76582,     0.76589,     0.76596,     0.76603,      0.7661,     0.76618,     0.76625,     0.76632,     0.76639,     0.76646,     0.76653,      0.7666,     0.76667,     0.76675,     0.76686,\n",
       "            0.76699,     0.76712,     0.76725,     0.76739,     0.76752,     0.76765,     0.76779,     0.76792,     0.76805,     0.76818,     0.76832,     0.76845,     0.76858,     0.76871,     0.76885,     0.76898,     0.76911,     0.76927,     0.76978,     0.77029,      0.7708,      0.7713,     0.77166,\n",
       "            0.77143,     0.77121,     0.77098,     0.77076,     0.77053,     0.77031,     0.77008,     0.76985,     0.76963,      0.7694,     0.76918,     0.76895,     0.76873,      0.7685,     0.76827,     0.76805,     0.76782,     0.76795,     0.76827,     0.76859,     0.76891,     0.76922,     0.76954,\n",
       "            0.76986,     0.77018,      0.7685,     0.76646,     0.76542,      0.7645,     0.76359,     0.76267,      0.7623,     0.76247,     0.76264,     0.76281,     0.76298,     0.76315,     0.76332,     0.76349,     0.76366,     0.76383,       0.764,     0.76417,     0.76434,     0.76451,     0.76468,\n",
       "            0.76515,     0.76567,     0.76618,      0.7667,     0.76721,     0.76748,     0.76776,     0.76803,      0.7683,     0.76857,     0.76885,     0.76912,     0.76939,     0.76966,     0.76967,     0.76958,     0.76949,      0.7694,     0.76931,     0.76921,     0.76912,     0.76903,     0.76894,\n",
       "            0.76885,     0.76876,     0.76867,     0.76858,     0.76848,     0.76839,      0.7683,     0.76821,     0.76812,     0.76803,     0.76794,     0.76784,     0.76775,     0.76766,     0.76757,     0.76748,     0.76739,      0.7673,      0.7672,     0.76711,     0.76702,     0.76693,     0.76684,\n",
       "            0.76675,     0.76665,     0.76656,     0.76647,     0.76638,     0.76629,      0.7662,      0.7661,     0.76601,     0.76592,     0.76583,     0.76574,     0.76813,     0.76787,     0.76762,     0.76737,     0.76711,     0.76686,      0.7666,     0.76635,      0.7661,     0.76584,     0.76559,\n",
       "            0.76533,     0.76508,     0.76482,     0.76457,     0.76431,     0.76387,     0.76282,     0.76176,     0.76071,     0.75944,     0.75774,     0.75603,     0.75547,     0.75504,     0.75462,     0.75419,     0.75376,     0.75333,     0.75291,     0.75248,     0.75205,     0.75161,      0.7511,\n",
       "             0.7506,     0.75009,     0.74958,     0.74908,     0.74857,     0.74806,     0.74755,     0.74733,     0.74715,     0.74697,      0.7468,     0.74662,     0.74644,     0.74627,     0.74609,     0.74591,     0.74573,     0.74556,     0.74538,      0.7452,     0.74503,     0.74485,     0.74467,\n",
       "            0.74449,     0.74432,     0.74414,     0.74396,     0.74379,     0.74361,     0.74343,     0.74325,     0.74297,     0.74268,     0.74239,      0.7421,     0.74181,     0.74152,     0.74122,     0.74093,     0.74064,     0.74035,     0.74006,     0.73977,     0.73948,     0.73918,     0.73877,\n",
       "             0.7381,     0.73742,     0.73675,     0.73607,     0.73539,     0.73472,     0.73298,     0.73121,      0.7259,     0.72291,     0.72125,     0.72055,     0.71986,     0.71916,     0.71847,     0.71777,     0.71652,     0.71349,     0.71477,      0.7151,     0.71488,     0.71465,     0.71443,\n",
       "            0.71421,     0.71398,     0.71376,     0.71354,     0.71331,     0.71309,     0.71286,     0.71264,     0.71242,     0.71219,     0.71197,     0.71174,     0.71152,      0.7113,     0.71107,     0.71085,     0.71039,     0.70988,     0.70937,     0.70885,     0.70834,     0.70783,     0.70731,\n",
       "             0.7068,      0.7063,     0.70677,     0.70723,     0.70769,     0.70815,     0.70861,     0.70675,     0.70415,     0.70374,     0.70333,     0.70293,     0.70252,     0.70211,      0.7017,     0.70129,     0.70089,     0.70048,     0.70007,     0.69966,     0.69782,     0.69592,     0.69518,\n",
       "            0.69545,     0.69571,     0.69598,     0.69625,     0.69652,     0.69678,     0.69705,     0.69731,     0.69701,      0.6951,     0.69319,     0.69022,     0.68794,      0.6873,     0.68665,     0.68601,     0.68536,     0.68472,     0.68407,     0.68342,     0.68261,      0.6818,     0.68099,\n",
       "            0.68017,     0.67936,     0.67878,      0.6792,     0.67962,     0.68004,     0.68046,     0.68088,     0.68033,     0.67788,     0.67255,     0.67101,     0.67042,     0.66984,     0.66925,     0.66866,     0.66808,     0.66749,      0.6669,     0.66363,     0.66256,     0.66381,     0.66283,\n",
       "             0.6608,     0.65907,     0.65829,      0.6575,     0.65672,     0.65593,     0.65514,     0.65436,     0.64854,     0.64774,     0.64695,     0.64615,     0.64535,     0.64455,     0.64441,     0.64479,     0.64518,     0.64556,     0.64594,     0.64632,     0.64637,     0.64521,     0.64404,\n",
       "            0.64288,     0.64171,     0.64006,      0.6383,     0.63654,     0.63785,     0.62891,     0.62579,     0.62309,      0.6162,     0.61463,     0.61306,     0.61149,     0.60991,     0.60832,     0.60638,     0.60267,     0.59363,     0.58778,      0.5847,     0.58366,     0.58261,     0.58157,\n",
       "            0.58052,     0.57947,     0.57254,     0.57124,     0.56994,     0.56864,       0.566,     0.55627,     0.55228,     0.54414,     0.53829,      0.5342,     0.53163,     0.52986,     0.52809,     0.52374,     0.51592,     0.50463,     0.49692,     0.49312,     0.48986,     0.47822,     0.47261,\n",
       "            0.46238,     0.45897,     0.45442,     0.44983,      0.4452,     0.44054,     0.42432,     0.41954,     0.40862,     0.39556,     0.39061,     0.37648,     0.35757,     0.35046,     0.34522,     0.33477,     0.32943,     0.32176,     0.31361,     0.30611,     0.27917,     0.26647,     0.26668,\n",
       "             0.2672,     0.26131,     0.25622,     0.25176,     0.23568,     0.21944,     0.21323,     0.20698,     0.20246,     0.19867,     0.19418,     0.18779,     0.18628,     0.18239,     0.17849,     0.15093,     0.12476,     0.10975,     0.10368,    0.098368,    0.077098,    0.066319,    0.058949,\n",
       "           0.033533,    0.029729,     0.02591,    0.020774,           0,           0,           0,           0,           0,           0,           0,           0,           0,           0,           0,           0,           0,           0,           0,           0,           0,           0,           0,\n",
       "                  0,           0,           0,           0,           0,           0,           0,           0,           0,           0,           0,           0,           0,           0,           0,           0,           0,           0,           0,           0,           0,           0,           0,\n",
       "                  0,           0,           0,           0,           0,           0,           0,           0,           0,           0,           0]]), 'Confidence', 'F1'], [array([          0,    0.001001,    0.002002,    0.003003,    0.004004,    0.005005,    0.006006,    0.007007,    0.008008,    0.009009,     0.01001,    0.011011,    0.012012,    0.013013,    0.014014,    0.015015,    0.016016,    0.017017,    0.018018,    0.019019,     0.02002,    0.021021,    0.022022,    0.023023,\n",
       "          0.024024,    0.025025,    0.026026,    0.027027,    0.028028,    0.029029,     0.03003,    0.031031,    0.032032,    0.033033,    0.034034,    0.035035,    0.036036,    0.037037,    0.038038,    0.039039,     0.04004,    0.041041,    0.042042,    0.043043,    0.044044,    0.045045,    0.046046,    0.047047,\n",
       "          0.048048,    0.049049,     0.05005,    0.051051,    0.052052,    0.053053,    0.054054,    0.055055,    0.056056,    0.057057,    0.058058,    0.059059,     0.06006,    0.061061,    0.062062,    0.063063,    0.064064,    0.065065,    0.066066,    0.067067,    0.068068,    0.069069,     0.07007,    0.071071,\n",
       "          0.072072,    0.073073,    0.074074,    0.075075,    0.076076,    0.077077,    0.078078,    0.079079,     0.08008,    0.081081,    0.082082,    0.083083,    0.084084,    0.085085,    0.086086,    0.087087,    0.088088,    0.089089,     0.09009,    0.091091,    0.092092,    0.093093,    0.094094,    0.095095,\n",
       "          0.096096,    0.097097,    0.098098,    0.099099,      0.1001,      0.1011,      0.1021,      0.1031,      0.1041,     0.10511,     0.10611,     0.10711,     0.10811,     0.10911,     0.11011,     0.11111,     0.11211,     0.11311,     0.11411,     0.11512,     0.11612,     0.11712,     0.11812,     0.11912,\n",
       "           0.12012,     0.12112,     0.12212,     0.12312,     0.12412,     0.12513,     0.12613,     0.12713,     0.12813,     0.12913,     0.13013,     0.13113,     0.13213,     0.13313,     0.13413,     0.13514,     0.13614,     0.13714,     0.13814,     0.13914,     0.14014,     0.14114,     0.14214,     0.14314,\n",
       "           0.14414,     0.14515,     0.14615,     0.14715,     0.14815,     0.14915,     0.15015,     0.15115,     0.15215,     0.15315,     0.15415,     0.15516,     0.15616,     0.15716,     0.15816,     0.15916,     0.16016,     0.16116,     0.16216,     0.16316,     0.16416,     0.16517,     0.16617,     0.16717,\n",
       "           0.16817,     0.16917,     0.17017,     0.17117,     0.17217,     0.17317,     0.17417,     0.17518,     0.17618,     0.17718,     0.17818,     0.17918,     0.18018,     0.18118,     0.18218,     0.18318,     0.18418,     0.18519,     0.18619,     0.18719,     0.18819,     0.18919,     0.19019,     0.19119,\n",
       "           0.19219,     0.19319,     0.19419,      0.1952,      0.1962,      0.1972,      0.1982,      0.1992,      0.2002,      0.2012,      0.2022,      0.2032,      0.2042,     0.20521,     0.20621,     0.20721,     0.20821,     0.20921,     0.21021,     0.21121,     0.21221,     0.21321,     0.21421,     0.21522,\n",
       "           0.21622,     0.21722,     0.21822,     0.21922,     0.22022,     0.22122,     0.22222,     0.22322,     0.22422,     0.22523,     0.22623,     0.22723,     0.22823,     0.22923,     0.23023,     0.23123,     0.23223,     0.23323,     0.23423,     0.23524,     0.23624,     0.23724,     0.23824,     0.23924,\n",
       "           0.24024,     0.24124,     0.24224,     0.24324,     0.24424,     0.24525,     0.24625,     0.24725,     0.24825,     0.24925,     0.25025,     0.25125,     0.25225,     0.25325,     0.25425,     0.25526,     0.25626,     0.25726,     0.25826,     0.25926,     0.26026,     0.26126,     0.26226,     0.26326,\n",
       "           0.26426,     0.26527,     0.26627,     0.26727,     0.26827,     0.26927,     0.27027,     0.27127,     0.27227,     0.27327,     0.27427,     0.27528,     0.27628,     0.27728,     0.27828,     0.27928,     0.28028,     0.28128,     0.28228,     0.28328,     0.28428,     0.28529,     0.28629,     0.28729,\n",
       "           0.28829,     0.28929,     0.29029,     0.29129,     0.29229,     0.29329,     0.29429,      0.2953,      0.2963,      0.2973,      0.2983,      0.2993,      0.3003,      0.3013,      0.3023,      0.3033,      0.3043,     0.30531,     0.30631,     0.30731,     0.30831,     0.30931,     0.31031,     0.31131,\n",
       "           0.31231,     0.31331,     0.31431,     0.31532,     0.31632,     0.31732,     0.31832,     0.31932,     0.32032,     0.32132,     0.32232,     0.32332,     0.32432,     0.32533,     0.32633,     0.32733,     0.32833,     0.32933,     0.33033,     0.33133,     0.33233,     0.33333,     0.33433,     0.33534,\n",
       "           0.33634,     0.33734,     0.33834,     0.33934,     0.34034,     0.34134,     0.34234,     0.34334,     0.34434,     0.34535,     0.34635,     0.34735,     0.34835,     0.34935,     0.35035,     0.35135,     0.35235,     0.35335,     0.35435,     0.35536,     0.35636,     0.35736,     0.35836,     0.35936,\n",
       "           0.36036,     0.36136,     0.36236,     0.36336,     0.36436,     0.36537,     0.36637,     0.36737,     0.36837,     0.36937,     0.37037,     0.37137,     0.37237,     0.37337,     0.37437,     0.37538,     0.37638,     0.37738,     0.37838,     0.37938,     0.38038,     0.38138,     0.38238,     0.38338,\n",
       "           0.38438,     0.38539,     0.38639,     0.38739,     0.38839,     0.38939,     0.39039,     0.39139,     0.39239,     0.39339,     0.39439,      0.3954,      0.3964,      0.3974,      0.3984,      0.3994,      0.4004,      0.4014,      0.4024,      0.4034,      0.4044,     0.40541,     0.40641,     0.40741,\n",
       "           0.40841,     0.40941,     0.41041,     0.41141,     0.41241,     0.41341,     0.41441,     0.41542,     0.41642,     0.41742,     0.41842,     0.41942,     0.42042,     0.42142,     0.42242,     0.42342,     0.42442,     0.42543,     0.42643,     0.42743,     0.42843,     0.42943,     0.43043,     0.43143,\n",
       "           0.43243,     0.43343,     0.43443,     0.43544,     0.43644,     0.43744,     0.43844,     0.43944,     0.44044,     0.44144,     0.44244,     0.44344,     0.44444,     0.44545,     0.44645,     0.44745,     0.44845,     0.44945,     0.45045,     0.45145,     0.45245,     0.45345,     0.45445,     0.45546,\n",
       "           0.45646,     0.45746,     0.45846,     0.45946,     0.46046,     0.46146,     0.46246,     0.46346,     0.46446,     0.46547,     0.46647,     0.46747,     0.46847,     0.46947,     0.47047,     0.47147,     0.47247,     0.47347,     0.47447,     0.47548,     0.47648,     0.47748,     0.47848,     0.47948,\n",
       "           0.48048,     0.48148,     0.48248,     0.48348,     0.48448,     0.48549,     0.48649,     0.48749,     0.48849,     0.48949,     0.49049,     0.49149,     0.49249,     0.49349,     0.49449,      0.4955,      0.4965,      0.4975,      0.4985,      0.4995,      0.5005,      0.5015,      0.5025,      0.5035,\n",
       "            0.5045,     0.50551,     0.50651,     0.50751,     0.50851,     0.50951,     0.51051,     0.51151,     0.51251,     0.51351,     0.51451,     0.51552,     0.51652,     0.51752,     0.51852,     0.51952,     0.52052,     0.52152,     0.52252,     0.52352,     0.52452,     0.52553,     0.52653,     0.52753,\n",
       "           0.52853,     0.52953,     0.53053,     0.53153,     0.53253,     0.53353,     0.53453,     0.53554,     0.53654,     0.53754,     0.53854,     0.53954,     0.54054,     0.54154,     0.54254,     0.54354,     0.54454,     0.54555,     0.54655,     0.54755,     0.54855,     0.54955,     0.55055,     0.55155,\n",
       "           0.55255,     0.55355,     0.55455,     0.55556,     0.55656,     0.55756,     0.55856,     0.55956,     0.56056,     0.56156,     0.56256,     0.56356,     0.56456,     0.56557,     0.56657,     0.56757,     0.56857,     0.56957,     0.57057,     0.57157,     0.57257,     0.57357,     0.57457,     0.57558,\n",
       "           0.57658,     0.57758,     0.57858,     0.57958,     0.58058,     0.58158,     0.58258,     0.58358,     0.58458,     0.58559,     0.58659,     0.58759,     0.58859,     0.58959,     0.59059,     0.59159,     0.59259,     0.59359,     0.59459,      0.5956,      0.5966,      0.5976,      0.5986,      0.5996,\n",
       "            0.6006,      0.6016,      0.6026,      0.6036,      0.6046,     0.60561,     0.60661,     0.60761,     0.60861,     0.60961,     0.61061,     0.61161,     0.61261,     0.61361,     0.61461,     0.61562,     0.61662,     0.61762,     0.61862,     0.61962,     0.62062,     0.62162,     0.62262,     0.62362,\n",
       "           0.62462,     0.62563,     0.62663,     0.62763,     0.62863,     0.62963,     0.63063,     0.63163,     0.63263,     0.63363,     0.63463,     0.63564,     0.63664,     0.63764,     0.63864,     0.63964,     0.64064,     0.64164,     0.64264,     0.64364,     0.64464,     0.64565,     0.64665,     0.64765,\n",
       "           0.64865,     0.64965,     0.65065,     0.65165,     0.65265,     0.65365,     0.65465,     0.65566,     0.65666,     0.65766,     0.65866,     0.65966,     0.66066,     0.66166,     0.66266,     0.66366,     0.66466,     0.66567,     0.66667,     0.66767,     0.66867,     0.66967,     0.67067,     0.67167,\n",
       "           0.67267,     0.67367,     0.67467,     0.67568,     0.67668,     0.67768,     0.67868,     0.67968,     0.68068,     0.68168,     0.68268,     0.68368,     0.68468,     0.68569,     0.68669,     0.68769,     0.68869,     0.68969,     0.69069,     0.69169,     0.69269,     0.69369,     0.69469,      0.6957,\n",
       "            0.6967,      0.6977,      0.6987,      0.6997,      0.7007,      0.7017,      0.7027,      0.7037,      0.7047,     0.70571,     0.70671,     0.70771,     0.70871,     0.70971,     0.71071,     0.71171,     0.71271,     0.71371,     0.71471,     0.71572,     0.71672,     0.71772,     0.71872,     0.71972,\n",
       "           0.72072,     0.72172,     0.72272,     0.72372,     0.72472,     0.72573,     0.72673,     0.72773,     0.72873,     0.72973,     0.73073,     0.73173,     0.73273,     0.73373,     0.73473,     0.73574,     0.73674,     0.73774,     0.73874,     0.73974,     0.74074,     0.74174,     0.74274,     0.74374,\n",
       "           0.74474,     0.74575,     0.74675,     0.74775,     0.74875,     0.74975,     0.75075,     0.75175,     0.75275,     0.75375,     0.75475,     0.75576,     0.75676,     0.75776,     0.75876,     0.75976,     0.76076,     0.76176,     0.76276,     0.76376,     0.76476,     0.76577,     0.76677,     0.76777,\n",
       "           0.76877,     0.76977,     0.77077,     0.77177,     0.77277,     0.77377,     0.77477,     0.77578,     0.77678,     0.77778,     0.77878,     0.77978,     0.78078,     0.78178,     0.78278,     0.78378,     0.78478,     0.78579,     0.78679,     0.78779,     0.78879,     0.78979,     0.79079,     0.79179,\n",
       "           0.79279,     0.79379,     0.79479,      0.7958,      0.7968,      0.7978,      0.7988,      0.7998,      0.8008,      0.8018,      0.8028,      0.8038,      0.8048,     0.80581,     0.80681,     0.80781,     0.80881,     0.80981,     0.81081,     0.81181,     0.81281,     0.81381,     0.81481,     0.81582,\n",
       "           0.81682,     0.81782,     0.81882,     0.81982,     0.82082,     0.82182,     0.82282,     0.82382,     0.82482,     0.82583,     0.82683,     0.82783,     0.82883,     0.82983,     0.83083,     0.83183,     0.83283,     0.83383,     0.83483,     0.83584,     0.83684,     0.83784,     0.83884,     0.83984,\n",
       "           0.84084,     0.84184,     0.84284,     0.84384,     0.84484,     0.84585,     0.84685,     0.84785,     0.84885,     0.84985,     0.85085,     0.85185,     0.85285,     0.85385,     0.85485,     0.85586,     0.85686,     0.85786,     0.85886,     0.85986,     0.86086,     0.86186,     0.86286,     0.86386,\n",
       "           0.86486,     0.86587,     0.86687,     0.86787,     0.86887,     0.86987,     0.87087,     0.87187,     0.87287,     0.87387,     0.87487,     0.87588,     0.87688,     0.87788,     0.87888,     0.87988,     0.88088,     0.88188,     0.88288,     0.88388,     0.88488,     0.88589,     0.88689,     0.88789,\n",
       "           0.88889,     0.88989,     0.89089,     0.89189,     0.89289,     0.89389,     0.89489,      0.8959,      0.8969,      0.8979,      0.8989,      0.8999,      0.9009,      0.9019,      0.9029,      0.9039,      0.9049,     0.90591,     0.90691,     0.90791,     0.90891,     0.90991,     0.91091,     0.91191,\n",
       "           0.91291,     0.91391,     0.91491,     0.91592,     0.91692,     0.91792,     0.91892,     0.91992,     0.92092,     0.92192,     0.92292,     0.92392,     0.92492,     0.92593,     0.92693,     0.92793,     0.92893,     0.92993,     0.93093,     0.93193,     0.93293,     0.93393,     0.93493,     0.93594,\n",
       "           0.93694,     0.93794,     0.93894,     0.93994,     0.94094,     0.94194,     0.94294,     0.94394,     0.94494,     0.94595,     0.94695,     0.94795,     0.94895,     0.94995,     0.95095,     0.95195,     0.95295,     0.95395,     0.95495,     0.95596,     0.95696,     0.95796,     0.95896,     0.95996,\n",
       "           0.96096,     0.96196,     0.96296,     0.96396,     0.96496,     0.96597,     0.96697,     0.96797,     0.96897,     0.96997,     0.97097,     0.97197,     0.97297,     0.97397,     0.97497,     0.97598,     0.97698,     0.97798,     0.97898,     0.97998,     0.98098,     0.98198,     0.98298,     0.98398,\n",
       "           0.98498,     0.98599,     0.98699,     0.98799,     0.98899,     0.98999,     0.99099,     0.99199,     0.99299,     0.99399,     0.99499,       0.996,       0.997,       0.998,       0.999,           1]), array([[    0.19018,     0.19018,     0.27594,     0.32479,     0.35519,     0.38012,     0.41529,     0.44112,     0.45522,     0.47084,     0.48772,     0.50576,     0.51457,      0.5224,     0.52362,     0.52763,     0.53115,     0.54172,     0.54484,     0.54737,     0.54656,     0.55071,     0.55723,\n",
       "            0.55689,     0.55727,     0.56812,     0.56954,     0.57675,     0.58121,     0.58572,     0.59734,     0.60291,     0.60959,     0.61128,     0.61666,     0.61808,     0.61735,     0.62298,      0.6254,     0.62894,     0.63061,     0.63326,     0.63578,     0.63754,     0.64418,     0.64755,\n",
       "            0.65214,     0.65436,     0.65563,      0.6565,     0.65738,     0.65826,     0.65921,     0.66015,      0.6611,     0.66298,     0.66651,     0.67001,     0.67235,     0.67395,     0.67556,     0.67723,     0.67888,     0.68034,     0.68181,     0.68621,     0.68806,     0.69035,     0.69226,\n",
       "             0.6963,     0.69841,     0.69971,     0.70074,     0.70177,     0.70204,     0.70033,      0.7032,     0.70418,     0.70509,       0.706,     0.70691,     0.70914,     0.71121,     0.71153,     0.71186,     0.71218,     0.71251,     0.71284,     0.71316,     0.71349,     0.71381,     0.71414,\n",
       "            0.71446,     0.71479,     0.71523,     0.71673,     0.71823,     0.71933,     0.71988,     0.72042,     0.72097,     0.72151,     0.72206,     0.72261,     0.72315,     0.72415,     0.72515,     0.72616,     0.72716,     0.72849,     0.72985,     0.73122,       0.736,     0.73677,     0.73753,\n",
       "             0.7383,     0.73906,     0.73983,     0.74131,     0.74284,     0.74437,     0.74586,     0.74735,     0.74874,     0.74977,     0.75081,     0.75184,     0.75287,     0.75379,      0.7547,     0.75562,     0.75653,     0.75738,     0.75698,     0.75659,     0.75619,     0.75644,     0.75768,\n",
       "            0.75891,     0.76015,     0.76063,     0.76084,     0.76105,     0.76126,     0.76147,     0.76168,     0.76188,     0.76209,      0.7623,     0.76251,     0.76272,     0.76293,     0.76314,     0.76335,     0.76355,     0.76376,     0.76397,     0.76418,     0.76439,      0.7646,     0.76481,\n",
       "            0.76502,     0.76452,     0.76383,     0.76451,     0.76574,     0.76698,     0.76821,     0.76881,     0.76936,     0.76991,     0.77046,     0.77102,     0.77157,     0.77212,     0.77267,     0.77335,     0.77422,     0.77509,     0.77596,     0.77683,      0.7777,     0.77824,     0.77876,\n",
       "            0.77927,     0.77979,      0.7803,     0.78082,     0.78133,     0.78185,     0.78236,     0.78286,     0.78336,     0.78385,     0.78435,     0.78485,     0.78534,     0.78584,     0.78633,     0.78683,     0.78732,     0.78741,     0.78727,     0.78713,     0.78699,     0.78685,     0.78671,\n",
       "            0.78657,     0.78643,     0.78629,     0.78604,     0.78503,     0.78507,     0.78539,     0.78572,     0.78604,     0.78637,     0.78669,     0.78702,     0.78734,     0.78767,     0.78799,     0.78832,     0.78864,     0.78897,     0.78929,     0.78962,     0.79003,     0.79055,     0.79106,\n",
       "            0.79158,      0.7921,     0.79262,     0.79314,     0.79366,     0.79418,      0.7947,     0.79505,     0.79533,      0.7956,     0.79587,     0.79615,     0.79642,     0.79669,     0.79696,     0.79724,     0.79751,     0.79778,     0.79806,     0.79833,      0.7986,     0.79888,     0.79915,\n",
       "            0.79942,      0.7997,     0.79997,     0.80019,      0.8004,     0.80061,     0.80083,     0.80104,     0.80125,     0.80147,     0.80168,     0.80189,     0.80211,     0.80232,     0.80253,     0.80274,     0.80296,     0.80317,     0.80338,      0.8036,     0.80381,     0.80402,     0.80424,\n",
       "            0.80445,     0.80466,     0.80487,     0.80509,     0.80549,     0.80609,     0.80669,     0.80729,     0.80789,     0.80849,     0.80909,     0.80969,     0.81029,     0.80941,      0.8097,     0.80999,     0.81027,     0.81056,     0.81084,     0.81113,     0.81141,      0.8117,     0.81198,\n",
       "            0.81227,     0.81255,     0.81284,     0.81312,     0.81341,     0.81369,     0.81398,     0.81427,     0.81455,     0.81439,     0.81421,     0.81402,     0.81383,     0.81364,     0.81346,     0.81344,     0.81373,     0.81403,     0.81432,     0.81461,     0.81491,      0.8152,      0.8155,\n",
       "            0.81579,     0.81609,     0.81638,     0.81668,     0.81697,     0.81726,     0.81756,     0.81785,     0.81815,     0.81844,     0.81874,     0.81897,      0.8192,     0.81942,     0.81965,     0.81987,      0.8201,     0.82032,     0.82055,     0.82077,       0.821,     0.82122,     0.82144,\n",
       "            0.82167,     0.82189,     0.82212,     0.82234,     0.82257,     0.82279,     0.82302,     0.82324,     0.82347,     0.82369,     0.82392,     0.82414,     0.82443,     0.82502,     0.82561,      0.8262,     0.82679,     0.82738,     0.82797,     0.82856,     0.82915,     0.82974,     0.83512,\n",
       "            0.83601,     0.83643,     0.83686,     0.83728,      0.8377,     0.83812,     0.83854,     0.83896,     0.83939,     0.83981,     0.84023,     0.84065,     0.84107,     0.84167,     0.84271,     0.84375,     0.84479,     0.84583,     0.84688,      0.8472,     0.84717,     0.84714,      0.8471,\n",
       "            0.84707,     0.84704,     0.84701,     0.84697,     0.84694,     0.84691,     0.84688,     0.84684,     0.84681,     0.84678,     0.84675,     0.84671,     0.84668,     0.84665,     0.84662,     0.84658,     0.84655,     0.84652,     0.84649,     0.84645,     0.84642,     0.84639,     0.84636,\n",
       "            0.84632,     0.84629,     0.84626,     0.84623,     0.84619,     0.84616,     0.84651,     0.84699,     0.84747,     0.84795,     0.84843,      0.8489,     0.84938,     0.84986,     0.85034,     0.85082,      0.8513,     0.85178,      0.8521,     0.85206,     0.85202,     0.85197,     0.85193,\n",
       "            0.85189,     0.85185,      0.8518,     0.85176,     0.85172,     0.85168,     0.85164,     0.85159,     0.85155,     0.85151,     0.85147,     0.85143,     0.85138,     0.85134,      0.8513,     0.85126,     0.85121,     0.85117,     0.85113,     0.85109,     0.85125,      0.8517,     0.85214,\n",
       "            0.85259,     0.85303,     0.85348,     0.85392,     0.85437,     0.85481,     0.85526,      0.8557,     0.85615,     0.85659,     0.85704,     0.85728,     0.85746,     0.85764,     0.85782,       0.858,     0.85818,     0.85837,     0.85855,     0.85873,     0.85891,     0.85909,     0.85927,\n",
       "            0.85945,     0.85963,     0.85981,     0.85999,     0.86017,     0.86035,     0.86053,     0.86071,     0.86089,     0.86107,     0.86125,     0.86144,     0.86162,      0.8618,     0.86198,     0.86216,     0.86234,     0.86252,      0.8627,     0.86288,     0.86306,     0.86324,     0.86352,\n",
       "            0.86386,     0.86419,     0.86453,     0.86487,     0.86521,     0.86554,     0.86588,     0.86622,     0.86656,     0.86689,     0.86723,     0.86757,     0.86791,     0.86824,     0.86858,     0.86892,     0.86926,     0.86968,     0.87098,     0.87228,     0.87358,     0.87488,      0.8759,\n",
       "            0.87585,      0.8758,     0.87575,     0.87569,     0.87564,     0.87559,     0.87554,     0.87549,     0.87543,     0.87538,     0.87533,     0.87528,     0.87523,     0.87517,     0.87512,     0.87507,     0.87502,     0.87554,     0.87637,      0.8772,     0.87803,     0.87886,     0.87969,\n",
       "            0.88052,     0.88135,      0.8811,     0.88065,     0.88041,     0.88021,     0.88001,      0.8798,     0.87993,     0.88038,     0.88084,     0.88129,     0.88175,      0.8822,     0.88266,     0.88312,     0.88357,     0.88403,     0.88448,     0.88494,     0.88539,     0.88585,      0.8863,\n",
       "            0.88757,     0.88895,     0.89034,     0.89173,     0.89312,     0.89386,      0.8946,     0.89535,     0.89609,     0.89683,     0.89757,     0.89831,     0.89905,     0.89979,     0.89999,     0.89997,     0.89995,     0.89994,     0.89992,      0.8999,     0.89988,     0.89987,     0.89985,\n",
       "            0.89983,     0.89981,      0.8998,     0.89978,     0.89976,     0.89974,     0.89973,     0.89971,     0.89969,     0.89967,     0.89966,     0.89964,     0.89962,      0.8996,     0.89959,     0.89957,     0.89955,     0.89953,     0.89952,      0.8995,     0.89948,     0.89946,     0.89945,\n",
       "            0.89943,     0.89941,     0.89939,     0.89938,     0.89936,     0.89934,     0.89932,     0.89931,     0.89929,     0.89927,     0.89925,     0.89924,     0.90623,     0.90619,     0.90614,      0.9061,     0.90605,     0.90601,     0.90596,     0.90591,     0.90587,     0.90582,     0.90578,\n",
       "            0.90573,     0.90568,     0.90564,     0.90559,     0.90555,     0.90547,     0.90527,     0.90508,     0.90489,     0.90466,     0.90435,     0.90403,     0.90393,     0.90385,     0.90377,     0.90369,     0.90361,     0.90353,     0.90345,     0.90337,     0.90329,     0.90321,     0.90312,\n",
       "            0.90302,     0.90293,     0.90283,     0.90274,     0.90264,     0.90255,     0.90245,     0.90241,     0.90238,     0.90234,     0.90231,     0.90228,     0.90224,     0.90221,     0.90218,     0.90214,     0.90211,     0.90208,     0.90204,     0.90201,     0.90198,     0.90194,     0.90191,\n",
       "            0.90188,     0.90184,     0.90181,     0.90178,     0.90174,     0.90171,     0.90167,     0.90164,     0.90159,     0.90153,     0.90148,     0.90142,     0.90136,     0.90131,     0.90125,      0.9012,     0.90114,     0.90109,     0.90103,     0.90098,     0.90092,     0.90086,     0.90079,\n",
       "            0.90066,     0.90053,      0.9004,     0.90026,     0.90013,         0.9,     0.89967,     0.89932,     0.89828,     0.89769,     0.89736,     0.89722,     0.89708,     0.89694,      0.8968,     0.89666,     0.89641,     0.89579,     0.90188,     0.90347,     0.90343,     0.90339,     0.90335,\n",
       "             0.9033,     0.90326,     0.90322,     0.90318,     0.90313,     0.90309,     0.90305,     0.90301,     0.90296,     0.90292,     0.90288,     0.90283,     0.90279,     0.90275,     0.90271,     0.90266,     0.90258,     0.90248,     0.90238,     0.90228,     0.90218,     0.90208,     0.90198,\n",
       "            0.90188,     0.90181,     0.90333,     0.90484,     0.90636,     0.90787,     0.90938,     0.90954,     0.90908,       0.909,     0.90893,     0.90885,     0.90878,     0.90871,     0.90863,     0.90856,     0.90848,     0.90841,     0.90833,     0.90826,     0.90792,     0.90757,     0.90789,\n",
       "            0.90881,     0.90972,     0.91064,     0.91155,     0.91247,     0.91338,      0.9143,     0.91521,      0.9158,     0.91548,     0.91515,     0.91464,     0.91425,     0.91413,     0.91402,     0.91391,     0.91379,     0.91368,     0.91357,     0.91346,     0.91331,     0.91317,     0.91302,\n",
       "            0.91288,     0.91274,     0.91291,     0.91444,     0.91597,      0.9175,     0.91903,     0.92056,     0.92143,     0.92104,     0.92017,     0.91991,     0.91982,     0.91972,     0.91962,     0.91952,     0.91943,     0.91933,     0.91923,     0.91868,     0.92142,     0.92628,     0.92763,\n",
       "            0.92732,     0.92705,     0.92693,     0.92681,     0.92669,     0.92657,     0.92645,     0.92633,     0.92542,     0.92529,     0.92517,     0.92504,     0.92491,     0.92479,     0.92561,      0.9272,     0.92878,     0.93037,     0.93195,     0.93354,     0.93475,     0.93458,     0.93442,\n",
       "            0.93426,     0.93409,     0.93386,     0.93361,     0.93336,     0.93978,      0.9426,      0.9422,     0.94186,     0.94097,     0.94077,     0.94056,     0.94035,     0.94014,     0.93993,     0.93967,     0.93917,     0.93793,     0.93711,     0.93667,     0.93652,     0.93637,     0.93622,\n",
       "            0.93606,     0.93591,     0.93489,      0.9347,      0.9345,     0.93431,     0.93391,      0.9324,     0.93177,     0.93046,      0.9295,     0.92881,     0.92837,     0.92807,     0.92777,     0.92701,     0.92562,     0.92355,     0.92209,     0.92135,     0.92071,     0.93019,     0.93229,\n",
       "            0.93046,     0.92984,     0.92899,     0.92812,     0.92723,     0.92631,     0.92298,     0.92195,     0.91952,     0.91646,     0.91525,     0.91165,     0.90643,     0.90434,     0.90275,     0.89945,      0.8977,     0.89508,     0.89218,     0.91233,     0.93452,     0.93116,     0.94763,\n",
       "            0.96427,     0.96336,     0.96255,     0.96182,     0.95896,     0.95567,      0.9543,     0.95282,     0.95169,     0.95072,     0.94952,     0.94772,           1,           1,           1,           1,           1,           1,           1,           1,           1,           1,           1,\n",
       "                  1,           1,           1,           1,           1,           1,           1,           1,           1,           1,           1,           1,           1,           1,           1,           1,           1,           1,           1,           1,           1,           1,           1,\n",
       "                  1,           1,           1,           1,           1,           1,           1,           1,           1,           1,           1,           1,           1,           1,           1,           1,           1,           1,           1,           1,           1,           1,           1,\n",
       "                  1,           1,           1,           1,           1,           1,           1,           1,           1,           1,           1]]), 'Confidence', 'Precision'], [array([          0,    0.001001,    0.002002,    0.003003,    0.004004,    0.005005,    0.006006,    0.007007,    0.008008,    0.009009,     0.01001,    0.011011,    0.012012,    0.013013,    0.014014,    0.015015,    0.016016,    0.017017,    0.018018,    0.019019,     0.02002,    0.021021,    0.022022,    0.023023,\n",
       "          0.024024,    0.025025,    0.026026,    0.027027,    0.028028,    0.029029,     0.03003,    0.031031,    0.032032,    0.033033,    0.034034,    0.035035,    0.036036,    0.037037,    0.038038,    0.039039,     0.04004,    0.041041,    0.042042,    0.043043,    0.044044,    0.045045,    0.046046,    0.047047,\n",
       "          0.048048,    0.049049,     0.05005,    0.051051,    0.052052,    0.053053,    0.054054,    0.055055,    0.056056,    0.057057,    0.058058,    0.059059,     0.06006,    0.061061,    0.062062,    0.063063,    0.064064,    0.065065,    0.066066,    0.067067,    0.068068,    0.069069,     0.07007,    0.071071,\n",
       "          0.072072,    0.073073,    0.074074,    0.075075,    0.076076,    0.077077,    0.078078,    0.079079,     0.08008,    0.081081,    0.082082,    0.083083,    0.084084,    0.085085,    0.086086,    0.087087,    0.088088,    0.089089,     0.09009,    0.091091,    0.092092,    0.093093,    0.094094,    0.095095,\n",
       "          0.096096,    0.097097,    0.098098,    0.099099,      0.1001,      0.1011,      0.1021,      0.1031,      0.1041,     0.10511,     0.10611,     0.10711,     0.10811,     0.10911,     0.11011,     0.11111,     0.11211,     0.11311,     0.11411,     0.11512,     0.11612,     0.11712,     0.11812,     0.11912,\n",
       "           0.12012,     0.12112,     0.12212,     0.12312,     0.12412,     0.12513,     0.12613,     0.12713,     0.12813,     0.12913,     0.13013,     0.13113,     0.13213,     0.13313,     0.13413,     0.13514,     0.13614,     0.13714,     0.13814,     0.13914,     0.14014,     0.14114,     0.14214,     0.14314,\n",
       "           0.14414,     0.14515,     0.14615,     0.14715,     0.14815,     0.14915,     0.15015,     0.15115,     0.15215,     0.15315,     0.15415,     0.15516,     0.15616,     0.15716,     0.15816,     0.15916,     0.16016,     0.16116,     0.16216,     0.16316,     0.16416,     0.16517,     0.16617,     0.16717,\n",
       "           0.16817,     0.16917,     0.17017,     0.17117,     0.17217,     0.17317,     0.17417,     0.17518,     0.17618,     0.17718,     0.17818,     0.17918,     0.18018,     0.18118,     0.18218,     0.18318,     0.18418,     0.18519,     0.18619,     0.18719,     0.18819,     0.18919,     0.19019,     0.19119,\n",
       "           0.19219,     0.19319,     0.19419,      0.1952,      0.1962,      0.1972,      0.1982,      0.1992,      0.2002,      0.2012,      0.2022,      0.2032,      0.2042,     0.20521,     0.20621,     0.20721,     0.20821,     0.20921,     0.21021,     0.21121,     0.21221,     0.21321,     0.21421,     0.21522,\n",
       "           0.21622,     0.21722,     0.21822,     0.21922,     0.22022,     0.22122,     0.22222,     0.22322,     0.22422,     0.22523,     0.22623,     0.22723,     0.22823,     0.22923,     0.23023,     0.23123,     0.23223,     0.23323,     0.23423,     0.23524,     0.23624,     0.23724,     0.23824,     0.23924,\n",
       "           0.24024,     0.24124,     0.24224,     0.24324,     0.24424,     0.24525,     0.24625,     0.24725,     0.24825,     0.24925,     0.25025,     0.25125,     0.25225,     0.25325,     0.25425,     0.25526,     0.25626,     0.25726,     0.25826,     0.25926,     0.26026,     0.26126,     0.26226,     0.26326,\n",
       "           0.26426,     0.26527,     0.26627,     0.26727,     0.26827,     0.26927,     0.27027,     0.27127,     0.27227,     0.27327,     0.27427,     0.27528,     0.27628,     0.27728,     0.27828,     0.27928,     0.28028,     0.28128,     0.28228,     0.28328,     0.28428,     0.28529,     0.28629,     0.28729,\n",
       "           0.28829,     0.28929,     0.29029,     0.29129,     0.29229,     0.29329,     0.29429,      0.2953,      0.2963,      0.2973,      0.2983,      0.2993,      0.3003,      0.3013,      0.3023,      0.3033,      0.3043,     0.30531,     0.30631,     0.30731,     0.30831,     0.30931,     0.31031,     0.31131,\n",
       "           0.31231,     0.31331,     0.31431,     0.31532,     0.31632,     0.31732,     0.31832,     0.31932,     0.32032,     0.32132,     0.32232,     0.32332,     0.32432,     0.32533,     0.32633,     0.32733,     0.32833,     0.32933,     0.33033,     0.33133,     0.33233,     0.33333,     0.33433,     0.33534,\n",
       "           0.33634,     0.33734,     0.33834,     0.33934,     0.34034,     0.34134,     0.34234,     0.34334,     0.34434,     0.34535,     0.34635,     0.34735,     0.34835,     0.34935,     0.35035,     0.35135,     0.35235,     0.35335,     0.35435,     0.35536,     0.35636,     0.35736,     0.35836,     0.35936,\n",
       "           0.36036,     0.36136,     0.36236,     0.36336,     0.36436,     0.36537,     0.36637,     0.36737,     0.36837,     0.36937,     0.37037,     0.37137,     0.37237,     0.37337,     0.37437,     0.37538,     0.37638,     0.37738,     0.37838,     0.37938,     0.38038,     0.38138,     0.38238,     0.38338,\n",
       "           0.38438,     0.38539,     0.38639,     0.38739,     0.38839,     0.38939,     0.39039,     0.39139,     0.39239,     0.39339,     0.39439,      0.3954,      0.3964,      0.3974,      0.3984,      0.3994,      0.4004,      0.4014,      0.4024,      0.4034,      0.4044,     0.40541,     0.40641,     0.40741,\n",
       "           0.40841,     0.40941,     0.41041,     0.41141,     0.41241,     0.41341,     0.41441,     0.41542,     0.41642,     0.41742,     0.41842,     0.41942,     0.42042,     0.42142,     0.42242,     0.42342,     0.42442,     0.42543,     0.42643,     0.42743,     0.42843,     0.42943,     0.43043,     0.43143,\n",
       "           0.43243,     0.43343,     0.43443,     0.43544,     0.43644,     0.43744,     0.43844,     0.43944,     0.44044,     0.44144,     0.44244,     0.44344,     0.44444,     0.44545,     0.44645,     0.44745,     0.44845,     0.44945,     0.45045,     0.45145,     0.45245,     0.45345,     0.45445,     0.45546,\n",
       "           0.45646,     0.45746,     0.45846,     0.45946,     0.46046,     0.46146,     0.46246,     0.46346,     0.46446,     0.46547,     0.46647,     0.46747,     0.46847,     0.46947,     0.47047,     0.47147,     0.47247,     0.47347,     0.47447,     0.47548,     0.47648,     0.47748,     0.47848,     0.47948,\n",
       "           0.48048,     0.48148,     0.48248,     0.48348,     0.48448,     0.48549,     0.48649,     0.48749,     0.48849,     0.48949,     0.49049,     0.49149,     0.49249,     0.49349,     0.49449,      0.4955,      0.4965,      0.4975,      0.4985,      0.4995,      0.5005,      0.5015,      0.5025,      0.5035,\n",
       "            0.5045,     0.50551,     0.50651,     0.50751,     0.50851,     0.50951,     0.51051,     0.51151,     0.51251,     0.51351,     0.51451,     0.51552,     0.51652,     0.51752,     0.51852,     0.51952,     0.52052,     0.52152,     0.52252,     0.52352,     0.52452,     0.52553,     0.52653,     0.52753,\n",
       "           0.52853,     0.52953,     0.53053,     0.53153,     0.53253,     0.53353,     0.53453,     0.53554,     0.53654,     0.53754,     0.53854,     0.53954,     0.54054,     0.54154,     0.54254,     0.54354,     0.54454,     0.54555,     0.54655,     0.54755,     0.54855,     0.54955,     0.55055,     0.55155,\n",
       "           0.55255,     0.55355,     0.55455,     0.55556,     0.55656,     0.55756,     0.55856,     0.55956,     0.56056,     0.56156,     0.56256,     0.56356,     0.56456,     0.56557,     0.56657,     0.56757,     0.56857,     0.56957,     0.57057,     0.57157,     0.57257,     0.57357,     0.57457,     0.57558,\n",
       "           0.57658,     0.57758,     0.57858,     0.57958,     0.58058,     0.58158,     0.58258,     0.58358,     0.58458,     0.58559,     0.58659,     0.58759,     0.58859,     0.58959,     0.59059,     0.59159,     0.59259,     0.59359,     0.59459,      0.5956,      0.5966,      0.5976,      0.5986,      0.5996,\n",
       "            0.6006,      0.6016,      0.6026,      0.6036,      0.6046,     0.60561,     0.60661,     0.60761,     0.60861,     0.60961,     0.61061,     0.61161,     0.61261,     0.61361,     0.61461,     0.61562,     0.61662,     0.61762,     0.61862,     0.61962,     0.62062,     0.62162,     0.62262,     0.62362,\n",
       "           0.62462,     0.62563,     0.62663,     0.62763,     0.62863,     0.62963,     0.63063,     0.63163,     0.63263,     0.63363,     0.63463,     0.63564,     0.63664,     0.63764,     0.63864,     0.63964,     0.64064,     0.64164,     0.64264,     0.64364,     0.64464,     0.64565,     0.64665,     0.64765,\n",
       "           0.64865,     0.64965,     0.65065,     0.65165,     0.65265,     0.65365,     0.65465,     0.65566,     0.65666,     0.65766,     0.65866,     0.65966,     0.66066,     0.66166,     0.66266,     0.66366,     0.66466,     0.66567,     0.66667,     0.66767,     0.66867,     0.66967,     0.67067,     0.67167,\n",
       "           0.67267,     0.67367,     0.67467,     0.67568,     0.67668,     0.67768,     0.67868,     0.67968,     0.68068,     0.68168,     0.68268,     0.68368,     0.68468,     0.68569,     0.68669,     0.68769,     0.68869,     0.68969,     0.69069,     0.69169,     0.69269,     0.69369,     0.69469,      0.6957,\n",
       "            0.6967,      0.6977,      0.6987,      0.6997,      0.7007,      0.7017,      0.7027,      0.7037,      0.7047,     0.70571,     0.70671,     0.70771,     0.70871,     0.70971,     0.71071,     0.71171,     0.71271,     0.71371,     0.71471,     0.71572,     0.71672,     0.71772,     0.71872,     0.71972,\n",
       "           0.72072,     0.72172,     0.72272,     0.72372,     0.72472,     0.72573,     0.72673,     0.72773,     0.72873,     0.72973,     0.73073,     0.73173,     0.73273,     0.73373,     0.73473,     0.73574,     0.73674,     0.73774,     0.73874,     0.73974,     0.74074,     0.74174,     0.74274,     0.74374,\n",
       "           0.74474,     0.74575,     0.74675,     0.74775,     0.74875,     0.74975,     0.75075,     0.75175,     0.75275,     0.75375,     0.75475,     0.75576,     0.75676,     0.75776,     0.75876,     0.75976,     0.76076,     0.76176,     0.76276,     0.76376,     0.76476,     0.76577,     0.76677,     0.76777,\n",
       "           0.76877,     0.76977,     0.77077,     0.77177,     0.77277,     0.77377,     0.77477,     0.77578,     0.77678,     0.77778,     0.77878,     0.77978,     0.78078,     0.78178,     0.78278,     0.78378,     0.78478,     0.78579,     0.78679,     0.78779,     0.78879,     0.78979,     0.79079,     0.79179,\n",
       "           0.79279,     0.79379,     0.79479,      0.7958,      0.7968,      0.7978,      0.7988,      0.7998,      0.8008,      0.8018,      0.8028,      0.8038,      0.8048,     0.80581,     0.80681,     0.80781,     0.80881,     0.80981,     0.81081,     0.81181,     0.81281,     0.81381,     0.81481,     0.81582,\n",
       "           0.81682,     0.81782,     0.81882,     0.81982,     0.82082,     0.82182,     0.82282,     0.82382,     0.82482,     0.82583,     0.82683,     0.82783,     0.82883,     0.82983,     0.83083,     0.83183,     0.83283,     0.83383,     0.83483,     0.83584,     0.83684,     0.83784,     0.83884,     0.83984,\n",
       "           0.84084,     0.84184,     0.84284,     0.84384,     0.84484,     0.84585,     0.84685,     0.84785,     0.84885,     0.84985,     0.85085,     0.85185,     0.85285,     0.85385,     0.85485,     0.85586,     0.85686,     0.85786,     0.85886,     0.85986,     0.86086,     0.86186,     0.86286,     0.86386,\n",
       "           0.86486,     0.86587,     0.86687,     0.86787,     0.86887,     0.86987,     0.87087,     0.87187,     0.87287,     0.87387,     0.87487,     0.87588,     0.87688,     0.87788,     0.87888,     0.87988,     0.88088,     0.88188,     0.88288,     0.88388,     0.88488,     0.88589,     0.88689,     0.88789,\n",
       "           0.88889,     0.88989,     0.89089,     0.89189,     0.89289,     0.89389,     0.89489,      0.8959,      0.8969,      0.8979,      0.8989,      0.8999,      0.9009,      0.9019,      0.9029,      0.9039,      0.9049,     0.90591,     0.90691,     0.90791,     0.90891,     0.90991,     0.91091,     0.91191,\n",
       "           0.91291,     0.91391,     0.91491,     0.91592,     0.91692,     0.91792,     0.91892,     0.91992,     0.92092,     0.92192,     0.92292,     0.92392,     0.92492,     0.92593,     0.92693,     0.92793,     0.92893,     0.92993,     0.93093,     0.93193,     0.93293,     0.93393,     0.93493,     0.93594,\n",
       "           0.93694,     0.93794,     0.93894,     0.93994,     0.94094,     0.94194,     0.94294,     0.94394,     0.94494,     0.94595,     0.94695,     0.94795,     0.94895,     0.94995,     0.95095,     0.95195,     0.95295,     0.95395,     0.95495,     0.95596,     0.95696,     0.95796,     0.95896,     0.95996,\n",
       "           0.96096,     0.96196,     0.96296,     0.96396,     0.96496,     0.96597,     0.96697,     0.96797,     0.96897,     0.96997,     0.97097,     0.97197,     0.97297,     0.97397,     0.97497,     0.97598,     0.97698,     0.97798,     0.97898,     0.97998,     0.98098,     0.98198,     0.98298,     0.98398,\n",
       "           0.98498,     0.98599,     0.98699,     0.98799,     0.98899,     0.98999,     0.99099,     0.99199,     0.99299,     0.99399,     0.99499,       0.996,       0.997,       0.998,       0.999,           1]), array([[    0.86782,     0.86782,     0.83908,     0.82759,     0.82184,     0.81761,     0.81609,     0.81034,      0.8046,      0.8046,     0.79885,      0.7931,      0.7931,      0.7931,     0.78332,     0.78161,     0.78161,     0.78161,     0.78161,     0.78161,     0.77586,     0.77586,     0.77586,\n",
       "            0.77285,     0.77011,     0.77011,     0.77011,     0.77011,     0.77011,     0.77011,     0.77011,     0.77011,     0.77011,     0.77011,     0.76736,     0.76266,     0.76034,     0.75862,     0.75862,     0.75862,     0.75862,     0.75862,     0.75862,     0.75862,     0.75287,     0.75287,\n",
       "            0.75287,     0.75287,     0.75287,     0.75287,     0.75287,     0.75287,     0.75287,     0.75287,     0.75287,     0.75287,     0.75287,     0.75287,     0.75287,     0.75287,     0.75287,     0.75287,     0.75287,     0.75287,     0.75287,     0.75287,     0.75287,     0.75287,     0.74984,\n",
       "            0.74713,     0.74713,     0.74713,     0.74713,     0.74713,     0.74479,     0.73563,     0.73563,     0.73563,     0.73563,     0.73563,     0.73563,     0.73563,     0.73563,     0.73563,     0.73563,     0.73563,     0.73563,     0.73563,     0.73563,     0.73563,     0.73563,     0.73563,\n",
       "            0.73563,     0.73563,     0.73563,     0.73563,     0.73563,     0.73563,     0.73563,     0.73563,     0.73563,     0.73563,     0.73563,     0.73563,     0.73563,     0.73563,     0.73563,     0.73563,     0.73563,     0.73563,     0.73563,     0.73563,     0.73563,     0.73563,     0.73563,\n",
       "            0.73563,     0.73563,     0.73563,     0.73563,     0.73563,     0.73563,     0.73563,     0.73563,     0.73563,     0.73563,     0.73563,     0.73563,     0.73563,     0.73563,     0.73563,     0.73563,     0.73563,     0.73555,     0.73398,     0.73241,     0.73084,     0.72989,     0.72989,\n",
       "            0.72989,     0.72989,     0.72989,     0.72989,     0.72989,     0.72989,     0.72989,     0.72989,     0.72989,     0.72989,     0.72989,     0.72989,     0.72989,     0.72989,     0.72989,     0.72989,     0.72989,     0.72989,     0.72989,     0.72989,     0.72989,     0.72989,     0.72989,\n",
       "            0.72989,     0.72771,     0.72494,     0.72414,     0.72414,     0.72414,     0.72414,     0.72414,     0.72414,     0.72414,     0.72414,     0.72414,     0.72414,     0.72414,     0.72414,     0.72414,     0.72414,     0.72414,     0.72414,     0.72414,     0.72414,     0.72414,     0.72414,\n",
       "            0.72414,     0.72414,     0.72414,     0.72414,     0.72414,     0.72414,     0.72414,     0.72414,     0.72414,     0.72414,     0.72414,     0.72414,     0.72414,     0.72414,     0.72414,     0.72414,     0.72414,     0.72375,     0.72315,     0.72254,     0.72194,     0.72134,     0.72073,\n",
       "            0.72013,     0.71952,     0.71892,     0.71785,     0.71356,     0.71264,     0.71264,     0.71264,     0.71264,     0.71264,     0.71264,     0.71264,     0.71264,     0.71264,     0.71264,     0.71264,     0.71264,     0.71264,     0.71264,     0.71264,     0.71264,     0.71264,     0.71264,\n",
       "            0.71264,     0.71264,     0.71264,     0.71264,     0.71264,     0.71264,     0.71264,     0.71264,     0.71264,     0.71264,     0.71264,     0.71264,     0.71264,     0.71264,     0.71264,     0.71264,     0.71264,     0.71264,     0.71264,     0.71264,     0.71264,     0.71264,     0.71264,\n",
       "            0.71264,     0.71264,     0.71264,     0.71264,     0.71264,     0.71264,     0.71264,     0.71264,     0.71264,     0.71264,     0.71264,     0.71264,     0.71264,     0.71264,     0.71264,     0.71264,     0.71264,     0.71264,     0.71264,     0.71264,     0.71264,     0.71264,     0.71264,\n",
       "            0.71264,     0.71264,     0.71264,     0.71264,     0.71264,     0.71264,     0.71264,     0.71264,     0.71264,     0.71264,     0.71264,     0.71264,     0.71264,      0.7069,      0.7069,      0.7069,      0.7069,      0.7069,      0.7069,      0.7069,      0.7069,      0.7069,      0.7069,\n",
       "             0.7069,      0.7069,      0.7069,      0.7069,      0.7069,      0.7069,      0.7069,      0.7069,      0.7069,     0.70608,     0.70521,     0.70434,     0.70346,     0.70259,     0.70172,     0.70115,     0.70115,     0.70115,     0.70115,     0.70115,     0.70115,     0.70115,     0.70115,\n",
       "            0.70115,     0.70115,     0.70115,     0.70115,     0.70115,     0.70115,     0.70115,     0.70115,     0.70115,     0.70115,     0.70115,     0.70115,     0.70115,     0.70115,     0.70115,     0.70115,     0.70115,     0.70115,     0.70115,     0.70115,     0.70115,     0.70115,     0.70115,\n",
       "            0.70115,     0.70115,     0.70115,     0.70115,     0.70115,     0.70115,     0.70115,     0.70115,     0.70115,     0.70115,     0.70115,     0.70115,     0.70115,     0.70115,     0.70115,     0.70115,     0.70115,     0.70115,     0.70115,     0.70115,     0.70115,     0.70115,     0.70115,\n",
       "            0.70115,     0.70115,     0.70115,     0.70115,     0.70115,     0.70115,     0.70115,     0.70115,     0.70115,     0.70115,     0.70115,     0.70115,     0.70115,     0.70115,     0.70115,     0.70115,     0.70115,     0.70115,     0.70115,     0.70103,     0.70086,     0.70068,     0.70051,\n",
       "            0.70033,     0.70016,     0.69999,     0.69981,     0.69964,     0.69946,     0.69929,     0.69911,     0.69894,     0.69876,     0.69859,     0.69841,     0.69824,     0.69807,     0.69789,     0.69772,     0.69754,     0.69737,     0.69719,     0.69702,     0.69684,     0.69667,     0.69649,\n",
       "            0.69632,     0.69615,     0.69597,      0.6958,     0.69562,     0.69545,      0.6954,      0.6954,      0.6954,      0.6954,      0.6954,      0.6954,      0.6954,      0.6954,      0.6954,      0.6954,      0.6954,      0.6954,     0.69533,      0.6951,     0.69487,     0.69464,     0.69441,\n",
       "            0.69418,     0.69395,     0.69372,     0.69348,     0.69325,     0.69302,     0.69279,     0.69256,     0.69233,      0.6921,     0.69187,     0.69164,      0.6914,     0.69117,     0.69094,     0.69071,     0.69048,     0.69025,     0.69002,     0.68979,     0.68966,     0.68966,     0.68966,\n",
       "            0.68966,     0.68966,     0.68966,     0.68966,     0.68966,     0.68966,     0.68966,     0.68966,     0.68966,     0.68966,     0.68966,     0.68966,     0.68966,     0.68966,     0.68966,     0.68966,     0.68966,     0.68966,     0.68966,     0.68966,     0.68966,     0.68966,     0.68966,\n",
       "            0.68966,     0.68966,     0.68966,     0.68966,     0.68966,     0.68966,     0.68966,     0.68966,     0.68966,     0.68966,     0.68966,     0.68966,     0.68966,     0.68966,     0.68966,     0.68966,     0.68966,     0.68966,     0.68966,     0.68966,     0.68966,     0.68966,     0.68966,\n",
       "            0.68966,     0.68966,     0.68966,     0.68966,     0.68966,     0.68966,     0.68966,     0.68966,     0.68966,     0.68966,     0.68966,     0.68966,     0.68966,     0.68966,     0.68966,     0.68966,     0.68966,     0.68966,     0.68966,     0.68966,     0.68966,     0.68966,     0.68959,\n",
       "            0.68926,     0.68893,     0.68861,     0.68828,     0.68795,     0.68762,      0.6873,     0.68697,     0.68664,     0.68631,     0.68599,     0.68566,     0.68533,     0.68501,     0.68468,     0.68435,     0.68402,     0.68391,     0.68391,     0.68391,     0.68391,     0.68391,     0.68391,\n",
       "            0.68391,     0.68391,     0.68143,     0.67848,     0.67699,     0.67568,     0.67438,     0.67307,     0.67241,     0.67241,     0.67241,     0.67241,     0.67241,     0.67241,     0.67241,     0.67241,     0.67241,     0.67241,     0.67241,     0.67241,     0.67241,     0.67241,     0.67241,\n",
       "            0.67241,     0.67241,     0.67241,     0.67241,     0.67241,     0.67241,     0.67241,     0.67241,     0.67241,     0.67241,     0.67241,     0.67241,     0.67241,     0.67241,     0.67232,     0.67219,     0.67206,     0.67193,      0.6718,     0.67167,     0.67154,     0.67141,     0.67128,\n",
       "            0.67116,     0.67103,      0.6709,     0.67077,     0.67064,     0.67051,     0.67038,     0.67025,     0.67012,     0.66999,     0.66986,     0.66973,      0.6696,     0.66947,     0.66934,     0.66921,     0.66908,     0.66895,     0.66882,      0.6687,     0.66857,     0.66844,     0.66831,\n",
       "            0.66818,     0.66805,     0.66792,     0.66779,     0.66766,     0.66753,      0.6674,     0.66727,     0.66714,     0.66701,     0.66688,     0.66675,     0.66655,     0.66619,     0.66583,     0.66548,     0.66512,     0.66476,     0.66441,     0.66405,     0.66369,     0.66333,     0.66298,\n",
       "            0.66262,     0.66226,     0.66191,     0.66155,     0.66119,     0.66057,      0.6591,     0.65763,     0.65615,     0.65439,     0.65203,     0.64967,      0.6489,     0.64831,     0.64772,     0.64713,     0.64654,     0.64595,     0.64536,     0.64477,     0.64419,     0.64358,     0.64289,\n",
       "             0.6422,      0.6415,     0.64081,     0.64012,     0.63942,     0.63873,     0.63804,     0.63773,     0.63749,     0.63725,     0.63701,     0.63677,     0.63653,     0.63629,     0.63604,      0.6358,     0.63556,     0.63532,     0.63508,     0.63484,      0.6346,     0.63436,     0.63412,\n",
       "            0.63388,     0.63364,      0.6334,     0.63316,     0.63292,     0.63268,     0.63244,      0.6322,     0.63181,     0.63142,     0.63103,     0.63064,     0.63024,     0.62985,     0.62946,     0.62906,     0.62867,     0.62828,     0.62789,     0.62749,      0.6271,     0.62671,     0.62616,\n",
       "            0.62525,     0.62434,     0.62344,     0.62253,     0.62162,     0.62072,     0.61841,     0.61605,     0.60903,      0.6051,     0.60292,     0.60202,     0.60111,      0.6002,      0.5993,     0.59839,     0.59677,     0.59284,     0.59195,     0.59172,     0.59144,     0.59115,     0.59086,\n",
       "            0.59058,     0.59029,        0.59,     0.58971,     0.58943,     0.58914,     0.58885,     0.58856,     0.58828,     0.58799,      0.5877,     0.58741,     0.58713,     0.58684,     0.58655,     0.58626,     0.58568,     0.58503,     0.58437,     0.58372,     0.58307,     0.58241,     0.58176,\n",
       "             0.5811,     0.58046,     0.58046,     0.58046,     0.58046,     0.58046,     0.58046,      0.5779,     0.57462,      0.5741,     0.57359,     0.57308,     0.57257,     0.57205,     0.57154,     0.57103,     0.57052,     0.57001,     0.56949,     0.56898,     0.56668,     0.56432,     0.56322,\n",
       "            0.56322,     0.56322,     0.56322,     0.56322,     0.56322,     0.56322,     0.56322,     0.56322,      0.5626,     0.56024,     0.55789,     0.55423,     0.55144,     0.55066,     0.54987,     0.54908,      0.5483,     0.54751,     0.54673,     0.54593,     0.54495,     0.54397,     0.54299,\n",
       "            0.54201,     0.54102,     0.54023,     0.54023,     0.54023,     0.54023,     0.54023,     0.54023,     0.53924,     0.53629,     0.52994,     0.52811,     0.52742,     0.52673,     0.52603,     0.52534,     0.52465,     0.52395,     0.52326,     0.51942,     0.51724,     0.51724,     0.51564,\n",
       "            0.51329,     0.51128,     0.51037,     0.50946,     0.50856,     0.50765,     0.50675,     0.50584,     0.49919,     0.49828,     0.49737,     0.49647,     0.49556,     0.49465,     0.49425,     0.49425,     0.49425,     0.49425,     0.49425,     0.49425,     0.49397,     0.49266,     0.49135,\n",
       "            0.49004,     0.48873,     0.48688,     0.48492,     0.48296,     0.48276,     0.47188,     0.46847,     0.46553,     0.45809,     0.45641,     0.45473,     0.45304,     0.45136,     0.44968,     0.44762,     0.44369,     0.43423,     0.42817,       0.425,     0.42393,     0.42286,     0.42179,\n",
       "            0.42072,     0.41965,     0.41262,     0.41131,        0.41,     0.40869,     0.40605,     0.39637,     0.39244,      0.3845,     0.37884,     0.37492,     0.37246,     0.37078,     0.36909,     0.36497,     0.35763,     0.34716,      0.3401,     0.33665,      0.3337,     0.32184,     0.31654,\n",
       "            0.30762,     0.30468,     0.30078,     0.29685,     0.29292,     0.28899,     0.27549,     0.27156,     0.26267,     0.25221,     0.24828,     0.23723,     0.22271,     0.21735,     0.21342,     0.20566,     0.20173,     0.19613,     0.19024,     0.18391,     0.16409,     0.15548,     0.15517,\n",
       "            0.15508,     0.15116,     0.14778,     0.14483,     0.13435,     0.12395,     0.12003,      0.1161,     0.11328,     0.11092,     0.10815,     0.10422,     0.10271,     0.10035,    0.097992,    0.081628,    0.066532,    0.058064,    0.054674,    0.051728,    0.040095,    0.034297,    0.030369,\n",
       "           0.017052,    0.015089,    0.013125,    0.010496,           0,           0,           0,           0,           0,           0,           0,           0,           0,           0,           0,           0,           0,           0,           0,           0,           0,           0,           0,\n",
       "                  0,           0,           0,           0,           0,           0,           0,           0,           0,           0,           0,           0,           0,           0,           0,           0,           0,           0,           0,           0,           0,           0,           0,\n",
       "                  0,           0,           0,           0,           0,           0,           0,           0,           0,           0,           0]]), 'Confidence', 'Recall']]\n",
       "fitness: 0.5475322563063031\n",
       "keys: ['metrics/precision(B)', 'metrics/recall(B)', 'metrics/mAP50(B)', 'metrics/mAP50-95(B)']\n",
       "maps: array([     0.5238])\n",
       "names: {0: 'handle'}\n",
       "plot: True\n",
       "results_dict: {'metrics/precision(B)': 0.8803830316988212, 'metrics/recall(B)': 0.6724137931034483, 'metrics/mAP50(B)': 0.7611107861391478, 'metrics/mAP50-95(B)': 0.5238013085470982, 'fitness': 0.5475322563063031}\n",
       "save_dir: PosixPath('yolov12_finetune/freeze_backbone3')\n",
       "speed: {'preprocess': 0.16263867100925308, 'inference': 2.1279466913101523, 'loss': 0.0002992914078083444, 'postprocess': 0.9736575133411597}\n",
       "task: 'detect'"
      ]
     },
     "execution_count": 2,
     "metadata": {},
     "output_type": "execute_result"
    }
   ],
   "source": [
    "# Main training function\n",
    "\n",
    "model.train(\n",
    "    data='/home/adil/yolo_v12n/dataset_door_handle/data.yaml',\n",
    "    epochs=100,\n",
    "    imgsz=640,\n",
    "    batch=16,\n",
    "    lr0=0.001,\n",
    "    project='yolov12_finetune',\n",
    "    name='freeze_backbone'\n",
    ")"
   ]
  },
  {
   "cell_type": "markdown",
   "metadata": {},
   "source": [
    "# Inference"
   ]
  },
  {
   "cell_type": "code",
   "execution_count": null,
   "metadata": {},
   "outputs": [
    {
     "name": "stdout",
     "output_type": "stream",
     "text": [
      "\n",
      "image 1/1 /home/adil/yolo_v12n/dataset_door_handle/test/images/01a4ebfc00807e0e_jpg.rf.79d72597726732761c65133c731fa82b.jpg: 640x640 1 handle, 10.6ms\n",
      "Speed: 1.3ms preprocess, 10.6ms inference, 0.8ms postprocess per image at shape (1, 3, 640, 640)\n"
     ]
    },
    {
     "data": {
      "text/plain": [
       "'output.jpg'"
      ]
     },
     "execution_count": 10,
     "metadata": {},
     "output_type": "execute_result"
    }
   ],
   "source": [
    "from ultralytics import YOLO\n",
    "\n",
    "model = YOLO('yolov12_finetune/freeze_backbone3/weights/best.pt')\n",
    "\n",
    "image_path = \"dataset_door_handle/test/images/01a4ebfc00807e0e_jpg.rf.79d72597726732761c65133c731fa82b.jpg\"     # path to image for inference\n",
    "\n",
    "\n",
    "results = model(image_path, conf=0.75)      \n",
    "results[0].show()\n",
    "results[0].save(filename='output.jpg')"
   ]
  },
  {
   "cell_type": "code",
   "execution_count": null,
   "metadata": {},
   "outputs": [],
   "source": []
  }
 ],
 "metadata": {
  "kernelspec": {
   "display_name": "yolov12",
   "language": "python",
   "name": "python3"
  },
  "language_info": {
   "codemirror_mode": {
    "name": "ipython",
    "version": 3
   },
   "file_extension": ".py",
   "mimetype": "text/x-python",
   "name": "python",
   "nbconvert_exporter": "python",
   "pygments_lexer": "ipython3",
   "version": "3.11.11"
  }
 },
 "nbformat": 4,
 "nbformat_minor": 2
}
